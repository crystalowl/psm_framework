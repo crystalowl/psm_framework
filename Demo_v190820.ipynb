{
 "cells": [
  {
   "cell_type": "markdown",
   "metadata": {},
   "source": [
    "## Step0. Package/Variable Setting"
   ]
  },
  {
   "cell_type": "code",
   "execution_count": 119,
   "metadata": {},
   "outputs": [],
   "source": [
    "import numpy as np\n",
    "import pandas as pd\n",
    "import sklearn.linear_model as linear_model\n",
    "from sklearn.neighbors import NearestNeighbors\n",
    "from sklearn.preprocessing import StandardScaler \n",
    "from pandas.api.types import is_string_dtype, is_numeric_dtype\n",
    "from sklearn_pandas import DataFrameMapper"
   ]
  },
  {
   "cell_type": "code",
   "execution_count": 44,
   "metadata": {},
   "outputs": [],
   "source": [
    "pd.set_option('display.max_rows', 50)\n",
    "pd.set_option('display.max_columns', 50)\n",
    "pd.set_option('display.width', 100)"
   ]
  },
  {
   "cell_type": "markdown",
   "metadata": {},
   "source": [
    "##  Step1. Estimation of Propensity Score"
   ]
  },
  {
   "cell_type": "markdown",
   "metadata": {
    "heading_collapsed": true
   },
   "source": [
    "### 1-1. Data Processing"
   ]
  },
  {
   "cell_type": "code",
   "execution_count": 69,
   "metadata": {
    "hidden": true
   },
   "outputs": [],
   "source": [
    "shop_profile = pd.read_csv('data/shopProfiling_v0820.csv', sep = ',')\n",
    "# deco_effect = "
   ]
  },
  {
   "cell_type": "code",
   "execution_count": 70,
   "metadata": {
    "hidden": true
   },
   "outputs": [
    {
     "name": "stdout",
     "output_type": "stream",
     "text": [
      "35588\n"
     ]
    },
    {
     "data": {
      "text/html": [
       "<div>\n",
       "<style scoped>\n",
       "    .dataframe tbody tr th:only-of-type {\n",
       "        vertical-align: middle;\n",
       "    }\n",
       "\n",
       "    .dataframe tbody tr th {\n",
       "        vertical-align: top;\n",
       "    }\n",
       "\n",
       "    .dataframe thead th {\n",
       "        text-align: right;\n",
       "    }\n",
       "</style>\n",
       "<table border=\"1\" class=\"dataframe\">\n",
       "  <thead>\n",
       "    <tr style=\"text-align: right;\">\n",
       "      <th></th>\n",
       "      <th>shopid</th>\n",
       "      <th>seller_type</th>\n",
       "      <th>rating_star</th>\n",
       "      <th>display_response_rate</th>\n",
       "      <th>sku</th>\n",
       "      <th>camp_flag</th>\n",
       "      <th>main_category</th>\n",
       "      <th>p30_gmv</th>\n",
       "      <th>p30_order_cnt</th>\n",
       "      <th>follower_count</th>\n",
       "      <th>Decorated</th>\n",
       "    </tr>\n",
       "  </thead>\n",
       "  <tbody>\n",
       "    <tr>\n",
       "      <th>0</th>\n",
       "      <td>65408</td>\n",
       "      <td>NS</td>\n",
       "      <td>4.90</td>\n",
       "      <td>89</td>\n",
       "      <td>745</td>\n",
       "      <td>N</td>\n",
       "      <td>Muslim Fashion</td>\n",
       "      <td>3202.70</td>\n",
       "      <td>51</td>\n",
       "      <td>264.0</td>\n",
       "      <td>0</td>\n",
       "    </tr>\n",
       "    <tr>\n",
       "      <th>1</th>\n",
       "      <td>439807</td>\n",
       "      <td>NS</td>\n",
       "      <td>4.17</td>\n",
       "      <td>65</td>\n",
       "      <td>9</td>\n",
       "      <td>N</td>\n",
       "      <td>Groceries &amp; Pets</td>\n",
       "      <td>329.04</td>\n",
       "      <td>6</td>\n",
       "      <td>101.0</td>\n",
       "      <td>0</td>\n",
       "    </tr>\n",
       "  </tbody>\n",
       "</table>\n",
       "</div>"
      ],
      "text/plain": [
       "   shopid seller_type  rating_star  display_response_rate  sku camp_flag  \\\n",
       "0   65408          NS         4.90                     89  745         N   \n",
       "1  439807          NS         4.17                     65    9         N   \n",
       "\n",
       "      main_category  p30_gmv  p30_order_cnt  follower_count  Decorated  \n",
       "0    Muslim Fashion  3202.70             51           264.0          0  \n",
       "1  Groceries & Pets   329.04              6           101.0          0  "
      ]
     },
     "execution_count": 70,
     "metadata": {},
     "output_type": "execute_result"
    }
   ],
   "source": [
    "print(len(shop_profile))\n",
    "shop_profile.head(2)"
   ]
  },
  {
   "cell_type": "code",
   "execution_count": 71,
   "metadata": {
    "hidden": true
   },
   "outputs": [
    {
     "data": {
      "text/plain": [
       "shopid                    0\n",
       "seller_type               0\n",
       "rating_star               0\n",
       "display_response_rate     0\n",
       "sku                       0\n",
       "camp_flag                 0\n",
       "main_category             0\n",
       "p30_gmv                   0\n",
       "p30_order_cnt             0\n",
       "follower_count           38\n",
       "Decorated                 0\n",
       "dtype: int64"
      ]
     },
     "execution_count": 71,
     "metadata": {},
     "output_type": "execute_result"
    }
   ],
   "source": [
    "# Check the null values\n",
    "shop_profile.isnull().sum()"
   ]
  },
  {
   "cell_type": "code",
   "execution_count": 72,
   "metadata": {
    "hidden": true
   },
   "outputs": [],
   "source": [
    "shop_profile.follower_count.fillna(value = 0, inplace = True)"
   ]
  },
  {
   "cell_type": "code",
   "execution_count": 7,
   "metadata": {
    "hidden": true
   },
   "outputs": [],
   "source": [
    "# Check\n",
    "# shop_profile.isnull().sum()"
   ]
  },
  {
   "cell_type": "code",
   "execution_count": 73,
   "metadata": {
    "hidden": true
   },
   "outputs": [
    {
     "data": {
      "text/plain": [
       "shopid                     int64\n",
       "seller_type               object\n",
       "rating_star              float64\n",
       "display_response_rate      int64\n",
       "sku                        int64\n",
       "camp_flag                 object\n",
       "main_category             object\n",
       "p30_gmv                  float64\n",
       "p30_order_cnt              int64\n",
       "follower_count           float64\n",
       "Decorated                  int64\n",
       "dtype: object"
      ]
     },
     "execution_count": 73,
     "metadata": {},
     "output_type": "execute_result"
    }
   ],
   "source": [
    "shop_profile.dtypes"
   ]
  },
  {
   "cell_type": "code",
   "execution_count": 74,
   "metadata": {
    "hidden": true
   },
   "outputs": [],
   "source": [
    "# shop_profile.columns.values\n",
    "num_cols = [n for n in shop_profile.columns if is_numeric_dtype(shop_profile[n])]\n",
    "str_cols = [n for n in shop_profile.columns if is_string_dtype(shop_profile[n])]\n",
    "drop_cols = ['shopid']\n",
    "y_cols = ['Decorated']"
   ]
  },
  {
   "cell_type": "code",
   "execution_count": 75,
   "metadata": {
    "hidden": true
   },
   "outputs": [
    {
     "data": {
      "text/html": [
       "<div>\n",
       "<style scoped>\n",
       "    .dataframe tbody tr th:only-of-type {\n",
       "        vertical-align: middle;\n",
       "    }\n",
       "\n",
       "    .dataframe tbody tr th {\n",
       "        vertical-align: top;\n",
       "    }\n",
       "\n",
       "    .dataframe thead th {\n",
       "        text-align: right;\n",
       "    }\n",
       "</style>\n",
       "<table border=\"1\" class=\"dataframe\">\n",
       "  <thead>\n",
       "    <tr style=\"text-align: right;\">\n",
       "      <th></th>\n",
       "      <th>shopid</th>\n",
       "      <th>seller_type</th>\n",
       "      <th>rating_star</th>\n",
       "      <th>display_response_rate</th>\n",
       "      <th>sku</th>\n",
       "      <th>camp_flag</th>\n",
       "      <th>main_category</th>\n",
       "      <th>p30_gmv</th>\n",
       "      <th>p30_order_cnt</th>\n",
       "      <th>follower_count</th>\n",
       "      <th>Decorated</th>\n",
       "    </tr>\n",
       "  </thead>\n",
       "  <tbody>\n",
       "    <tr>\n",
       "      <th>0</th>\n",
       "      <td>65408</td>\n",
       "      <td>NS</td>\n",
       "      <td>4.90</td>\n",
       "      <td>89</td>\n",
       "      <td>745</td>\n",
       "      <td>N</td>\n",
       "      <td>Muslim Fashion</td>\n",
       "      <td>3202.70</td>\n",
       "      <td>51</td>\n",
       "      <td>264.0</td>\n",
       "      <td>0</td>\n",
       "    </tr>\n",
       "    <tr>\n",
       "      <th>1</th>\n",
       "      <td>439807</td>\n",
       "      <td>NS</td>\n",
       "      <td>4.17</td>\n",
       "      <td>65</td>\n",
       "      <td>9</td>\n",
       "      <td>N</td>\n",
       "      <td>Groceries &amp; Pets</td>\n",
       "      <td>329.04</td>\n",
       "      <td>6</td>\n",
       "      <td>101.0</td>\n",
       "      <td>0</td>\n",
       "    </tr>\n",
       "  </tbody>\n",
       "</table>\n",
       "</div>"
      ],
      "text/plain": [
       "   shopid seller_type  rating_star  display_response_rate  sku camp_flag  \\\n",
       "0   65408          NS         4.90                     89  745         N   \n",
       "1  439807          NS         4.17                     65    9         N   \n",
       "\n",
       "      main_category  p30_gmv  p30_order_cnt  follower_count  Decorated  \n",
       "0    Muslim Fashion  3202.70             51           264.0          0  \n",
       "1  Groceries & Pets   329.04              6           101.0          0  "
      ]
     },
     "execution_count": 75,
     "metadata": {},
     "output_type": "execute_result"
    }
   ],
   "source": [
    "shop_profile.head(2)"
   ]
  },
  {
   "cell_type": "code",
   "execution_count": 77,
   "metadata": {
    "hidden": true
   },
   "outputs": [],
   "source": [
    "# Scale the numeric variables\n",
    "map_f = [([n],StandardScaler()) for n in shop_profile.drop(columns = str_cols + y_cols + drop_cols).columns]\n",
    "# map_f\n",
    "mapper = DataFrameMapper(map_f).fit(shop_profile)\n",
    "shop_profile[mapper.transformed_names_] = mapper.transform(shop_profile)"
   ]
  },
  {
   "cell_type": "code",
   "execution_count": 78,
   "metadata": {
    "hidden": true
   },
   "outputs": [
    {
     "data": {
      "text/html": [
       "<div>\n",
       "<style scoped>\n",
       "    .dataframe tbody tr th:only-of-type {\n",
       "        vertical-align: middle;\n",
       "    }\n",
       "\n",
       "    .dataframe tbody tr th {\n",
       "        vertical-align: top;\n",
       "    }\n",
       "\n",
       "    .dataframe thead th {\n",
       "        text-align: right;\n",
       "    }\n",
       "</style>\n",
       "<table border=\"1\" class=\"dataframe\">\n",
       "  <thead>\n",
       "    <tr style=\"text-align: right;\">\n",
       "      <th></th>\n",
       "      <th>shopid</th>\n",
       "      <th>seller_type</th>\n",
       "      <th>rating_star</th>\n",
       "      <th>display_response_rate</th>\n",
       "      <th>sku</th>\n",
       "      <th>camp_flag</th>\n",
       "      <th>main_category</th>\n",
       "      <th>p30_gmv</th>\n",
       "      <th>p30_order_cnt</th>\n",
       "      <th>follower_count</th>\n",
       "      <th>Decorated</th>\n",
       "    </tr>\n",
       "  </thead>\n",
       "  <tbody>\n",
       "    <tr>\n",
       "      <th>0</th>\n",
       "      <td>65408</td>\n",
       "      <td>NS</td>\n",
       "      <td>0.412848</td>\n",
       "      <td>0.340051</td>\n",
       "      <td>0.301299</td>\n",
       "      <td>N</td>\n",
       "      <td>Muslim Fashion</td>\n",
       "      <td>-0.148874</td>\n",
       "      <td>-0.162638</td>\n",
       "      <td>-0.269229</td>\n",
       "      <td>0</td>\n",
       "    </tr>\n",
       "    <tr>\n",
       "      <th>1</th>\n",
       "      <td>439807</td>\n",
       "      <td>NS</td>\n",
       "      <td>-4.337566</td>\n",
       "      <td>-1.812548</td>\n",
       "      <td>-0.403096</td>\n",
       "      <td>N</td>\n",
       "      <td>Groceries &amp; Pets</td>\n",
       "      <td>-0.244146</td>\n",
       "      <td>-0.261135</td>\n",
       "      <td>-0.315220</td>\n",
       "      <td>0</td>\n",
       "    </tr>\n",
       "  </tbody>\n",
       "</table>\n",
       "</div>"
      ],
      "text/plain": [
       "   shopid seller_type  rating_star  display_response_rate       sku camp_flag  \\\n",
       "0   65408          NS     0.412848               0.340051  0.301299         N   \n",
       "1  439807          NS    -4.337566              -1.812548 -0.403096         N   \n",
       "\n",
       "      main_category   p30_gmv  p30_order_cnt  follower_count  Decorated  \n",
       "0    Muslim Fashion -0.148874      -0.162638       -0.269229          0  \n",
       "1  Groceries & Pets -0.244146      -0.261135       -0.315220          0  "
      ]
     },
     "execution_count": 78,
     "metadata": {},
     "output_type": "execute_result"
    }
   ],
   "source": [
    "shop_profile.head(2)"
   ]
  },
  {
   "cell_type": "markdown",
   "metadata": {
    "hidden": true
   },
   "source": [
    "Concept of StandardScaler: After transformed, the average of features is 0 and s.t.d is 1."
   ]
  },
  {
   "cell_type": "code",
   "execution_count": 83,
   "metadata": {
    "hidden": true
   },
   "outputs": [],
   "source": [
    "# Transform the category variables to dummy variables\n",
    "for_model_df = pd.get_dummies(shop_profile.drop(columns = drop_cols))"
   ]
  },
  {
   "cell_type": "code",
   "execution_count": 85,
   "metadata": {
    "hidden": true
   },
   "outputs": [
    {
     "data": {
      "text/plain": [
       "(35588, 35)"
      ]
     },
     "execution_count": 85,
     "metadata": {},
     "output_type": "execute_result"
    }
   ],
   "source": [
    "for_model_df.shape"
   ]
  },
  {
   "cell_type": "markdown",
   "metadata": {},
   "source": [
    "### 1-2. Modeling"
   ]
  },
  {
   "cell_type": "code",
   "execution_count": 95,
   "metadata": {},
   "outputs": [],
   "source": [
    "X, y = for_model_df.drop(columns = y_cols), for_model_df[y_cols]"
   ]
  },
  {
   "cell_type": "code",
   "execution_count": 93,
   "metadata": {},
   "outputs": [
    {
     "data": {
      "text/plain": [
       "LogisticRegression(C=1.0, class_weight=None, dual=False, fit_intercept=True,\n",
       "          intercept_scaling=1, max_iter=100, multi_class='warn',\n",
       "          n_jobs=None, penalty='l2', random_state=None, solver='warn',\n",
       "          tol=0.0001, verbose=0, warm_start=False)"
      ]
     },
     "execution_count": 93,
     "metadata": {},
     "output_type": "execute_result"
    }
   ],
   "source": [
    "linear_model.LogisticRegression()"
   ]
  },
  {
   "cell_type": "code",
   "execution_count": 99,
   "metadata": {},
   "outputs": [
    {
     "name": "stderr",
     "output_type": "stream",
     "text": [
      "/home/ericwang/anaconda3/lib/python3.7/site-packages/sklearn/utils/validation.py:761: DataConversionWarning: A column-vector y was passed when a 1d array was expected. Please change the shape of y to (n_samples, ), for example using ravel().\n",
      "  y = column_or_1d(y, warn=True)\n"
     ]
    },
    {
     "data": {
      "text/plain": [
       "LogisticRegression(C=1.0, class_weight=None, dual=False, fit_intercept=True,\n",
       "          intercept_scaling=1, max_iter=100, multi_class='warn',\n",
       "          n_jobs=None, penalty='l2', random_state=None, solver='lbfgs',\n",
       "          tol=0.0001, verbose=0, warm_start=False)"
      ]
     },
     "execution_count": 99,
     "metadata": {},
     "output_type": "execute_result"
    }
   ],
   "source": [
    "propensity_score_model = linear_model.LogisticRegression(solver=\"lbfgs\")\n",
    "propensity_score_model.fit(X, y)"
   ]
  },
  {
   "cell_type": "code",
   "execution_count": 101,
   "metadata": {},
   "outputs": [
    {
     "data": {
      "text/plain": [
       "array([0.01537847, 0.00550019, 0.02089876, ..., 0.01913074, 0.01553651,\n",
       "       0.00720634])"
      ]
     },
     "execution_count": 101,
     "metadata": {},
     "output_type": "execute_result"
    }
   ],
   "source": [
    "propensity_score_model.predict_proba(X)[:,1]"
   ]
  },
  {
   "cell_type": "code",
   "execution_count": 108,
   "metadata": {},
   "outputs": [],
   "source": [
    "# accuracy = propensity_score_model.score(X, y)\n",
    "# print('The accuracy is: ' + str(accuracy *100) + '%')"
   ]
  },
  {
   "cell_type": "markdown",
   "metadata": {},
   "source": [
    "If the data is sufficient, I think the propensity model still need to be verify like the general ML model."
   ]
  },
  {
   "cell_type": "markdown",
   "metadata": {},
   "source": [
    "## Step2. Choose Matching algorithm"
   ]
  },
  {
   "cell_type": "code",
   "execution_count": 129,
   "metadata": {},
   "outputs": [],
   "source": [
    "for_causal_df = for_model_df.copy()\n",
    "for_causal_df['propensity_score'] = propensity_score_model.predict_proba(X)[:,1]"
   ]
  },
  {
   "cell_type": "code",
   "execution_count": 130,
   "metadata": {},
   "outputs": [
    {
     "data": {
      "text/html": [
       "<div>\n",
       "<style scoped>\n",
       "    .dataframe tbody tr th:only-of-type {\n",
       "        vertical-align: middle;\n",
       "    }\n",
       "\n",
       "    .dataframe tbody tr th {\n",
       "        vertical-align: top;\n",
       "    }\n",
       "\n",
       "    .dataframe thead th {\n",
       "        text-align: right;\n",
       "    }\n",
       "</style>\n",
       "<table border=\"1\" class=\"dataframe\">\n",
       "  <thead>\n",
       "    <tr style=\"text-align: right;\">\n",
       "      <th></th>\n",
       "      <th>rating_star</th>\n",
       "      <th>display_response_rate</th>\n",
       "      <th>sku</th>\n",
       "      <th>p30_gmv</th>\n",
       "      <th>p30_order_cnt</th>\n",
       "      <th>follower_count</th>\n",
       "      <th>Decorated</th>\n",
       "      <th>seller_type_NS</th>\n",
       "      <th>seller_type_OS</th>\n",
       "      <th>seller_type_PS</th>\n",
       "      <th>...</th>\n",
       "      <th>main_category_Muslim Fashion</th>\n",
       "      <th>main_category_Others</th>\n",
       "      <th>main_category_Sports &amp; Outdoor</th>\n",
       "      <th>main_category_Tickets &amp; Vouchers</th>\n",
       "      <th>main_category_Travel &amp; Luggage</th>\n",
       "      <th>main_category_Watches</th>\n",
       "      <th>main_category_Women Clothes</th>\n",
       "      <th>main_category_Women Shoes</th>\n",
       "      <th>main_category_Women's Bags</th>\n",
       "      <th>propensity_score</th>\n",
       "    </tr>\n",
       "  </thead>\n",
       "  <tbody>\n",
       "    <tr>\n",
       "      <th>0</th>\n",
       "      <td>0.412848</td>\n",
       "      <td>0.340051</td>\n",
       "      <td>0.301299</td>\n",
       "      <td>-0.148874</td>\n",
       "      <td>-0.162638</td>\n",
       "      <td>-0.269229</td>\n",
       "      <td>0</td>\n",
       "      <td>1</td>\n",
       "      <td>0</td>\n",
       "      <td>0</td>\n",
       "      <td>...</td>\n",
       "      <td>1</td>\n",
       "      <td>0</td>\n",
       "      <td>0</td>\n",
       "      <td>0</td>\n",
       "      <td>0</td>\n",
       "      <td>0</td>\n",
       "      <td>0</td>\n",
       "      <td>0</td>\n",
       "      <td>0</td>\n",
       "      <td>0.015378</td>\n",
       "    </tr>\n",
       "    <tr>\n",
       "      <th>1</th>\n",
       "      <td>-4.337566</td>\n",
       "      <td>-1.812548</td>\n",
       "      <td>-0.403096</td>\n",
       "      <td>-0.244146</td>\n",
       "      <td>-0.261135</td>\n",
       "      <td>-0.315220</td>\n",
       "      <td>0</td>\n",
       "      <td>1</td>\n",
       "      <td>0</td>\n",
       "      <td>0</td>\n",
       "      <td>...</td>\n",
       "      <td>0</td>\n",
       "      <td>0</td>\n",
       "      <td>0</td>\n",
       "      <td>0</td>\n",
       "      <td>0</td>\n",
       "      <td>0</td>\n",
       "      <td>0</td>\n",
       "      <td>0</td>\n",
       "      <td>0</td>\n",
       "      <td>0.005500</td>\n",
       "    </tr>\n",
       "    <tr>\n",
       "      <th>2</th>\n",
       "      <td>0.217626</td>\n",
       "      <td>0.429742</td>\n",
       "      <td>-0.311218</td>\n",
       "      <td>-0.185433</td>\n",
       "      <td>-0.252380</td>\n",
       "      <td>0.010385</td>\n",
       "      <td>0</td>\n",
       "      <td>1</td>\n",
       "      <td>0</td>\n",
       "      <td>0</td>\n",
       "      <td>...</td>\n",
       "      <td>0</td>\n",
       "      <td>0</td>\n",
       "      <td>0</td>\n",
       "      <td>0</td>\n",
       "      <td>0</td>\n",
       "      <td>0</td>\n",
       "      <td>0</td>\n",
       "      <td>0</td>\n",
       "      <td>0</td>\n",
       "      <td>0.020899</td>\n",
       "    </tr>\n",
       "  </tbody>\n",
       "</table>\n",
       "<p>3 rows × 36 columns</p>\n",
       "</div>"
      ],
      "text/plain": [
       "   rating_star  display_response_rate       sku   p30_gmv  p30_order_cnt  \\\n",
       "0     0.412848               0.340051  0.301299 -0.148874      -0.162638   \n",
       "1    -4.337566              -1.812548 -0.403096 -0.244146      -0.261135   \n",
       "2     0.217626               0.429742 -0.311218 -0.185433      -0.252380   \n",
       "\n",
       "   follower_count  Decorated  seller_type_NS  seller_type_OS  seller_type_PS  \\\n",
       "0       -0.269229          0               1               0               0   \n",
       "1       -0.315220          0               1               0               0   \n",
       "2        0.010385          0               1               0               0   \n",
       "\n",
       "   ...  main_category_Muslim Fashion  main_category_Others  \\\n",
       "0  ...                             1                     0   \n",
       "1  ...                             0                     0   \n",
       "2  ...                             0                     0   \n",
       "\n",
       "   main_category_Sports & Outdoor  main_category_Tickets & Vouchers  \\\n",
       "0                               0                                 0   \n",
       "1                               0                                 0   \n",
       "2                               0                                 0   \n",
       "\n",
       "   main_category_Travel & Luggage  main_category_Watches  \\\n",
       "0                               0                      0   \n",
       "1                               0                      0   \n",
       "2                               0                      0   \n",
       "\n",
       "   main_category_Women Clothes  main_category_Women Shoes  \\\n",
       "0                            0                          0   \n",
       "1                            0                          0   \n",
       "2                            0                          0   \n",
       "\n",
       "   main_category_Women's Bags  propensity_score  \n",
       "0                           0          0.015378  \n",
       "1                           0          0.005500  \n",
       "2                           0          0.020899  \n",
       "\n",
       "[3 rows x 36 columns]"
      ]
     },
     "execution_count": 130,
     "metadata": {},
     "output_type": "execute_result"
    }
   ],
   "source": [
    "for_causal_df.head(3)"
   ]
  },
  {
   "cell_type": "code",
   "execution_count": 131,
   "metadata": {},
   "outputs": [],
   "source": [
    "treated = for_causal_df.loc[for_causal_df['Decorated'] == 1]\n",
    "control = for_causal_df.loc[for_causal_df['Decorated'] == 0]"
   ]
  },
  {
   "cell_type": "code",
   "execution_count": 132,
   "metadata": {},
   "outputs": [
    {
     "name": "stdout",
     "output_type": "stream",
     "text": [
      "(35588, 36) = (1242, 36) (34346, 36)\n"
     ]
    }
   ],
   "source": [
    "print(for_causal_df.shape, '=' ,treated.shape, control.shape)"
   ]
  },
  {
   "cell_type": "code",
   "execution_count": 133,
   "metadata": {},
   "outputs": [],
   "source": [
    "control_neighbors = (\n",
    "    NearestNeighbors(n_neighbors=1, algorithm='ball_tree')\n",
    "    .fit(control['propensity_score'].values.reshape(-1, 1))\n",
    ")\n",
    "distances, indices = control_neighbors.kneighbors(treated['propensity_score'].values.reshape(-1, 1))"
   ]
  },
  {
   "cell_type": "code",
   "execution_count": 134,
   "metadata": {},
   "outputs": [
    {
     "data": {
      "text/plain": [
       "1242"
      ]
     },
     "execution_count": 134,
     "metadata": {},
     "output_type": "execute_result"
    }
   ],
   "source": [
    "len(indices)"
   ]
  },
  {
   "cell_type": "code",
   "execution_count": 137,
   "metadata": {},
   "outputs": [
    {
     "data": {
      "text/plain": [
       "array([[26883],\n",
       "       [29573],\n",
       "       [19843],\n",
       "       ...,\n",
       "       [31253],\n",
       "       [31253],\n",
       "       [31253]])"
      ]
     },
     "execution_count": 137,
     "metadata": {},
     "output_type": "execute_result"
    }
   ],
   "source": [
    "indices\n",
    "# Question: How to conduct the replacement sampling?"
   ]
  },
  {
   "cell_type": "code",
   "execution_count": 136,
   "metadata": {},
   "outputs": [],
   "source": [
    "# control.iloc[indices[:, 0]]"
   ]
  },
  {
   "cell_type": "code",
   "execution_count": null,
   "metadata": {},
   "outputs": [],
   "source": []
  },
  {
   "cell_type": "markdown",
   "metadata": {
    "heading_collapsed": true
   },
   "source": [
    "## Step3. Check overlap and common support"
   ]
  },
  {
   "cell_type": "code",
   "execution_count": null,
   "metadata": {
    "hidden": true
   },
   "outputs": [],
   "source": []
  },
  {
   "cell_type": "code",
   "execution_count": null,
   "metadata": {
    "hidden": true
   },
   "outputs": [],
   "source": []
  },
  {
   "cell_type": "markdown",
   "metadata": {
    "heading_collapsed": true
   },
   "source": [
    "## Step4. Assessing the Matching Quality"
   ]
  },
  {
   "cell_type": "code",
   "execution_count": null,
   "metadata": {
    "hidden": true
   },
   "outputs": [],
   "source": []
  },
  {
   "cell_type": "code",
   "execution_count": null,
   "metadata": {
    "hidden": true
   },
   "outputs": [],
   "source": []
  },
  {
   "cell_type": "markdown",
   "metadata": {
    "heading_collapsed": true
   },
   "source": [
    "## Step5. Sensitivity Analysis"
   ]
  },
  {
   "cell_type": "code",
   "execution_count": null,
   "metadata": {
    "hidden": true
   },
   "outputs": [],
   "source": []
  },
  {
   "cell_type": "code",
   "execution_count": null,
   "metadata": {
    "hidden": true
   },
   "outputs": [],
   "source": []
  }
 ],
 "metadata": {
  "kernelspec": {
   "display_name": "Python 3",
   "language": "python",
   "name": "python3"
  },
  "language_info": {
   "codemirror_mode": {
    "name": "ipython",
    "version": 3
   },
   "file_extension": ".py",
   "mimetype": "text/x-python",
   "name": "python",
   "nbconvert_exporter": "python",
   "pygments_lexer": "ipython3",
   "version": "3.7.3"
  }
 },
 "nbformat": 4,
 "nbformat_minor": 2
}
