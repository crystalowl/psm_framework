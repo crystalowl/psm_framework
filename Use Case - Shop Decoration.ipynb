{
 "cells": [
  {
   "cell_type": "markdown",
   "metadata": {
    "heading_collapsed": true
   },
   "source": [
    "## Problem Definition: Causal Graph - ok"
   ]
  },
  {
   "cell_type": "markdown",
   "metadata": {
    "hidden": true
   },
   "source": [
    "<img src=\"graph/causalGraph_v0820.png\" width = \"800\">"
   ]
  },
  {
   "cell_type": "markdown",
   "metadata": {
    "heading_collapsed": true
   },
   "source": [
    "## Step0. Package/Variable Setting - ok"
   ]
  },
  {
   "cell_type": "code",
   "execution_count": 201,
   "metadata": {
    "hidden": true
   },
   "outputs": [],
   "source": [
    "import numpy as np\n",
    "import pandas as pd\n",
    "import sklearn.linear_model as linear_model\n",
    "import statsmodels.discrete.discrete_model as sm\n",
    "import matplotlib.pyplot as plt\n",
    "import seaborn as sns\n",
    "%matplotlib inline\n",
    "from scipy import stats\n",
    "from patsy import dmatrices\n",
    "from sklearn.neighbors import NearestNeighbors\n",
    "from sklearn.preprocessing import StandardScaler, Normalizer\n",
    "from pandas.api.types import is_string_dtype, is_numeric_dtype\n",
    "from sklearn_pandas import DataFrameMapper\n",
    "from sklearn.metrics import roc_auc_score, confusion_matrix, classification_report"
   ]
  },
  {
   "cell_type": "code",
   "execution_count": 2,
   "metadata": {
    "hidden": true
   },
   "outputs": [],
   "source": [
    "pd.set_option('display.max_rows', 50)\n",
    "pd.set_option('display.max_columns', 50)\n",
    "pd.set_option('display.width', 100)"
   ]
  },
  {
   "cell_type": "markdown",
   "metadata": {},
   "source": [
    "##  Step1. Estimation of Propensity Score - ok"
   ]
  },
  {
   "cell_type": "markdown",
   "metadata": {
    "heading_collapsed": true
   },
   "source": [
    "### 1-1. Data Processing"
   ]
  },
  {
   "cell_type": "code",
   "execution_count": 3,
   "metadata": {
    "hidden": true
   },
   "outputs": [],
   "source": [
    "trn_df = pd.read_csv('data/MY_shopProfiling+Effects.csv', sep = ',')\n",
    "tst_df = pd.read_csv('data/ID_shopProfiling.csv', sep = ',')"
   ]
  },
  {
   "cell_type": "code",
   "execution_count": 4,
   "metadata": {
    "hidden": true
   },
   "outputs": [
    {
     "name": "stdout",
     "output_type": "stream",
     "text": [
      "(35588, 13) (128285, 11)\n"
     ]
    },
    {
     "data": {
      "text/html": [
       "<div>\n",
       "<style scoped>\n",
       "    .dataframe tbody tr th:only-of-type {\n",
       "        vertical-align: middle;\n",
       "    }\n",
       "\n",
       "    .dataframe tbody tr th {\n",
       "        vertical-align: top;\n",
       "    }\n",
       "\n",
       "    .dataframe thead th {\n",
       "        text-align: right;\n",
       "    }\n",
       "</style>\n",
       "<table border=\"1\" class=\"dataframe\">\n",
       "  <thead>\n",
       "    <tr style=\"text-align: right;\">\n",
       "      <th></th>\n",
       "      <th>shopid</th>\n",
       "      <th>seller_type</th>\n",
       "      <th>rating_star</th>\n",
       "      <th>display_response_rate</th>\n",
       "      <th>sku</th>\n",
       "      <th>camp_flag</th>\n",
       "      <th>main_category</th>\n",
       "      <th>p30_gmv</th>\n",
       "      <th>p30_order_cnt</th>\n",
       "      <th>follower_count</th>\n",
       "      <th>Decorated</th>\n",
       "      <th>Clicks_pre_User_Before</th>\n",
       "      <th>Clicks_pre_User_After</th>\n",
       "    </tr>\n",
       "  </thead>\n",
       "  <tbody>\n",
       "    <tr>\n",
       "      <th>0</th>\n",
       "      <td>65408</td>\n",
       "      <td>NS</td>\n",
       "      <td>4.90</td>\n",
       "      <td>89</td>\n",
       "      <td>745</td>\n",
       "      <td>N</td>\n",
       "      <td>Muslim Fashion</td>\n",
       "      <td>3202.70</td>\n",
       "      <td>51</td>\n",
       "      <td>264.0</td>\n",
       "      <td>0</td>\n",
       "      <td>0.0</td>\n",
       "      <td>2.5</td>\n",
       "    </tr>\n",
       "    <tr>\n",
       "      <th>1</th>\n",
       "      <td>439807</td>\n",
       "      <td>NS</td>\n",
       "      <td>4.17</td>\n",
       "      <td>65</td>\n",
       "      <td>9</td>\n",
       "      <td>N</td>\n",
       "      <td>Groceries &amp; Pets</td>\n",
       "      <td>329.04</td>\n",
       "      <td>6</td>\n",
       "      <td>101.0</td>\n",
       "      <td>0</td>\n",
       "      <td>0.0</td>\n",
       "      <td>0.0</td>\n",
       "    </tr>\n",
       "  </tbody>\n",
       "</table>\n",
       "</div>"
      ],
      "text/plain": [
       "   shopid seller_type  rating_star  display_response_rate  sku camp_flag     main_category  \\\n",
       "0   65408          NS         4.90                     89  745         N    Muslim Fashion   \n",
       "1  439807          NS         4.17                     65    9         N  Groceries & Pets   \n",
       "\n",
       "   p30_gmv  p30_order_cnt  follower_count  Decorated  Clicks_pre_User_Before  \\\n",
       "0  3202.70             51           264.0          0                     0.0   \n",
       "1   329.04              6           101.0          0                     0.0   \n",
       "\n",
       "   Clicks_pre_User_After  \n",
       "0                    2.5  \n",
       "1                    0.0  "
      ]
     },
     "execution_count": 4,
     "metadata": {},
     "output_type": "execute_result"
    }
   ],
   "source": [
    "print(trn_df.shape, tst_df.shape)\n",
    "trn_df.head(2)"
   ]
  },
  {
   "cell_type": "code",
   "execution_count": 5,
   "metadata": {
    "hidden": true
   },
   "outputs": [
    {
     "data": {
      "text/html": [
       "<div>\n",
       "<style scoped>\n",
       "    .dataframe tbody tr th:only-of-type {\n",
       "        vertical-align: middle;\n",
       "    }\n",
       "\n",
       "    .dataframe tbody tr th {\n",
       "        vertical-align: top;\n",
       "    }\n",
       "\n",
       "    .dataframe thead th {\n",
       "        text-align: right;\n",
       "    }\n",
       "</style>\n",
       "<table border=\"1\" class=\"dataframe\">\n",
       "  <thead>\n",
       "    <tr style=\"text-align: right;\">\n",
       "      <th></th>\n",
       "      <th>trn_df</th>\n",
       "      <th>tst_df</th>\n",
       "    </tr>\n",
       "  </thead>\n",
       "  <tbody>\n",
       "    <tr>\n",
       "      <th>shopid</th>\n",
       "      <td>0.0</td>\n",
       "      <td>0.0</td>\n",
       "    </tr>\n",
       "    <tr>\n",
       "      <th>seller_type</th>\n",
       "      <td>0.0</td>\n",
       "      <td>0.0</td>\n",
       "    </tr>\n",
       "    <tr>\n",
       "      <th>rating_star</th>\n",
       "      <td>0.0</td>\n",
       "      <td>0.0</td>\n",
       "    </tr>\n",
       "    <tr>\n",
       "      <th>display_response_rate</th>\n",
       "      <td>0.0</td>\n",
       "      <td>0.0</td>\n",
       "    </tr>\n",
       "    <tr>\n",
       "      <th>sku</th>\n",
       "      <td>0.0</td>\n",
       "      <td>0.0</td>\n",
       "    </tr>\n",
       "    <tr>\n",
       "      <th>camp_flag</th>\n",
       "      <td>0.0</td>\n",
       "      <td>0.0</td>\n",
       "    </tr>\n",
       "    <tr>\n",
       "      <th>main_category</th>\n",
       "      <td>0.0</td>\n",
       "      <td>0.0</td>\n",
       "    </tr>\n",
       "    <tr>\n",
       "      <th>p30_gmv</th>\n",
       "      <td>0.0</td>\n",
       "      <td>0.0</td>\n",
       "    </tr>\n",
       "    <tr>\n",
       "      <th>p30_order_cnt</th>\n",
       "      <td>0.0</td>\n",
       "      <td>0.0</td>\n",
       "    </tr>\n",
       "    <tr>\n",
       "      <th>follower_count</th>\n",
       "      <td>38.0</td>\n",
       "      <td>0.0</td>\n",
       "    </tr>\n",
       "    <tr>\n",
       "      <th>Decorated</th>\n",
       "      <td>0.0</td>\n",
       "      <td>0.0</td>\n",
       "    </tr>\n",
       "    <tr>\n",
       "      <th>Clicks_pre_User_Before</th>\n",
       "      <td>0.0</td>\n",
       "      <td>NaN</td>\n",
       "    </tr>\n",
       "    <tr>\n",
       "      <th>Clicks_pre_User_After</th>\n",
       "      <td>0.0</td>\n",
       "      <td>NaN</td>\n",
       "    </tr>\n",
       "  </tbody>\n",
       "</table>\n",
       "</div>"
      ],
      "text/plain": [
       "                        trn_df  tst_df\n",
       "shopid                     0.0     0.0\n",
       "seller_type                0.0     0.0\n",
       "rating_star                0.0     0.0\n",
       "display_response_rate      0.0     0.0\n",
       "sku                        0.0     0.0\n",
       "camp_flag                  0.0     0.0\n",
       "main_category              0.0     0.0\n",
       "p30_gmv                    0.0     0.0\n",
       "p30_order_cnt              0.0     0.0\n",
       "follower_count            38.0     0.0\n",
       "Decorated                  0.0     0.0\n",
       "Clicks_pre_User_Before     0.0     NaN\n",
       "Clicks_pre_User_After      0.0     NaN"
      ]
     },
     "execution_count": 5,
     "metadata": {},
     "output_type": "execute_result"
    }
   ],
   "source": [
    "# Check the null values\n",
    "pd.DataFrame(data = [trn_df.isnull().sum(), tst_df.isnull().sum()], index=['trn_df','tst_df']).T"
   ]
  },
  {
   "cell_type": "code",
   "execution_count": 6,
   "metadata": {
    "hidden": true
   },
   "outputs": [],
   "source": [
    "trn_df.follower_count.fillna(value = 0, inplace = True)"
   ]
  },
  {
   "cell_type": "code",
   "execution_count": 7,
   "metadata": {
    "hidden": true
   },
   "outputs": [],
   "source": [
    "# Check\n",
    "# pd.DataFrame(data = [trn_df.isnull().sum(), tst_df.isnull().sum()], index=['trn_df','tst_df']).T"
   ]
  },
  {
   "cell_type": "code",
   "execution_count": 7,
   "metadata": {
    "hidden": true
   },
   "outputs": [
    {
     "data": {
      "text/plain": [
       "shopid                      int64\n",
       "seller_type                object\n",
       "rating_star               float64\n",
       "display_response_rate       int64\n",
       "sku                         int64\n",
       "camp_flag                  object\n",
       "main_category              object\n",
       "p30_gmv                   float64\n",
       "p30_order_cnt               int64\n",
       "follower_count            float64\n",
       "Decorated                   int64\n",
       "Clicks_pre_User_Before    float64\n",
       "Clicks_pre_User_After     float64\n",
       "dtype: object"
      ]
     },
     "execution_count": 7,
     "metadata": {},
     "output_type": "execute_result"
    }
   ],
   "source": [
    "trn_df.dtypes"
   ]
  },
  {
   "cell_type": "code",
   "execution_count": 8,
   "metadata": {
    "hidden": true
   },
   "outputs": [],
   "source": [
    "# shop_profile.columns.values\n",
    "num_cols = [n for n in trn_df.columns if is_numeric_dtype(trn_df[n])]\n",
    "str_cols = [n for n in trn_df.columns if is_string_dtype(trn_df[n])]\n",
    "\n",
    "# Drop main category due to difference of categories between MY and ID\n",
    "drop_cols = ['shopid', 'Clicks_pre_User_Before', 'Clicks_pre_User_After', 'main_category']\n",
    "y_cols = ['Decorated']"
   ]
  },
  {
   "cell_type": "code",
   "execution_count": 9,
   "metadata": {
    "hidden": true
   },
   "outputs": [
    {
     "data": {
      "text/html": [
       "<div>\n",
       "<style scoped>\n",
       "    .dataframe tbody tr th:only-of-type {\n",
       "        vertical-align: middle;\n",
       "    }\n",
       "\n",
       "    .dataframe tbody tr th {\n",
       "        vertical-align: top;\n",
       "    }\n",
       "\n",
       "    .dataframe thead th {\n",
       "        text-align: right;\n",
       "    }\n",
       "</style>\n",
       "<table border=\"1\" class=\"dataframe\">\n",
       "  <thead>\n",
       "    <tr style=\"text-align: right;\">\n",
       "      <th></th>\n",
       "      <th>shopid</th>\n",
       "      <th>seller_type</th>\n",
       "      <th>rating_star</th>\n",
       "      <th>display_response_rate</th>\n",
       "      <th>sku</th>\n",
       "      <th>camp_flag</th>\n",
       "      <th>main_category</th>\n",
       "      <th>p30_gmv</th>\n",
       "      <th>p30_order_cnt</th>\n",
       "      <th>follower_count</th>\n",
       "      <th>Decorated</th>\n",
       "      <th>Clicks_pre_User_Before</th>\n",
       "      <th>Clicks_pre_User_After</th>\n",
       "    </tr>\n",
       "  </thead>\n",
       "  <tbody>\n",
       "    <tr>\n",
       "      <th>0</th>\n",
       "      <td>65408</td>\n",
       "      <td>NS</td>\n",
       "      <td>4.90</td>\n",
       "      <td>89</td>\n",
       "      <td>745</td>\n",
       "      <td>N</td>\n",
       "      <td>Muslim Fashion</td>\n",
       "      <td>3202.70</td>\n",
       "      <td>51</td>\n",
       "      <td>264.0</td>\n",
       "      <td>0</td>\n",
       "      <td>0.0</td>\n",
       "      <td>2.5</td>\n",
       "    </tr>\n",
       "    <tr>\n",
       "      <th>1</th>\n",
       "      <td>439807</td>\n",
       "      <td>NS</td>\n",
       "      <td>4.17</td>\n",
       "      <td>65</td>\n",
       "      <td>9</td>\n",
       "      <td>N</td>\n",
       "      <td>Groceries &amp; Pets</td>\n",
       "      <td>329.04</td>\n",
       "      <td>6</td>\n",
       "      <td>101.0</td>\n",
       "      <td>0</td>\n",
       "      <td>0.0</td>\n",
       "      <td>0.0</td>\n",
       "    </tr>\n",
       "  </tbody>\n",
       "</table>\n",
       "</div>"
      ],
      "text/plain": [
       "   shopid seller_type  rating_star  display_response_rate  sku camp_flag     main_category  \\\n",
       "0   65408          NS         4.90                     89  745         N    Muslim Fashion   \n",
       "1  439807          NS         4.17                     65    9         N  Groceries & Pets   \n",
       "\n",
       "   p30_gmv  p30_order_cnt  follower_count  Decorated  Clicks_pre_User_Before  \\\n",
       "0  3202.70             51           264.0          0                     0.0   \n",
       "1   329.04              6           101.0          0                     0.0   \n",
       "\n",
       "   Clicks_pre_User_After  \n",
       "0                    2.5  \n",
       "1                    0.0  "
      ]
     },
     "execution_count": 9,
     "metadata": {},
     "output_type": "execute_result"
    }
   ],
   "source": [
    "trn_df.head(2)"
   ]
  },
  {
   "cell_type": "code",
   "execution_count": 16,
   "metadata": {
    "hidden": true
   },
   "outputs": [],
   "source": [
    "# trn_df.rating_star.hist()"
   ]
  },
  {
   "cell_type": "code",
   "execution_count": 17,
   "metadata": {
    "hidden": true
   },
   "outputs": [
    {
     "name": "stderr",
     "output_type": "stream",
     "text": [
      "/home/ericwang/anaconda3/lib/python3.7/site-packages/sklearn/utils/validation.py:595: DataConversionWarning: Data with input dtype int64 was converted to float64 by StandardScaler.\n",
      "  warnings.warn(msg, DataConversionWarning)\n",
      "/home/ericwang/anaconda3/lib/python3.7/site-packages/sklearn/utils/validation.py:595: DataConversionWarning: Data with input dtype int64 was converted to float64 by StandardScaler.\n",
      "  warnings.warn(msg, DataConversionWarning)\n",
      "/home/ericwang/anaconda3/lib/python3.7/site-packages/sklearn/utils/validation.py:595: DataConversionWarning: Data with input dtype int64 was converted to float64 by StandardScaler.\n",
      "  warnings.warn(msg, DataConversionWarning)\n",
      "/home/ericwang/anaconda3/lib/python3.7/site-packages/sklearn/utils/validation.py:595: DataConversionWarning: Data with input dtype int64 was converted to float64 by StandardScaler.\n",
      "  warnings.warn(msg, DataConversionWarning)\n",
      "/home/ericwang/anaconda3/lib/python3.7/site-packages/sklearn/utils/validation.py:595: DataConversionWarning: Data with input dtype int64 was converted to float64 by StandardScaler.\n",
      "  warnings.warn(msg, DataConversionWarning)\n",
      "/home/ericwang/anaconda3/lib/python3.7/site-packages/sklearn/utils/validation.py:595: DataConversionWarning: Data with input dtype int64 was converted to float64 by StandardScaler.\n",
      "  warnings.warn(msg, DataConversionWarning)\n"
     ]
    }
   ],
   "source": [
    "# Standardize the numeric variables\n",
    "map_f = [([n],StandardScaler()) for n in trn_df.drop(columns = str_cols + y_cols + drop_cols).columns]\n",
    "# map_f\n",
    "mapper = DataFrameMapper(map_f).fit(trn_df)\n",
    "trn_df_scaled = trn_df.copy()\n",
    "trn_df_scaled[mapper.transformed_names_] = mapper.transform(trn_df)"
   ]
  },
  {
   "cell_type": "code",
   "execution_count": 15,
   "metadata": {
    "hidden": true
   },
   "outputs": [],
   "source": [
    "# trn_df_scaled.rating_star.hist()"
   ]
  },
  {
   "cell_type": "code",
   "execution_count": 18,
   "metadata": {
    "hidden": true
   },
   "outputs": [
    {
     "data": {
      "text/html": [
       "<div>\n",
       "<style scoped>\n",
       "    .dataframe tbody tr th:only-of-type {\n",
       "        vertical-align: middle;\n",
       "    }\n",
       "\n",
       "    .dataframe tbody tr th {\n",
       "        vertical-align: top;\n",
       "    }\n",
       "\n",
       "    .dataframe thead th {\n",
       "        text-align: right;\n",
       "    }\n",
       "</style>\n",
       "<table border=\"1\" class=\"dataframe\">\n",
       "  <thead>\n",
       "    <tr style=\"text-align: right;\">\n",
       "      <th></th>\n",
       "      <th>shopid</th>\n",
       "      <th>seller_type</th>\n",
       "      <th>rating_star</th>\n",
       "      <th>display_response_rate</th>\n",
       "      <th>sku</th>\n",
       "      <th>camp_flag</th>\n",
       "      <th>main_category</th>\n",
       "      <th>p30_gmv</th>\n",
       "      <th>p30_order_cnt</th>\n",
       "      <th>follower_count</th>\n",
       "      <th>Decorated</th>\n",
       "      <th>Clicks_pre_User_Before</th>\n",
       "      <th>Clicks_pre_User_After</th>\n",
       "    </tr>\n",
       "  </thead>\n",
       "  <tbody>\n",
       "    <tr>\n",
       "      <th>0</th>\n",
       "      <td>65408</td>\n",
       "      <td>NS</td>\n",
       "      <td>0.412848</td>\n",
       "      <td>0.340051</td>\n",
       "      <td>0.301299</td>\n",
       "      <td>N</td>\n",
       "      <td>Muslim Fashion</td>\n",
       "      <td>-0.148874</td>\n",
       "      <td>-0.162638</td>\n",
       "      <td>-0.269229</td>\n",
       "      <td>0</td>\n",
       "      <td>0.0</td>\n",
       "      <td>2.5</td>\n",
       "    </tr>\n",
       "    <tr>\n",
       "      <th>1</th>\n",
       "      <td>439807</td>\n",
       "      <td>NS</td>\n",
       "      <td>-4.337566</td>\n",
       "      <td>-1.812548</td>\n",
       "      <td>-0.403096</td>\n",
       "      <td>N</td>\n",
       "      <td>Groceries &amp; Pets</td>\n",
       "      <td>-0.244146</td>\n",
       "      <td>-0.261135</td>\n",
       "      <td>-0.315220</td>\n",
       "      <td>0</td>\n",
       "      <td>0.0</td>\n",
       "      <td>0.0</td>\n",
       "    </tr>\n",
       "  </tbody>\n",
       "</table>\n",
       "</div>"
      ],
      "text/plain": [
       "   shopid seller_type  rating_star  display_response_rate       sku camp_flag     main_category  \\\n",
       "0   65408          NS     0.412848               0.340051  0.301299         N    Muslim Fashion   \n",
       "1  439807          NS    -4.337566              -1.812548 -0.403096         N  Groceries & Pets   \n",
       "\n",
       "    p30_gmv  p30_order_cnt  follower_count  Decorated  Clicks_pre_User_Before  \\\n",
       "0 -0.148874      -0.162638       -0.269229          0                     0.0   \n",
       "1 -0.244146      -0.261135       -0.315220          0                     0.0   \n",
       "\n",
       "   Clicks_pre_User_After  \n",
       "0                    2.5  \n",
       "1                    0.0  "
      ]
     },
     "execution_count": 18,
     "metadata": {},
     "output_type": "execute_result"
    }
   ],
   "source": [
    "trn_df_scaled.head(2)"
   ]
  },
  {
   "cell_type": "markdown",
   "metadata": {
    "hidden": true
   },
   "source": [
    "Concept of StandardScaler: After transformed, the average of features is 0 and std is 1."
   ]
  },
  {
   "cell_type": "code",
   "execution_count": 19,
   "metadata": {
    "hidden": true
   },
   "outputs": [
    {
     "name": "stdout",
     "output_type": "stream",
     "text": [
      "drop the following columns: ['shopid', 'Clicks_pre_User_Before', 'Clicks_pre_User_After', 'main_category']\n"
     ]
    }
   ],
   "source": [
    "# Transform the category variables to dummy variables\n",
    "print('drop the following columns:', drop_cols)\n",
    "for_model_df = pd.get_dummies(trn_df_scaled.drop(columns = drop_cols))"
   ]
  },
  {
   "cell_type": "code",
   "execution_count": 20,
   "metadata": {
    "hidden": true
   },
   "outputs": [
    {
     "name": "stdout",
     "output_type": "stream",
     "text": [
      "(35588, 12)\n"
     ]
    },
    {
     "data": {
      "text/html": [
       "<div>\n",
       "<style scoped>\n",
       "    .dataframe tbody tr th:only-of-type {\n",
       "        vertical-align: middle;\n",
       "    }\n",
       "\n",
       "    .dataframe tbody tr th {\n",
       "        vertical-align: top;\n",
       "    }\n",
       "\n",
       "    .dataframe thead th {\n",
       "        text-align: right;\n",
       "    }\n",
       "</style>\n",
       "<table border=\"1\" class=\"dataframe\">\n",
       "  <thead>\n",
       "    <tr style=\"text-align: right;\">\n",
       "      <th></th>\n",
       "      <th>rating_star</th>\n",
       "      <th>display_response_rate</th>\n",
       "      <th>sku</th>\n",
       "      <th>p30_gmv</th>\n",
       "      <th>p30_order_cnt</th>\n",
       "      <th>follower_count</th>\n",
       "      <th>Decorated</th>\n",
       "      <th>seller_type_NS</th>\n",
       "      <th>seller_type_OS</th>\n",
       "      <th>seller_type_PS</th>\n",
       "      <th>camp_flag_N</th>\n",
       "      <th>camp_flag_Y</th>\n",
       "    </tr>\n",
       "  </thead>\n",
       "  <tbody>\n",
       "    <tr>\n",
       "      <th>0</th>\n",
       "      <td>0.412848</td>\n",
       "      <td>0.340051</td>\n",
       "      <td>0.301299</td>\n",
       "      <td>-0.148874</td>\n",
       "      <td>-0.162638</td>\n",
       "      <td>-0.269229</td>\n",
       "      <td>0</td>\n",
       "      <td>1</td>\n",
       "      <td>0</td>\n",
       "      <td>0</td>\n",
       "      <td>1</td>\n",
       "      <td>0</td>\n",
       "    </tr>\n",
       "    <tr>\n",
       "      <th>1</th>\n",
       "      <td>-4.337566</td>\n",
       "      <td>-1.812548</td>\n",
       "      <td>-0.403096</td>\n",
       "      <td>-0.244146</td>\n",
       "      <td>-0.261135</td>\n",
       "      <td>-0.315220</td>\n",
       "      <td>0</td>\n",
       "      <td>1</td>\n",
       "      <td>0</td>\n",
       "      <td>0</td>\n",
       "      <td>1</td>\n",
       "      <td>0</td>\n",
       "    </tr>\n",
       "  </tbody>\n",
       "</table>\n",
       "</div>"
      ],
      "text/plain": [
       "   rating_star  display_response_rate       sku   p30_gmv  p30_order_cnt  follower_count  \\\n",
       "0     0.412848               0.340051  0.301299 -0.148874      -0.162638       -0.269229   \n",
       "1    -4.337566              -1.812548 -0.403096 -0.244146      -0.261135       -0.315220   \n",
       "\n",
       "   Decorated  seller_type_NS  seller_type_OS  seller_type_PS  camp_flag_N  camp_flag_Y  \n",
       "0          0               1               0               0            1            0  \n",
       "1          0               1               0               0            1            0  "
      ]
     },
     "execution_count": 20,
     "metadata": {},
     "output_type": "execute_result"
    }
   ],
   "source": [
    "print(for_model_df.shape)\n",
    "for_model_df.head(2)"
   ]
  },
  {
   "cell_type": "markdown",
   "metadata": {
    "heading_collapsed": true
   },
   "source": [
    "### 1-2. Modeling"
   ]
  },
  {
   "cell_type": "code",
   "execution_count": 21,
   "metadata": {
    "hidden": true
   },
   "outputs": [],
   "source": [
    "X, y = for_model_df.drop(columns = y_cols), for_model_df[y_cols]"
   ]
  },
  {
   "cell_type": "markdown",
   "metadata": {
    "heading_collapsed": true,
    "hidden": true
   },
   "source": [
    "#### 1-2-1. Logistic Regression"
   ]
  },
  {
   "cell_type": "code",
   "execution_count": 22,
   "metadata": {
    "hidden": true
   },
   "outputs": [
    {
     "name": "stderr",
     "output_type": "stream",
     "text": [
      "/home/ericwang/anaconda3/lib/python3.7/site-packages/sklearn/linear_model/logistic.py:433: FutureWarning: Default solver will be changed to 'lbfgs' in 0.22. Specify a solver to silence this warning.\n",
      "  FutureWarning)\n",
      "/home/ericwang/anaconda3/lib/python3.7/site-packages/sklearn/utils/validation.py:761: DataConversionWarning: A column-vector y was passed when a 1d array was expected. Please change the shape of y to (n_samples, ), for example using ravel().\n",
      "  y = column_or_1d(y, warn=True)\n"
     ]
    },
    {
     "data": {
      "text/plain": [
       "LogisticRegression(C=1.0, class_weight=None, dual=False, fit_intercept=True,\n",
       "          intercept_scaling=1, max_iter=100, multi_class='warn',\n",
       "          n_jobs=None, penalty='l2', random_state=None, solver='warn',\n",
       "          tol=0.0001, verbose=0, warm_start=False)"
      ]
     },
     "execution_count": 22,
     "metadata": {},
     "output_type": "execute_result"
    }
   ],
   "source": [
    "lor = linear_model.LogisticRegression()\n",
    "lor.fit(X, y)"
   ]
  },
  {
   "cell_type": "code",
   "execution_count": 23,
   "metadata": {
    "hidden": true
   },
   "outputs": [
    {
     "data": {
      "text/plain": [
       "array([0.01685413, 0.00576935, 0.01962342, ..., 0.01799453, 0.01419868,\n",
       "       0.01023979])"
      ]
     },
     "execution_count": 23,
     "metadata": {},
     "output_type": "execute_result"
    }
   ],
   "source": [
    "lor.predict_proba(X)[:,1]"
   ]
  },
  {
   "cell_type": "code",
   "execution_count": 24,
   "metadata": {
    "hidden": true
   },
   "outputs": [
    {
     "name": "stdout",
     "output_type": "stream",
     "text": [
      "[0.21312768]\n"
     ]
    },
    {
     "data": {
      "text/html": [
       "<div>\n",
       "<style scoped>\n",
       "    .dataframe tbody tr th:only-of-type {\n",
       "        vertical-align: middle;\n",
       "    }\n",
       "\n",
       "    .dataframe tbody tr th {\n",
       "        vertical-align: top;\n",
       "    }\n",
       "\n",
       "    .dataframe thead th {\n",
       "        text-align: right;\n",
       "    }\n",
       "</style>\n",
       "<table border=\"1\" class=\"dataframe\">\n",
       "  <thead>\n",
       "    <tr style=\"text-align: right;\">\n",
       "      <th></th>\n",
       "      <th>0</th>\n",
       "      <th>1</th>\n",
       "    </tr>\n",
       "  </thead>\n",
       "  <tbody>\n",
       "    <tr>\n",
       "      <th>0</th>\n",
       "      <td>rating_star</td>\n",
       "      <td>0.117954</td>\n",
       "    </tr>\n",
       "    <tr>\n",
       "      <th>1</th>\n",
       "      <td>display_response_rate</td>\n",
       "      <td>0.313364</td>\n",
       "    </tr>\n",
       "    <tr>\n",
       "      <th>2</th>\n",
       "      <td>sku</td>\n",
       "      <td>-0.167141</td>\n",
       "    </tr>\n",
       "    <tr>\n",
       "      <th>3</th>\n",
       "      <td>p30_gmv</td>\n",
       "      <td>-0.00558245</td>\n",
       "    </tr>\n",
       "    <tr>\n",
       "      <th>4</th>\n",
       "      <td>p30_order_cnt</td>\n",
       "      <td>-0.363279</td>\n",
       "    </tr>\n",
       "    <tr>\n",
       "      <th>5</th>\n",
       "      <td>follower_count</td>\n",
       "      <td>0.0525291</td>\n",
       "    </tr>\n",
       "    <tr>\n",
       "      <th>6</th>\n",
       "      <td>seller_type_NS</td>\n",
       "      <td>0.222823</td>\n",
       "    </tr>\n",
       "    <tr>\n",
       "      <th>7</th>\n",
       "      <td>seller_type_OS</td>\n",
       "      <td>0.02202</td>\n",
       "    </tr>\n",
       "    <tr>\n",
       "      <th>8</th>\n",
       "      <td>seller_type_PS</td>\n",
       "      <td>-0.0317153</td>\n",
       "    </tr>\n",
       "    <tr>\n",
       "      <th>9</th>\n",
       "      <td>camp_flag_N</td>\n",
       "      <td>-4.65278</td>\n",
       "    </tr>\n",
       "    <tr>\n",
       "      <th>10</th>\n",
       "      <td>camp_flag_Y</td>\n",
       "      <td>4.86591</td>\n",
       "    </tr>\n",
       "  </tbody>\n",
       "</table>\n",
       "</div>"
      ],
      "text/plain": [
       "                        0           1\n",
       "0             rating_star    0.117954\n",
       "1   display_response_rate    0.313364\n",
       "2                     sku   -0.167141\n",
       "3                 p30_gmv -0.00558245\n",
       "4           p30_order_cnt   -0.363279\n",
       "5          follower_count   0.0525291\n",
       "6          seller_type_NS    0.222823\n",
       "7          seller_type_OS     0.02202\n",
       "8          seller_type_PS  -0.0317153\n",
       "9             camp_flag_N    -4.65278\n",
       "10            camp_flag_Y     4.86591"
      ]
     },
     "execution_count": 24,
     "metadata": {},
     "output_type": "execute_result"
    }
   ],
   "source": [
    "print(lor.intercept_)\n",
    "pd.DataFrame(data = [X.columns.values, lor.coef_[0]]).T"
   ]
  },
  {
   "cell_type": "code",
   "execution_count": 25,
   "metadata": {
    "hidden": true
   },
   "outputs": [
    {
     "data": {
      "text/plain": [
       "0.8354485653386354"
      ]
     },
     "execution_count": 25,
     "metadata": {},
     "output_type": "execute_result"
    }
   ],
   "source": [
    "# AUC\n",
    "roc_auc_score(y, lor.predict_proba(X)[:,1])"
   ]
  },
  {
   "cell_type": "markdown",
   "metadata": {
    "heading_collapsed": true,
    "hidden": true
   },
   "source": [
    "#### 1-2-2. Logit"
   ]
  },
  {
   "cell_type": "markdown",
   "metadata": {
    "hidden": true
   },
   "source": [
    "<img src=\"graph/logit.svg\" width = \"500\">"
   ]
  },
  {
   "cell_type": "code",
   "execution_count": 26,
   "metadata": {
    "hidden": true
   },
   "outputs": [
    {
     "data": {
      "text/html": [
       "<div>\n",
       "<style scoped>\n",
       "    .dataframe tbody tr th:only-of-type {\n",
       "        vertical-align: middle;\n",
       "    }\n",
       "\n",
       "    .dataframe tbody tr th {\n",
       "        vertical-align: top;\n",
       "    }\n",
       "\n",
       "    .dataframe thead th {\n",
       "        text-align: right;\n",
       "    }\n",
       "</style>\n",
       "<table border=\"1\" class=\"dataframe\">\n",
       "  <thead>\n",
       "    <tr style=\"text-align: right;\">\n",
       "      <th></th>\n",
       "      <th>rating_star</th>\n",
       "      <th>display_response_rate</th>\n",
       "      <th>sku</th>\n",
       "      <th>p30_gmv</th>\n",
       "      <th>p30_order_cnt</th>\n",
       "      <th>follower_count</th>\n",
       "      <th>Decorated</th>\n",
       "      <th>seller_type_NS</th>\n",
       "      <th>seller_type_OS</th>\n",
       "      <th>seller_type_PS</th>\n",
       "      <th>camp_flag_N</th>\n",
       "      <th>camp_flag_Y</th>\n",
       "    </tr>\n",
       "  </thead>\n",
       "  <tbody>\n",
       "    <tr>\n",
       "      <th>0</th>\n",
       "      <td>0.412848</td>\n",
       "      <td>0.340051</td>\n",
       "      <td>0.301299</td>\n",
       "      <td>-0.148874</td>\n",
       "      <td>-0.162638</td>\n",
       "      <td>-0.269229</td>\n",
       "      <td>0</td>\n",
       "      <td>1</td>\n",
       "      <td>0</td>\n",
       "      <td>0</td>\n",
       "      <td>1</td>\n",
       "      <td>0</td>\n",
       "    </tr>\n",
       "  </tbody>\n",
       "</table>\n",
       "</div>"
      ],
      "text/plain": [
       "   rating_star  display_response_rate       sku   p30_gmv  p30_order_cnt  follower_count  \\\n",
       "0     0.412848               0.340051  0.301299 -0.148874      -0.162638       -0.269229   \n",
       "\n",
       "   Decorated  seller_type_NS  seller_type_OS  seller_type_PS  camp_flag_N  camp_flag_Y  \n",
       "0          0               1               0               0            1            0  "
      ]
     },
     "execution_count": 26,
     "metadata": {},
     "output_type": "execute_result"
    }
   ],
   "source": [
    "for_model_df.head(1)"
   ]
  },
  {
   "cell_type": "code",
   "execution_count": 27,
   "metadata": {
    "hidden": true
   },
   "outputs": [],
   "source": [
    "# Create the Intercept for logit\n",
    "_y, _X = dmatrices('Decorated ~ rating_star + display_response_rate + sku + p30_gmv + p30_order_cnt + follower_count + seller_type_NS + seller_type_OS + seller_type_PS + camp_flag_N + camp_flag_Y', \n",
    "                 for_model_df, return_type = 'dataframe')"
   ]
  },
  {
   "cell_type": "code",
   "execution_count": 28,
   "metadata": {
    "hidden": true
   },
   "outputs": [
    {
     "name": "stdout",
     "output_type": "stream",
     "text": [
      "Warning: Maximum number of iterations has been exceeded.\n",
      "         Current function value: 0.076492\n",
      "         Iterations: 35\n",
      "         Function evaluations: 36\n",
      "         Gradient evaluations: 36\n"
     ]
    },
    {
     "name": "stderr",
     "output_type": "stream",
     "text": [
      "/home/ericwang/anaconda3/lib/python3.7/site-packages/statsmodels/base/model.py:488: HessianInversionWarning: Inverting hessian failed, no bse or cov_params available\n",
      "  'available', HessianInversionWarning)\n",
      "/home/ericwang/anaconda3/lib/python3.7/site-packages/statsmodels/base/model.py:508: ConvergenceWarning: Maximum Likelihood optimization failed to converge. Check mle_retvals\n",
      "  \"Check mle_retvals\", ConvergenceWarning)\n"
     ]
    }
   ],
   "source": [
    "logit = sm.Logit(_y,_X).fit(method='bfgs')"
   ]
  },
  {
   "cell_type": "code",
   "execution_count": 29,
   "metadata": {
    "hidden": true
   },
   "outputs": [
    {
     "data": {
      "text/plain": [
       "Intercept                0.018557\n",
       "rating_star              0.141737\n",
       "display_response_rate    0.314615\n",
       "sku                     -0.196572\n",
       "p30_gmv                 -0.131135\n",
       "p30_order_cnt           -0.124562\n",
       "follower_count           0.034715\n",
       "seller_type_NS           0.456319\n",
       "seller_type_OS          -0.043288\n",
       "seller_type_PS          -0.394474\n",
       "camp_flag_N             -4.647814\n",
       "camp_flag_Y              4.666372\n",
       "dtype: float64"
      ]
     },
     "execution_count": 29,
     "metadata": {},
     "output_type": "execute_result"
    }
   ],
   "source": [
    "logit.params"
   ]
  },
  {
   "cell_type": "code",
   "execution_count": 30,
   "metadata": {
    "hidden": true
   },
   "outputs": [
    {
     "data": {
      "text/plain": [
       "0.8321786774786808"
      ]
     },
     "execution_count": 30,
     "metadata": {},
     "output_type": "execute_result"
    }
   ],
   "source": [
    "roc_auc_score(_y, logit.predict(_X))"
   ]
  },
  {
   "cell_type": "markdown",
   "metadata": {
    "heading_collapsed": true
   },
   "source": [
    "### 1-3. Model assessment"
   ]
  },
  {
   "cell_type": "markdown",
   "metadata": {
    "heading_collapsed": true,
    "hidden": true
   },
   "source": [
    "#### 1-3-1. Data Processing for tst_df"
   ]
  },
  {
   "cell_type": "code",
   "execution_count": 31,
   "metadata": {
    "hidden": true
   },
   "outputs": [
    {
     "name": "stderr",
     "output_type": "stream",
     "text": [
      "/home/ericwang/anaconda3/lib/python3.7/site-packages/sklearn/utils/validation.py:595: DataConversionWarning: Data with input dtype int64 was converted to float64 by StandardScaler.\n",
      "  warnings.warn(msg, DataConversionWarning)\n",
      "/home/ericwang/anaconda3/lib/python3.7/site-packages/sklearn/utils/validation.py:595: DataConversionWarning: Data with input dtype int64 was converted to float64 by StandardScaler.\n",
      "  warnings.warn(msg, DataConversionWarning)\n",
      "/home/ericwang/anaconda3/lib/python3.7/site-packages/sklearn/utils/validation.py:595: DataConversionWarning: Data with input dtype int64 was converted to float64 by StandardScaler.\n",
      "  warnings.warn(msg, DataConversionWarning)\n",
      "/home/ericwang/anaconda3/lib/python3.7/site-packages/sklearn/utils/validation.py:595: DataConversionWarning: Data with input dtype int64 was converted to float64 by StandardScaler.\n",
      "  warnings.warn(msg, DataConversionWarning)\n",
      "/home/ericwang/anaconda3/lib/python3.7/site-packages/sklearn/utils/validation.py:595: DataConversionWarning: Data with input dtype int64 was converted to float64 by StandardScaler.\n",
      "  warnings.warn(msg, DataConversionWarning)\n",
      "/home/ericwang/anaconda3/lib/python3.7/site-packages/sklearn/utils/validation.py:595: DataConversionWarning: Data with input dtype int64 was converted to float64 by StandardScaler.\n",
      "  warnings.warn(msg, DataConversionWarning)\n",
      "/home/ericwang/anaconda3/lib/python3.7/site-packages/sklearn/utils/validation.py:595: DataConversionWarning: Data with input dtype int64 was converted to float64 by StandardScaler.\n",
      "  warnings.warn(msg, DataConversionWarning)\n",
      "/home/ericwang/anaconda3/lib/python3.7/site-packages/sklearn/utils/validation.py:595: DataConversionWarning: Data with input dtype int64 was converted to float64 by StandardScaler.\n",
      "  warnings.warn(msg, DataConversionWarning)\n"
     ]
    },
    {
     "name": "stdout",
     "output_type": "stream",
     "text": [
      "drop the following columns: ['shopid', 'main_category']\n"
     ]
    }
   ],
   "source": [
    "# shop_profile.columns.values\n",
    "num_cols = [n for n in tst_df.columns if is_numeric_dtype(tst_df[n])]\n",
    "str_cols = [n for n in tst_df.columns if is_string_dtype(tst_df[n])]\n",
    "# Drop main category due to difference of categories between MY and ID\n",
    "drop_cols = ['shopid','main_category']\n",
    "y_cols = ['Decorated']\n",
    "\n",
    "\n",
    "# Standardize the numeric variables\n",
    "map_f = [([n],StandardScaler()) for n in tst_df.drop(columns = str_cols + y_cols + drop_cols).columns]\n",
    "# map_f\n",
    "mapper = DataFrameMapper(map_f).fit(tst_df)\n",
    "tst_df_scaled = tst_df.copy()\n",
    "tst_df_scaled[mapper.transformed_names_] = mapper.transform(tst_df)\n",
    "\n",
    "\n",
    "# Transform the category variables to dummy variables\n",
    "print('drop the following columns:', drop_cols)\n",
    "for_model_tst_df = pd.get_dummies(tst_df_scaled.drop(columns = drop_cols))"
   ]
  },
  {
   "cell_type": "code",
   "execution_count": 32,
   "metadata": {
    "hidden": true
   },
   "outputs": [
    {
     "name": "stdout",
     "output_type": "stream",
     "text": [
      "(128285, 12)\n"
     ]
    },
    {
     "data": {
      "text/html": [
       "<div>\n",
       "<style scoped>\n",
       "    .dataframe tbody tr th:only-of-type {\n",
       "        vertical-align: middle;\n",
       "    }\n",
       "\n",
       "    .dataframe tbody tr th {\n",
       "        vertical-align: top;\n",
       "    }\n",
       "\n",
       "    .dataframe thead th {\n",
       "        text-align: right;\n",
       "    }\n",
       "</style>\n",
       "<table border=\"1\" class=\"dataframe\">\n",
       "  <thead>\n",
       "    <tr style=\"text-align: right;\">\n",
       "      <th></th>\n",
       "      <th>rating_star</th>\n",
       "      <th>display_response_rate</th>\n",
       "      <th>sku</th>\n",
       "      <th>p30_gmv</th>\n",
       "      <th>p30_order_cnt</th>\n",
       "      <th>follower_count</th>\n",
       "      <th>Decorated</th>\n",
       "      <th>seller_type_NS</th>\n",
       "      <th>seller_type_OS</th>\n",
       "      <th>seller_type_PS</th>\n",
       "      <th>camp_flag_N</th>\n",
       "      <th>camp_flag_Y</th>\n",
       "    </tr>\n",
       "  </thead>\n",
       "  <tbody>\n",
       "    <tr>\n",
       "      <th>0</th>\n",
       "      <td>0.157007</td>\n",
       "      <td>0.048215</td>\n",
       "      <td>-0.340031</td>\n",
       "      <td>-0.147584</td>\n",
       "      <td>-0.162868</td>\n",
       "      <td>-0.183219</td>\n",
       "      <td>0</td>\n",
       "      <td>1</td>\n",
       "      <td>0</td>\n",
       "      <td>0</td>\n",
       "      <td>1</td>\n",
       "      <td>0</td>\n",
       "    </tr>\n",
       "    <tr>\n",
       "      <th>1</th>\n",
       "      <td>-2.740833</td>\n",
       "      <td>0.149147</td>\n",
       "      <td>-0.318322</td>\n",
       "      <td>-0.147676</td>\n",
       "      <td>-0.165574</td>\n",
       "      <td>-0.123038</td>\n",
       "      <td>0</td>\n",
       "      <td>1</td>\n",
       "      <td>0</td>\n",
       "      <td>0</td>\n",
       "      <td>1</td>\n",
       "      <td>0</td>\n",
       "    </tr>\n",
       "  </tbody>\n",
       "</table>\n",
       "</div>"
      ],
      "text/plain": [
       "   rating_star  display_response_rate       sku   p30_gmv  p30_order_cnt  follower_count  \\\n",
       "0     0.157007               0.048215 -0.340031 -0.147584      -0.162868       -0.183219   \n",
       "1    -2.740833               0.149147 -0.318322 -0.147676      -0.165574       -0.123038   \n",
       "\n",
       "   Decorated  seller_type_NS  seller_type_OS  seller_type_PS  camp_flag_N  camp_flag_Y  \n",
       "0          0               1               0               0            1            0  \n",
       "1          0               1               0               0            1            0  "
      ]
     },
     "execution_count": 32,
     "metadata": {},
     "output_type": "execute_result"
    }
   ],
   "source": [
    "print(for_model_tst_df.shape)\n",
    "for_model_tst_df.head(2)"
   ]
  },
  {
   "cell_type": "markdown",
   "metadata": {
    "heading_collapsed": true,
    "hidden": true
   },
   "source": [
    "#### 1-3-2. Assess the different models"
   ]
  },
  {
   "cell_type": "markdown",
   "metadata": {
    "hidden": true
   },
   "source": [
    "Model-1. Logistic Regression"
   ]
  },
  {
   "cell_type": "code",
   "execution_count": 33,
   "metadata": {
    "hidden": true
   },
   "outputs": [],
   "source": [
    "tst_X, tst_y = for_model_tst_df.drop(columns = y_cols), for_model_tst_df[y_cols]"
   ]
  },
  {
   "cell_type": "code",
   "execution_count": 34,
   "metadata": {
    "hidden": true
   },
   "outputs": [
    {
     "data": {
      "text/plain": [
       "0.8735959762433259"
      ]
     },
     "execution_count": 34,
     "metadata": {},
     "output_type": "execute_result"
    }
   ],
   "source": [
    "model1_roc = roc_auc_score(tst_y, lor.predict_proba(tst_X)[:,1])\n",
    "model1_roc"
   ]
  },
  {
   "cell_type": "code",
   "execution_count": 35,
   "metadata": {
    "hidden": true
   },
   "outputs": [
    {
     "name": "stdout",
     "output_type": "stream",
     "text": [
      "[[127069      0]\n",
      " [   347    869]]\n",
      "              precision    recall  f1-score   support\n",
      "\n",
      "           0       1.00      1.00      1.00    127069\n",
      "           1       1.00      0.71      0.83      1216\n",
      "\n",
      "   micro avg       1.00      1.00      1.00    128285\n",
      "   macro avg       1.00      0.86      0.92    128285\n",
      "weighted avg       1.00      1.00      1.00    128285\n",
      "\n"
     ]
    }
   ],
   "source": [
    "print(confusion_matrix(tst_y, lor.predict(tst_X)))\n",
    "print(classification_report(tst_y, lor.predict(tst_X)))"
   ]
  },
  {
   "cell_type": "markdown",
   "metadata": {
    "hidden": true
   },
   "source": [
    "Model-2. Logit"
   ]
  },
  {
   "cell_type": "code",
   "execution_count": 36,
   "metadata": {
    "hidden": true
   },
   "outputs": [],
   "source": [
    "# Create the Intercept for logit\n",
    "tst_y, tst_X = dmatrices('Decorated ~ rating_star + display_response_rate + sku + p30_gmv + p30_order_cnt + follower_count + seller_type_NS + seller_type_OS + seller_type_PS + camp_flag_N + camp_flag_Y', \n",
    "                         for_model_tst_df, return_type = 'dataframe')"
   ]
  },
  {
   "cell_type": "code",
   "execution_count": 37,
   "metadata": {
    "hidden": true
   },
   "outputs": [
    {
     "data": {
      "text/plain": [
       "0.8777105818181667"
      ]
     },
     "execution_count": 37,
     "metadata": {},
     "output_type": "execute_result"
    }
   ],
   "source": [
    "model2_roc = roc_auc_score(tst_y, logit.predict(tst_X))\n",
    "model2_roc"
   ]
  },
  {
   "cell_type": "code",
   "execution_count": 38,
   "metadata": {
    "hidden": true
   },
   "outputs": [],
   "source": [
    "thresold = 0.5\n",
    "predict = np.where(logit.predict(tst_X) > thresold, 1, 0)"
   ]
  },
  {
   "cell_type": "code",
   "execution_count": 39,
   "metadata": {
    "hidden": true
   },
   "outputs": [
    {
     "name": "stdout",
     "output_type": "stream",
     "text": [
      "[[127069      0]\n",
      " [   345    871]]\n",
      "              precision    recall  f1-score   support\n",
      "\n",
      "         0.0       1.00      1.00      1.00    127069\n",
      "         1.0       1.00      0.72      0.83      1216\n",
      "\n",
      "   micro avg       1.00      1.00      1.00    128285\n",
      "   macro avg       1.00      0.86      0.92    128285\n",
      "weighted avg       1.00      1.00      1.00    128285\n",
      "\n"
     ]
    }
   ],
   "source": [
    "print(confusion_matrix(tst_y, predict))\n",
    "print(classification_report(tst_y, predict)) "
   ]
  },
  {
   "cell_type": "markdown",
   "metadata": {
    "heading_collapsed": true
   },
   "source": [
    "### 1-4. Observe the propensity"
   ]
  },
  {
   "cell_type": "code",
   "execution_count": 40,
   "metadata": {
    "hidden": true
   },
   "outputs": [
    {
     "data": {
      "text/html": [
       "<div>\n",
       "<style scoped>\n",
       "    .dataframe tbody tr th:only-of-type {\n",
       "        vertical-align: middle;\n",
       "    }\n",
       "\n",
       "    .dataframe tbody tr th {\n",
       "        vertical-align: top;\n",
       "    }\n",
       "\n",
       "    .dataframe thead th {\n",
       "        text-align: right;\n",
       "    }\n",
       "</style>\n",
       "<table border=\"1\" class=\"dataframe\">\n",
       "  <thead>\n",
       "    <tr style=\"text-align: right;\">\n",
       "      <th></th>\n",
       "      <th>rating_star</th>\n",
       "      <th>display_response_rate</th>\n",
       "      <th>sku</th>\n",
       "      <th>p30_gmv</th>\n",
       "      <th>p30_order_cnt</th>\n",
       "      <th>follower_count</th>\n",
       "      <th>Decorated</th>\n",
       "      <th>seller_type_NS</th>\n",
       "      <th>seller_type_OS</th>\n",
       "      <th>seller_type_PS</th>\n",
       "      <th>camp_flag_N</th>\n",
       "      <th>camp_flag_Y</th>\n",
       "    </tr>\n",
       "  </thead>\n",
       "  <tbody>\n",
       "    <tr>\n",
       "      <th>0</th>\n",
       "      <td>0.412848</td>\n",
       "      <td>0.340051</td>\n",
       "      <td>0.301299</td>\n",
       "      <td>-0.148874</td>\n",
       "      <td>-0.162638</td>\n",
       "      <td>-0.269229</td>\n",
       "      <td>0</td>\n",
       "      <td>1</td>\n",
       "      <td>0</td>\n",
       "      <td>0</td>\n",
       "      <td>1</td>\n",
       "      <td>0</td>\n",
       "    </tr>\n",
       "    <tr>\n",
       "      <th>1</th>\n",
       "      <td>-4.337566</td>\n",
       "      <td>-1.812548</td>\n",
       "      <td>-0.403096</td>\n",
       "      <td>-0.244146</td>\n",
       "      <td>-0.261135</td>\n",
       "      <td>-0.315220</td>\n",
       "      <td>0</td>\n",
       "      <td>1</td>\n",
       "      <td>0</td>\n",
       "      <td>0</td>\n",
       "      <td>1</td>\n",
       "      <td>0</td>\n",
       "    </tr>\n",
       "  </tbody>\n",
       "</table>\n",
       "</div>"
      ],
      "text/plain": [
       "   rating_star  display_response_rate       sku   p30_gmv  p30_order_cnt  follower_count  \\\n",
       "0     0.412848               0.340051  0.301299 -0.148874      -0.162638       -0.269229   \n",
       "1    -4.337566              -1.812548 -0.403096 -0.244146      -0.261135       -0.315220   \n",
       "\n",
       "   Decorated  seller_type_NS  seller_type_OS  seller_type_PS  camp_flag_N  camp_flag_Y  \n",
       "0          0               1               0               0            1            0  \n",
       "1          0               1               0               0            1            0  "
      ]
     },
     "execution_count": 40,
     "metadata": {},
     "output_type": "execute_result"
    }
   ],
   "source": [
    "for_model_df.head(2)"
   ]
  },
  {
   "cell_type": "code",
   "execution_count": 41,
   "metadata": {
    "hidden": true
   },
   "outputs": [],
   "source": [
    "plot_df = for_model_df.copy()\n",
    "plot_df['logit_score'] = logit.predict(_X)\n",
    "# plot_df['logistic_score'] = lor.predict_proba(X)[:,1]"
   ]
  },
  {
   "cell_type": "code",
   "execution_count": 42,
   "metadata": {
    "hidden": true
   },
   "outputs": [
    {
     "data": {
      "text/plain": [
       "Text(0.5, 0.98, 'Probability of decorating the shop')"
      ]
     },
     "execution_count": 42,
     "metadata": {},
     "output_type": "execute_result"
    },
    {
     "data": {
      "image/png": "[encoded data removed]",
      "text/plain": [
       "<Figure size 432x288 with 2 Axes>"
      ]
     },
     "metadata": {
      "needs_background": "light"
     },
     "output_type": "display_data"
    }
   ],
   "source": [
    "fig, (ax1, ax2) = plt.subplots(1,2, sharey=True)\n",
    "sns.distplot(plot_df[plot_df.Decorated == 1]['logit_score'], bins= 30, kde=False, hist=True, ax= ax1)\n",
    "sns.distplot(plot_df[plot_df.Decorated == 0]['logit_score'], bins= 30, kde=False, hist=True, ax= ax2)\n",
    "\n",
    "ax1.set_title(\"Decorated Shop\", fontsize=10)\n",
    "ax2.set_title(\"Un-decorated Shop\", fontsize=10)\n",
    "fig.suptitle(\"Probability of decorating the shop\", fontsize=14)"
   ]
  },
  {
   "cell_type": "code",
   "execution_count": 45,
   "metadata": {
    "hidden": true
   },
   "outputs": [
    {
     "data": {
      "image/png": "[encoded data removed]",
      "text/plain": [
       "<Figure size 576x432 with 1 Axes>"
      ]
     },
     "metadata": {
      "needs_background": "light"
     },
     "output_type": "display_data"
    }
   ],
   "source": [
    "# change default style figure and font size\n",
    "plt.rcParams['figure.figsize'] = 8, 6\n",
    "plt.rcParams['font.size'] = 12\n",
    "\n",
    "sns.distplot(plot_df[plot_df.Decorated == 0]['logit_score'], label='control')\n",
    "sns.distplot(plot_df[plot_df.Decorated == 1]['logit_score'], label='treatment')\n",
    "\n",
    "plt.xlim(0, 1)\n",
    "plt.title('Propensity Score Distribution of Control vs Treatment')\n",
    "plt.ylabel('Density')\n",
    "plt.xlabel('Scores')\n",
    "plt.legend()\n",
    "plt.tight_layout()\n",
    "plt.show()"
   ]
  },
  {
   "cell_type": "markdown",
   "metadata": {
    "hidden": true
   },
   "source": [
    "The propensity in treated group shows extremely bimodal distribution... <br/>\n",
    "It's better to deal with the imbalanced problem or re-track the definition of data."
   ]
  },
  {
   "cell_type": "markdown",
   "metadata": {
    "hidden": true
   },
   "source": [
    "By the way, we could measure the degree of imbalance of covariances between treatment group and control group by standardised bias(as Type4-1)"
   ]
  },
  {
   "cell_type": "markdown",
   "metadata": {},
   "source": [
    "## Step2. Choose Matching algorithm"
   ]
  },
  {
   "cell_type": "markdown",
   "metadata": {
    "heading_collapsed": true
   },
   "source": [
    "### 2-1. Data Processing"
   ]
  },
  {
   "cell_type": "code",
   "execution_count": 55,
   "metadata": {
    "hidden": true
   },
   "outputs": [
    {
     "data": {
      "text/plain": [
       "(35588, 16)"
      ]
     },
     "execution_count": 55,
     "metadata": {},
     "output_type": "execute_result"
    }
   ],
   "source": [
    "# get the id and treatment effect\n",
    "for_mth_df = pd.concat([plot_df.copy(), trn_df[['shopid', 'Clicks_pre_User_Before', 'Clicks_pre_User_After']]], axis = 1)\n",
    "for_mth_df.shape"
   ]
  },
  {
   "cell_type": "code",
   "execution_count": 56,
   "metadata": {
    "hidden": true
   },
   "outputs": [
    {
     "data": {
      "text/html": [
       "<div>\n",
       "<style scoped>\n",
       "    .dataframe tbody tr th:only-of-type {\n",
       "        vertical-align: middle;\n",
       "    }\n",
       "\n",
       "    .dataframe tbody tr th {\n",
       "        vertical-align: top;\n",
       "    }\n",
       "\n",
       "    .dataframe thead th {\n",
       "        text-align: right;\n",
       "    }\n",
       "</style>\n",
       "<table border=\"1\" class=\"dataframe\">\n",
       "  <thead>\n",
       "    <tr style=\"text-align: right;\">\n",
       "      <th></th>\n",
       "      <th>rating_star</th>\n",
       "      <th>display_response_rate</th>\n",
       "      <th>sku</th>\n",
       "      <th>p30_gmv</th>\n",
       "      <th>p30_order_cnt</th>\n",
       "      <th>follower_count</th>\n",
       "      <th>Decorated</th>\n",
       "      <th>seller_type_NS</th>\n",
       "      <th>seller_type_OS</th>\n",
       "      <th>seller_type_PS</th>\n",
       "      <th>camp_flag_N</th>\n",
       "      <th>camp_flag_Y</th>\n",
       "      <th>logit_score</th>\n",
       "      <th>shopid</th>\n",
       "      <th>Clicks_pre_User_Before</th>\n",
       "      <th>Clicks_pre_User_After</th>\n",
       "    </tr>\n",
       "  </thead>\n",
       "  <tbody>\n",
       "    <tr>\n",
       "      <th>35586</th>\n",
       "      <td>-2.190118</td>\n",
       "      <td>0.519434</td>\n",
       "      <td>0.041936</td>\n",
       "      <td>-0.243186</td>\n",
       "      <td>-0.263324</td>\n",
       "      <td>-0.341178</td>\n",
       "      <td>0</td>\n",
       "      <td>1</td>\n",
       "      <td>0</td>\n",
       "      <td>0</td>\n",
       "      <td>1</td>\n",
       "      <td>0</td>\n",
       "      <td>0.013717</td>\n",
       "      <td>149256535</td>\n",
       "      <td>0.000000</td>\n",
       "      <td>2.2500</td>\n",
       "    </tr>\n",
       "    <tr>\n",
       "      <th>35587</th>\n",
       "      <td>0.933442</td>\n",
       "      <td>-1.812548</td>\n",
       "      <td>-0.395439</td>\n",
       "      <td>-0.164037</td>\n",
       "      <td>-0.149505</td>\n",
       "      <td>-0.338638</td>\n",
       "      <td>0</td>\n",
       "      <td>1</td>\n",
       "      <td>0</td>\n",
       "      <td>0</td>\n",
       "      <td>1</td>\n",
       "      <td>0</td>\n",
       "      <td>0.010935</td>\n",
       "      <td>150994626</td>\n",
       "      <td>1.434783</td>\n",
       "      <td>2.1875</td>\n",
       "    </tr>\n",
       "  </tbody>\n",
       "</table>\n",
       "</div>"
      ],
      "text/plain": [
       "       rating_star  display_response_rate       sku   p30_gmv  p30_order_cnt  follower_count  \\\n",
       "35586    -2.190118               0.519434  0.041936 -0.243186      -0.263324       -0.341178   \n",
       "35587     0.933442              -1.812548 -0.395439 -0.164037      -0.149505       -0.338638   \n",
       "\n",
       "       Decorated  seller_type_NS  seller_type_OS  seller_type_PS  camp_flag_N  camp_flag_Y  \\\n",
       "35586          0               1               0               0            1            0   \n",
       "35587          0               1               0               0            1            0   \n",
       "\n",
       "       logit_score     shopid  Clicks_pre_User_Before  Clicks_pre_User_After  \n",
       "35586     0.013717  149256535                0.000000                 2.2500  \n",
       "35587     0.010935  150994626                1.434783                 2.1875  "
      ]
     },
     "execution_count": 56,
     "metadata": {},
     "output_type": "execute_result"
    }
   ],
   "source": [
    "for_mth_df.tail(2)"
   ]
  },
  {
   "cell_type": "code",
   "execution_count": 57,
   "metadata": {
    "hidden": true
   },
   "outputs": [],
   "source": [
    "for_mth_df_treated = for_mth_df.loc[for_mth_df['Decorated'] == 1]\n",
    "for_mth_df_control = for_mth_df.loc[for_mth_df['Decorated'] == 0]"
   ]
  },
  {
   "cell_type": "code",
   "execution_count": 58,
   "metadata": {
    "hidden": true
   },
   "outputs": [
    {
     "name": "stdout",
     "output_type": "stream",
     "text": [
      "(35588, 16) = (1242, 16) (34346, 16)\n"
     ]
    }
   ],
   "source": [
    "print(for_mth_df.shape, '=' ,for_mth_df_treated.shape, for_mth_df_control.shape)"
   ]
  },
  {
   "cell_type": "markdown",
   "metadata": {},
   "source": [
    "###  2-2. Modeling"
   ]
  },
  {
   "cell_type": "markdown",
   "metadata": {},
   "source": [
    "Since the propensity score distribution is very different in treatment and group, <br/>\n",
    "1. we could use matching with replacement to decrease the bias and increase the average quality of matching <br/>\n",
    "2. Imposing a caliper works in the same direction as allowing for replacement."
   ]
  },
  {
   "cell_type": "markdown",
   "metadata": {},
   "source": [
    "<img src=\"graph/Matching.jpg\" width = \"500\">"
   ]
  },
  {
   "cell_type": "markdown",
   "metadata": {
    "heading_collapsed": true
   },
   "source": [
    "#### 2-2-1. 1-1 Matching"
   ]
  },
  {
   "cell_type": "code",
   "execution_count": 59,
   "metadata": {
    "hidden": true
   },
   "outputs": [
    {
     "name": "stdout",
     "output_type": "stream",
     "text": [
      "(35588, 16) = (1242, 16) (34346, 16)\n"
     ]
    }
   ],
   "source": [
    "print(for_mth_df.shape, '=' ,for_mth_df_treated.shape, for_mth_df_control.shape)"
   ]
  },
  {
   "cell_type": "code",
   "execution_count": 60,
   "metadata": {
    "hidden": true
   },
   "outputs": [],
   "source": [
    "def get_matching_idx(treated_df, non_treated_df, N):\n",
    "    treated_x = treated_df.values\n",
    "    non_treated_x = non_treated_df.values\n",
    "\n",
    "    nbrs = NearestNeighbors(n_neighbors=N, algorithm='brute', \n",
    "                            metric = 'mahalanobis', metric_params={'V': np.cov(non_treated_x)} ).fit(non_treated_x)\n",
    "    \n",
    "    distances, indices = nbrs.kneighbors(treated_x)\n",
    "    indices = indices.reshape(indices.shape[0] * N)   \n",
    "    return distances, indices    "
   ]
  },
  {
   "cell_type": "code",
   "execution_count": 61,
   "metadata": {
    "hidden": true
   },
   "outputs": [],
   "source": [
    "# list variables which isn't necessary when matching\n",
    "drop_cols = ['logit_score', 'shopid', 'Clicks_pre_User_Before', 'Clicks_pre_User_After']"
   ]
  },
  {
   "cell_type": "code",
   "execution_count": 62,
   "metadata": {
    "hidden": true
   },
   "outputs": [
    {
     "data": {
      "text/plain": [
       "(array([[8.24382651],\n",
       "        [8.24848865],\n",
       "        [8.24838015],\n",
       "        ...,\n",
       "        [8.06119547],\n",
       "        [8.06538259],\n",
       "        [8.06098244]]), array([31249, 12237, 30812, ..., 28154,  9779, 28011]))"
      ]
     },
     "execution_count": 62,
     "metadata": {},
     "output_type": "execute_result"
    }
   ],
   "source": [
    "# get the idx of matched control group\n",
    "distances, indices  = get_matching_idx(for_mth_df_treated.drop(columns = drop_cols),\n",
    "                                       for_mth_df_control.drop(columns = drop_cols), \n",
    "                                       N = 1)\n",
    "distances, indices"
   ]
  },
  {
   "cell_type": "code",
   "execution_count": 63,
   "metadata": {
    "hidden": true
   },
   "outputs": [
    {
     "name": "stdout",
     "output_type": "stream",
     "text": [
      "(1092, 16)\n"
     ]
    },
    {
     "name": "stderr",
     "output_type": "stream",
     "text": [
      "/home/ericwang/anaconda3/lib/python3.7/site-packages/ipykernel_launcher.py:3: SettingWithCopyWarning: \n",
      "A value is trying to be set on a copy of a slice from a DataFrame\n",
      "\n",
      "See the caveats in the documentation: http://pandas.pydata.org/pandas-docs/stable/indexing.html#indexing-view-versus-copy\n",
      "  This is separate from the ipykernel package so we can avoid doing imports until\n"
     ]
    },
    {
     "data": {
      "text/html": [
       "<div>\n",
       "<style scoped>\n",
       "    .dataframe tbody tr th:only-of-type {\n",
       "        vertical-align: middle;\n",
       "    }\n",
       "\n",
       "    .dataframe tbody tr th {\n",
       "        vertical-align: top;\n",
       "    }\n",
       "\n",
       "    .dataframe thead th {\n",
       "        text-align: right;\n",
       "    }\n",
       "</style>\n",
       "<table border=\"1\" class=\"dataframe\">\n",
       "  <thead>\n",
       "    <tr style=\"text-align: right;\">\n",
       "      <th></th>\n",
       "      <th>rating_star</th>\n",
       "      <th>display_response_rate</th>\n",
       "      <th>sku</th>\n",
       "      <th>p30_gmv</th>\n",
       "      <th>p30_order_cnt</th>\n",
       "      <th>follower_count</th>\n",
       "      <th>Decorated</th>\n",
       "      <th>seller_type_NS</th>\n",
       "      <th>seller_type_OS</th>\n",
       "      <th>seller_type_PS</th>\n",
       "      <th>camp_flag_N</th>\n",
       "      <th>camp_flag_Y</th>\n",
       "      <th>logit_score</th>\n",
       "      <th>shopid</th>\n",
       "      <th>Clicks_pre_User_Before</th>\n",
       "      <th>Clicks_pre_User_After</th>\n",
       "    </tr>\n",
       "  </thead>\n",
       "  <tbody>\n",
       "    <tr>\n",
       "      <th>32378</th>\n",
       "      <td>-0.302968</td>\n",
       "      <td>0.698817</td>\n",
       "      <td>0.127114</td>\n",
       "      <td>-0.126965</td>\n",
       "      <td>-0.090407</td>\n",
       "      <td>0.047065</td>\n",
       "      <td>0</td>\n",
       "      <td>1</td>\n",
       "      <td>0</td>\n",
       "      <td>0</td>\n",
       "      <td>1</td>\n",
       "      <td>0</td>\n",
       "      <td>0.018138</td>\n",
       "      <td>13037</td>\n",
       "      <td>7.750000</td>\n",
       "      <td>2.592593</td>\n",
       "    </tr>\n",
       "    <tr>\n",
       "      <th>12676</th>\n",
       "      <td>0.347774</td>\n",
       "      <td>-0.646557</td>\n",
       "      <td>-0.087267</td>\n",
       "      <td>-0.234761</td>\n",
       "      <td>-0.226114</td>\n",
       "      <td>-0.220698</td>\n",
       "      <td>0</td>\n",
       "      <td>1</td>\n",
       "      <td>0</td>\n",
       "      <td>0</td>\n",
       "      <td>1</td>\n",
       "      <td>0</td>\n",
       "      <td>0.013945</td>\n",
       "      <td>122425313</td>\n",
       "      <td>2.166667</td>\n",
       "      <td>1.777778</td>\n",
       "    </tr>\n",
       "  </tbody>\n",
       "</table>\n",
       "</div>"
      ],
      "text/plain": [
       "       rating_star  display_response_rate       sku   p30_gmv  p30_order_cnt  follower_count  \\\n",
       "32378    -0.302968               0.698817  0.127114 -0.126965      -0.090407        0.047065   \n",
       "12676     0.347774              -0.646557 -0.087267 -0.234761      -0.226114       -0.220698   \n",
       "\n",
       "       Decorated  seller_type_NS  seller_type_OS  seller_type_PS  camp_flag_N  camp_flag_Y  \\\n",
       "32378          0               1               0               0            1            0   \n",
       "12676          0               1               0               0            1            0   \n",
       "\n",
       "       logit_score     shopid  Clicks_pre_User_Before  Clicks_pre_User_After  \n",
       "32378     0.018138      13037                7.750000               2.592593  \n",
       "12676     0.013945  122425313                2.166667               1.777778  "
      ]
     },
     "execution_count": 63,
     "metadata": {},
     "output_type": "execute_result"
    }
   ],
   "source": [
    "matched_control_df = for_mth_df_control.iloc[indices]    \n",
    "\n",
    "matched_control_df.drop_duplicates(inplace = True)\n",
    "print(matched_control_df.shape)\n",
    "matched_control_df.head(2)"
   ]
  },
  {
   "cell_type": "code",
   "execution_count": 65,
   "metadata": {
    "hidden": true
   },
   "outputs": [
    {
     "data": {
      "image/png": "[encoded data removed]",
      "text/plain": [
       "<Figure size 576x432 with 1 Axes>"
      ]
     },
     "metadata": {
      "needs_background": "light"
     },
     "output_type": "display_data"
    }
   ],
   "source": [
    "# change default style figure and font size\n",
    "plt.rcParams['figure.figsize'] = 8, 6\n",
    "plt.rcParams['font.size'] = 12\n",
    "\n",
    "sns.distplot(matched_control_df.logit_score, label='matched_control')\n",
    "sns.distplot(for_mth_df_treated.logit_score, label='treatment')\n",
    "plt.xlim(0, 1)\n",
    "plt.title('Propensity Score Distribution of matched_control vs Treatment')\n",
    "plt.ylabel('Density')\n",
    "plt.xlabel('Scores')\n",
    "plt.legend()\n",
    "plt.tight_layout()\n",
    "plt.show()"
   ]
  },
  {
   "cell_type": "markdown",
   "metadata": {
    "heading_collapsed": true
   },
   "source": [
    "#### 2-2-2. Caliper Matching"
   ]
  },
  {
   "cell_type": "code",
   "execution_count": 111,
   "metadata": {
    "code_folding": [
     2
    ],
    "hidden": true
   },
   "outputs": [],
   "source": [
    "np.random.seed(10)\n",
    "\n",
    "def Match(groups, pscore, caliper=0.05):\n",
    "    '''\n",
    "    Inputs: \n",
    "    groups = indicator to identify control and study group. Must be two groups. Number of treated (study) records should be\n",
    "            smaller than untreated (control) records.\n",
    "    pscore = propensity scores for each observation. Groups and pscore must be in the same order (same indices).\n",
    "    caliper = maximum difference in matched propensity scores.\n",
    "    '''\n",
    "    if any(pscore <= 0) or any(pscore >= 1):\n",
    "        raise ValueError('Propensity scores must be between 0 and 1')\n",
    "    elif not(0<caliper<1):\n",
    "        raise ValueError('Caliper must be between 0 and 1')\n",
    "    elif len(groups) != len(pscore):\n",
    "        raise ValueError('groups and pscore must have same dimension')\n",
    "    elif len(groups.unique()) != 2:\n",
    "        raise ValueError('wrong number of groups')\n",
    "     \n",
    "    \n",
    "    groups = groups == groups.unique()[0]\n",
    "    N = len(groups)\n",
    "    N1 = groups.sum(); \n",
    "    N2 = N - N1;\n",
    "    g1, g2 = (pscore[groups == 1]),(pscore[groups == 0])\n",
    "    # N1 is study, N2 is control\n",
    "    # assuming number of study groups is less than control groups\n",
    "    if N1 > N2:\n",
    "        N1, N2, g1, g2 = N2, N1, g2, g1\n",
    "\n",
    "    if (N1 != len(g1)) or (N2 != len(g2)):\n",
    "        raise ValueError('Number of study records must be less than control records')\n",
    "\n",
    "    morder = np.random.permutation(N1)\n",
    "    matches = pd.Series(np.empty(N1))\n",
    "    matches[:] = np.NAN\n",
    "\n",
    "    for m in morder:\n",
    "        dist = abs(g1.iloc[m] - g2)\n",
    "        if dist.min() <= caliper:\n",
    "            matches[m] = dist.idxmin()\n",
    "            g2 = g2.drop(matches[m])\n",
    "            \n",
    "    study = pd.DataFrame(g1).reset_index()\n",
    "    study.columns = ['std_indx', 'std_pscore']\n",
    "    \n",
    "#     control = pd.DataFrame(for_mth_df.iloc[matches]['logit_score']).reset_index()\n",
    "#     control.columns = ['ctl_indx', 'ctl_pscore']\n",
    "    \n",
    "#     final_df = study.join(control)\n",
    "\n",
    "    return matches"
   ]
  },
  {
   "cell_type": "code",
   "execution_count": 182,
   "metadata": {
    "hidden": true
   },
   "outputs": [
    {
     "data": {
      "text/plain": [
       "532"
      ]
     },
     "execution_count": 182,
     "metadata": {},
     "output_type": "execute_result"
    }
   ],
   "source": [
    "# The difference between propensity is within 0.05\n",
    "matched_idx = Match(for_mth_df.Decorated, for_mth_df.logit_score, caliper = 0.05)\n",
    "matched_idx.count()"
   ]
  },
  {
   "cell_type": "code",
   "execution_count": 183,
   "metadata": {
    "hidden": true
   },
   "outputs": [],
   "source": [
    "caliper_matched_idx =  np.array(matched_idx.dropna()).astype(int)"
   ]
  },
  {
   "cell_type": "code",
   "execution_count": 184,
   "metadata": {
    "hidden": true
   },
   "outputs": [
    {
     "name": "stdout",
     "output_type": "stream",
     "text": [
      "(532, 16)\n"
     ]
    },
    {
     "data": {
      "text/html": [
       "<div>\n",
       "<style scoped>\n",
       "    .dataframe tbody tr th:only-of-type {\n",
       "        vertical-align: middle;\n",
       "    }\n",
       "\n",
       "    .dataframe tbody tr th {\n",
       "        vertical-align: top;\n",
       "    }\n",
       "\n",
       "    .dataframe thead th {\n",
       "        text-align: right;\n",
       "    }\n",
       "</style>\n",
       "<table border=\"1\" class=\"dataframe\">\n",
       "  <thead>\n",
       "    <tr style=\"text-align: right;\">\n",
       "      <th></th>\n",
       "      <th>rating_star</th>\n",
       "      <th>display_response_rate</th>\n",
       "      <th>sku</th>\n",
       "      <th>p30_gmv</th>\n",
       "      <th>p30_order_cnt</th>\n",
       "      <th>follower_count</th>\n",
       "      <th>Decorated</th>\n",
       "      <th>seller_type_NS</th>\n",
       "      <th>seller_type_OS</th>\n",
       "      <th>seller_type_PS</th>\n",
       "      <th>camp_flag_N</th>\n",
       "      <th>camp_flag_Y</th>\n",
       "      <th>logit_score</th>\n",
       "      <th>shopid</th>\n",
       "      <th>Clicks_pre_User_Before</th>\n",
       "      <th>Clicks_pre_User_After</th>\n",
       "    </tr>\n",
       "  </thead>\n",
       "  <tbody>\n",
       "    <tr>\n",
       "      <th>9273</th>\n",
       "      <td>0.803293</td>\n",
       "      <td>0.250359</td>\n",
       "      <td>-0.305476</td>\n",
       "      <td>-0.228131</td>\n",
       "      <td>-0.226114</td>\n",
       "      <td>0.005024</td>\n",
       "      <td>0</td>\n",
       "      <td>1</td>\n",
       "      <td>0</td>\n",
       "      <td>0</td>\n",
       "      <td>1</td>\n",
       "      <td>0</td>\n",
       "      <td>0.020593</td>\n",
       "      <td>51148609</td>\n",
       "      <td>4.000</td>\n",
       "      <td>4.785714</td>\n",
       "    </tr>\n",
       "    <tr>\n",
       "      <th>7429</th>\n",
       "      <td>-2.059970</td>\n",
       "      <td>0.878200</td>\n",
       "      <td>0.066820</td>\n",
       "      <td>0.071469</td>\n",
       "      <td>-0.156071</td>\n",
       "      <td>-0.336946</td>\n",
       "      <td>0</td>\n",
       "      <td>1</td>\n",
       "      <td>0</td>\n",
       "      <td>0</td>\n",
       "      <td>1</td>\n",
       "      <td>0</td>\n",
       "      <td>0.014725</td>\n",
       "      <td>121782694</td>\n",
       "      <td>1.875</td>\n",
       "      <td>2.000000</td>\n",
       "    </tr>\n",
       "  </tbody>\n",
       "</table>\n",
       "</div>"
      ],
      "text/plain": [
       "      rating_star  display_response_rate       sku   p30_gmv  p30_order_cnt  follower_count  \\\n",
       "9273     0.803293               0.250359 -0.305476 -0.228131      -0.226114        0.005024   \n",
       "7429    -2.059970               0.878200  0.066820  0.071469      -0.156071       -0.336946   \n",
       "\n",
       "      Decorated  seller_type_NS  seller_type_OS  seller_type_PS  camp_flag_N  camp_flag_Y  \\\n",
       "9273          0               1               0               0            1            0   \n",
       "7429          0               1               0               0            1            0   \n",
       "\n",
       "      logit_score     shopid  Clicks_pre_User_Before  Clicks_pre_User_After  \n",
       "9273     0.020593   51148609                   4.000               4.785714  \n",
       "7429     0.014725  121782694                   1.875               2.000000  "
      ]
     },
     "execution_count": 184,
     "metadata": {},
     "output_type": "execute_result"
    }
   ],
   "source": [
    "caliper_matched_control_df = for_mth_df.iloc[caliper_matched_idx]\n",
    "\n",
    "print(caliper_matched_control_df.shape)\n",
    "caliper_matched_control_df.head(2)"
   ]
  },
  {
   "cell_type": "code",
   "execution_count": 185,
   "metadata": {
    "hidden": true
   },
   "outputs": [
    {
     "data": {
      "image/png": "[encoded data removed]",
      "text/plain": [
       "<Figure size 576x432 with 1 Axes>"
      ]
     },
     "metadata": {
      "needs_background": "light"
     },
     "output_type": "display_data"
    }
   ],
   "source": [
    "# change default style figure and font size\n",
    "plt.rcParams['figure.figsize'] = 8, 6\n",
    "plt.rcParams['font.size'] = 12\n",
    "\n",
    "sns.distplot(caliper_matched_control_df.logit_score, label='matched_control(Caliper)')\n",
    "sns.distplot(for_mth_df_treated.logit_score, label='treatment')\n",
    "plt.xlim(0, 1)\n",
    "plt.title('Propensity Score Distribution of Caliper_matched_control vs Treatment')\n",
    "plt.ylabel('Density')\n",
    "plt.xlabel('Scores')\n",
    "plt.legend()\n",
    "plt.tight_layout()\n",
    "plt.show()"
   ]
  },
  {
   "cell_type": "markdown",
   "metadata": {
    "heading_collapsed": true
   },
   "source": [
    "## Step3. Check overlap and common support"
   ]
  },
  {
   "cell_type": "markdown",
   "metadata": {
    "hidden": true
   },
   "source": [
    "Have been drawed after matching"
   ]
  },
  {
   "cell_type": "markdown",
   "metadata": {},
   "source": [
    "## Step4. Assessing the Matching Quality"
   ]
  },
  {
   "cell_type": "markdown",
   "metadata": {
    "heading_collapsed": true
   },
   "source": [
    "### Type4-1. Standardised Bias / Standardized DIfferences"
   ]
  },
  {
   "cell_type": "markdown",
   "metadata": {
    "hidden": true
   },
   "source": [
    "\\begin{align}\n",
    "smd = \\frac{\\bar{X}_t - \\bar{X}_c}{\\sqrt{(s^2_t + s^2_c) / 2}}\n",
    "\\end{align}"
   ]
  },
  {
   "cell_type": "markdown",
   "metadata": {
    "hidden": true
   },
   "source": [
    "**Pros:** Doesn't depend on sample size (compared with p-values)<br/>\n",
    "**Rules of thunb**:<br/>\n",
    "1.Coursera Version<br/>\n",
    "- Smaller than $0.1$: Adequate balance; For a randomized trial, the smd between all of the covariates should typically fall into this bucket.\n",
    "- $0.1$ - $0.2$: Not necessarily balanced, but small enough that people are usually not too worried about them.\n",
    "- Greater than $0.2$: Values that are greater than this threshold are considered seriously imbalanced.\n",
    "\n",
    "2.Paper Version<br/>\n",
    "- A bias reduction below 3% or 5% is seen as sufficient"
   ]
  },
  {
   "cell_type": "code",
   "execution_count": 66,
   "metadata": {
    "code_folding": [
     0
    ],
    "hidden": true
   },
   "outputs": [],
   "source": [
    "def assess_balance(trt_df, ctl_df, covariates):\n",
    "#     trt_df = trt\n",
    "#     ctl_df = ctl\n",
    "    t_stat = trt_df[covariates].describe().loc['mean':'std', :].T\n",
    "    c_stat = ctl_df[covariates].describe().loc['mean':'std', :].T\n",
    "    assess_df = pd.concat([t_stat.add_prefix('treated_'), c_stat.add_prefix('control_')], axis = 1)\n",
    "    assess_df['smd'] = abs((assess_df.treated_mean - assess_df.control_mean) / \n",
    "                       np.sqrt((assess_df.control_std**2+assess_df.treated_std**2)/2))\n",
    "    \n",
    "    return assess_df"
   ]
  },
  {
   "cell_type": "code",
   "execution_count": 67,
   "metadata": {
    "hidden": true
   },
   "outputs": [],
   "source": [
    "# treated.columns.values\n",
    "covars = ['rating_star', 'display_response_rate', 'sku', 'p30_gmv',\n",
    "          'p30_order_cnt', 'follower_count'\n",
    "          , 'seller_type_NS', 'seller_type_OS', 'seller_type_PS', 'camp_flag_N', 'camp_flag_Y'\n",
    "         ]"
   ]
  },
  {
   "cell_type": "markdown",
   "metadata": {
    "heading_collapsed": true,
    "hidden": true
   },
   "source": [
    "#### Control vs Treat - 0.38"
   ]
  },
  {
   "cell_type": "code",
   "execution_count": 72,
   "metadata": {
    "hidden": true
   },
   "outputs": [
    {
     "data": {
      "text/html": [
       "<div>\n",
       "<style scoped>\n",
       "    .dataframe tbody tr th:only-of-type {\n",
       "        vertical-align: middle;\n",
       "    }\n",
       "\n",
       "    .dataframe tbody tr th {\n",
       "        vertical-align: top;\n",
       "    }\n",
       "\n",
       "    .dataframe thead th {\n",
       "        text-align: right;\n",
       "    }\n",
       "</style>\n",
       "<table border=\"1\" class=\"dataframe\">\n",
       "  <thead>\n",
       "    <tr style=\"text-align: right;\">\n",
       "      <th></th>\n",
       "      <th>treated_mean</th>\n",
       "      <th>treated_std</th>\n",
       "      <th>control_mean</th>\n",
       "      <th>control_std</th>\n",
       "      <th>smd</th>\n",
       "    </tr>\n",
       "  </thead>\n",
       "  <tbody>\n",
       "    <tr>\n",
       "      <th>rating_star</th>\n",
       "      <td>0.097328</td>\n",
       "      <td>0.912437</td>\n",
       "      <td>-0.003520</td>\n",
       "      <td>1.002873</td>\n",
       "      <td>0.105189</td>\n",
       "    </tr>\n",
       "    <tr>\n",
       "      <th>display_response_rate</th>\n",
       "      <td>0.288200</td>\n",
       "      <td>0.832961</td>\n",
       "      <td>-0.010422</td>\n",
       "      <td>1.003997</td>\n",
       "      <td>0.323726</td>\n",
       "    </tr>\n",
       "    <tr>\n",
       "      <th>sku</th>\n",
       "      <td>-0.065576</td>\n",
       "      <td>0.649433</td>\n",
       "      <td>0.002371</td>\n",
       "      <td>1.010342</td>\n",
       "      <td>0.080005</td>\n",
       "    </tr>\n",
       "    <tr>\n",
       "      <th>p30_gmv</th>\n",
       "      <td>0.036356</td>\n",
       "      <td>0.760437</td>\n",
       "      <td>-0.001315</td>\n",
       "      <td>1.007595</td>\n",
       "      <td>0.042203</td>\n",
       "    </tr>\n",
       "    <tr>\n",
       "      <th>p30_order_cnt</th>\n",
       "      <td>0.052121</td>\n",
       "      <td>0.895460</td>\n",
       "      <td>-0.001885</td>\n",
       "      <td>1.003552</td>\n",
       "      <td>0.056786</td>\n",
       "    </tr>\n",
       "    <tr>\n",
       "      <th>follower_count</th>\n",
       "      <td>0.035862</td>\n",
       "      <td>0.793935</td>\n",
       "      <td>-0.001297</td>\n",
       "      <td>1.006661</td>\n",
       "      <td>0.040989</td>\n",
       "    </tr>\n",
       "    <tr>\n",
       "      <th>seller_type_NS</th>\n",
       "      <td>0.781804</td>\n",
       "      <td>0.413188</td>\n",
       "      <td>0.845193</td>\n",
       "      <td>0.361726</td>\n",
       "      <td>0.163244</td>\n",
       "    </tr>\n",
       "    <tr>\n",
       "      <th>seller_type_OS</th>\n",
       "      <td>0.011272</td>\n",
       "      <td>0.105613</td>\n",
       "      <td>0.008356</td>\n",
       "      <td>0.091031</td>\n",
       "      <td>0.029577</td>\n",
       "    </tr>\n",
       "    <tr>\n",
       "      <th>seller_type_PS</th>\n",
       "      <td>0.206924</td>\n",
       "      <td>0.405264</td>\n",
       "      <td>0.146451</td>\n",
       "      <td>0.353563</td>\n",
       "      <td>0.159018</td>\n",
       "    </tr>\n",
       "    <tr>\n",
       "      <th>camp_flag_N</th>\n",
       "      <td>0.428341</td>\n",
       "      <td>0.495038</td>\n",
       "      <td>1.000000</td>\n",
       "      <td>0.000000</td>\n",
       "      <td>1.633103</td>\n",
       "    </tr>\n",
       "    <tr>\n",
       "      <th>camp_flag_Y</th>\n",
       "      <td>0.571659</td>\n",
       "      <td>0.495038</td>\n",
       "      <td>0.000000</td>\n",
       "      <td>0.000000</td>\n",
       "      <td>1.633103</td>\n",
       "    </tr>\n",
       "  </tbody>\n",
       "</table>\n",
       "</div>"
      ],
      "text/plain": [
       "                       treated_mean  treated_std  control_mean  control_std       smd\n",
       "rating_star                0.097328     0.912437     -0.003520     1.002873  0.105189\n",
       "display_response_rate      0.288200     0.832961     -0.010422     1.003997  0.323726\n",
       "sku                       -0.065576     0.649433      0.002371     1.010342  0.080005\n",
       "p30_gmv                    0.036356     0.760437     -0.001315     1.007595  0.042203\n",
       "p30_order_cnt              0.052121     0.895460     -0.001885     1.003552  0.056786\n",
       "follower_count             0.035862     0.793935     -0.001297     1.006661  0.040989\n",
       "seller_type_NS             0.781804     0.413188      0.845193     0.361726  0.163244\n",
       "seller_type_OS             0.011272     0.105613      0.008356     0.091031  0.029577\n",
       "seller_type_PS             0.206924     0.405264      0.146451     0.353563  0.159018\n",
       "camp_flag_N                0.428341     0.495038      1.000000     0.000000  1.633103\n",
       "camp_flag_Y                0.571659     0.495038      0.000000     0.000000  1.633103"
      ]
     },
     "execution_count": 72,
     "metadata": {},
     "output_type": "execute_result"
    }
   ],
   "source": [
    "assess_detail = assess_balance(for_mth_df_treated, for_mth_df_control, covars)\n",
    "assess_detail"
   ]
  },
  {
   "cell_type": "code",
   "execution_count": 73,
   "metadata": {
    "hidden": true
   },
   "outputs": [
    {
     "name": "stdout",
     "output_type": "stream",
     "text": [
      "std of treatment and control 0.387903868568007\n"
     ]
    }
   ],
   "source": [
    "print('std of treatment and control', assess_detail.smd.mean())"
   ]
  },
  {
   "cell_type": "markdown",
   "metadata": {
    "hidden": true
   },
   "source": [
    "Since the standarization doesn't change the distribution, the smd after data transformed is as same as before data did."
   ]
  },
  {
   "cell_type": "markdown",
   "metadata": {
    "heading_collapsed": true,
    "hidden": true
   },
   "source": [
    "#### NN Matched Control vs Treat - 0.44"
   ]
  },
  {
   "cell_type": "code",
   "execution_count": 74,
   "metadata": {
    "hidden": true
   },
   "outputs": [
    {
     "data": {
      "text/html": [
       "<div>\n",
       "<style scoped>\n",
       "    .dataframe tbody tr th:only-of-type {\n",
       "        vertical-align: middle;\n",
       "    }\n",
       "\n",
       "    .dataframe tbody tr th {\n",
       "        vertical-align: top;\n",
       "    }\n",
       "\n",
       "    .dataframe thead th {\n",
       "        text-align: right;\n",
       "    }\n",
       "</style>\n",
       "<table border=\"1\" class=\"dataframe\">\n",
       "  <thead>\n",
       "    <tr style=\"text-align: right;\">\n",
       "      <th></th>\n",
       "      <th>treated_mean</th>\n",
       "      <th>treated_std</th>\n",
       "      <th>control_mean</th>\n",
       "      <th>control_std</th>\n",
       "      <th>smd</th>\n",
       "    </tr>\n",
       "  </thead>\n",
       "  <tbody>\n",
       "    <tr>\n",
       "      <th>rating_star</th>\n",
       "      <td>0.097328</td>\n",
       "      <td>0.912437</td>\n",
       "      <td>-0.136826</td>\n",
       "      <td>0.935953</td>\n",
       "      <td>0.253339</td>\n",
       "    </tr>\n",
       "    <tr>\n",
       "      <th>display_response_rate</th>\n",
       "      <td>0.288200</td>\n",
       "      <td>0.832961</td>\n",
       "      <td>-0.076374</td>\n",
       "      <td>0.833062</td>\n",
       "      <td>0.437659</td>\n",
       "    </tr>\n",
       "    <tr>\n",
       "      <th>sku</th>\n",
       "      <td>-0.065576</td>\n",
       "      <td>0.649433</td>\n",
       "      <td>0.013276</td>\n",
       "      <td>0.688118</td>\n",
       "      <td>0.117855</td>\n",
       "    </tr>\n",
       "    <tr>\n",
       "      <th>p30_gmv</th>\n",
       "      <td>0.036356</td>\n",
       "      <td>0.760437</td>\n",
       "      <td>-0.006596</td>\n",
       "      <td>0.680341</td>\n",
       "      <td>0.059531</td>\n",
       "    </tr>\n",
       "    <tr>\n",
       "      <th>p30_order_cnt</th>\n",
       "      <td>0.052121</td>\n",
       "      <td>0.895460</td>\n",
       "      <td>0.008983</td>\n",
       "      <td>0.716659</td>\n",
       "      <td>0.053191</td>\n",
       "    </tr>\n",
       "    <tr>\n",
       "      <th>follower_count</th>\n",
       "      <td>0.035862</td>\n",
       "      <td>0.793935</td>\n",
       "      <td>0.031686</td>\n",
       "      <td>0.726326</td>\n",
       "      <td>0.005489</td>\n",
       "    </tr>\n",
       "    <tr>\n",
       "      <th>seller_type_NS</th>\n",
       "      <td>0.781804</td>\n",
       "      <td>0.413188</td>\n",
       "      <td>0.896520</td>\n",
       "      <td>0.304724</td>\n",
       "      <td>0.315998</td>\n",
       "    </tr>\n",
       "    <tr>\n",
       "      <th>seller_type_OS</th>\n",
       "      <td>0.011272</td>\n",
       "      <td>0.105613</td>\n",
       "      <td>0.011905</td>\n",
       "      <td>0.108507</td>\n",
       "      <td>0.005908</td>\n",
       "    </tr>\n",
       "    <tr>\n",
       "      <th>seller_type_PS</th>\n",
       "      <td>0.206924</td>\n",
       "      <td>0.405264</td>\n",
       "      <td>0.091575</td>\n",
       "      <td>0.288557</td>\n",
       "      <td>0.327898</td>\n",
       "    </tr>\n",
       "    <tr>\n",
       "      <th>camp_flag_N</th>\n",
       "      <td>0.428341</td>\n",
       "      <td>0.495038</td>\n",
       "      <td>1.000000</td>\n",
       "      <td>0.000000</td>\n",
       "      <td>1.633103</td>\n",
       "    </tr>\n",
       "    <tr>\n",
       "      <th>camp_flag_Y</th>\n",
       "      <td>0.571659</td>\n",
       "      <td>0.495038</td>\n",
       "      <td>0.000000</td>\n",
       "      <td>0.000000</td>\n",
       "      <td>1.633103</td>\n",
       "    </tr>\n",
       "  </tbody>\n",
       "</table>\n",
       "</div>"
      ],
      "text/plain": [
       "                       treated_mean  treated_std  control_mean  control_std       smd\n",
       "rating_star                0.097328     0.912437     -0.136826     0.935953  0.253339\n",
       "display_response_rate      0.288200     0.832961     -0.076374     0.833062  0.437659\n",
       "sku                       -0.065576     0.649433      0.013276     0.688118  0.117855\n",
       "p30_gmv                    0.036356     0.760437     -0.006596     0.680341  0.059531\n",
       "p30_order_cnt              0.052121     0.895460      0.008983     0.716659  0.053191\n",
       "follower_count             0.035862     0.793935      0.031686     0.726326  0.005489\n",
       "seller_type_NS             0.781804     0.413188      0.896520     0.304724  0.315998\n",
       "seller_type_OS             0.011272     0.105613      0.011905     0.108507  0.005908\n",
       "seller_type_PS             0.206924     0.405264      0.091575     0.288557  0.327898\n",
       "camp_flag_N                0.428341     0.495038      1.000000     0.000000  1.633103\n",
       "camp_flag_Y                0.571659     0.495038      0.000000     0.000000  1.633103"
      ]
     },
     "execution_count": 74,
     "metadata": {},
     "output_type": "execute_result"
    }
   ],
   "source": [
    "assess_detail_2 = assess_balance(for_mth_df_treated, matched_control_df, covars)\n",
    "assess_detail_2"
   ]
  },
  {
   "cell_type": "code",
   "execution_count": 75,
   "metadata": {
    "hidden": true
   },
   "outputs": [
    {
     "data": {
      "text/plain": [
       "0.4402793603679344"
      ]
     },
     "execution_count": 75,
     "metadata": {},
     "output_type": "execute_result"
    }
   ],
   "source": [
    "assess_detail_2.smd.mean()"
   ]
  },
  {
   "cell_type": "markdown",
   "metadata": {
    "heading_collapsed": true,
    "hidden": true
   },
   "source": [
    "#### Caliper NN Matched Control vs Treat - 0.48"
   ]
  },
  {
   "cell_type": "code",
   "execution_count": 180,
   "metadata": {
    "hidden": true
   },
   "outputs": [
    {
     "data": {
      "text/html": [
       "<div>\n",
       "<style scoped>\n",
       "    .dataframe tbody tr th:only-of-type {\n",
       "        vertical-align: middle;\n",
       "    }\n",
       "\n",
       "    .dataframe tbody tr th {\n",
       "        vertical-align: top;\n",
       "    }\n",
       "\n",
       "    .dataframe thead th {\n",
       "        text-align: right;\n",
       "    }\n",
       "</style>\n",
       "<table border=\"1\" class=\"dataframe\">\n",
       "  <thead>\n",
       "    <tr style=\"text-align: right;\">\n",
       "      <th></th>\n",
       "      <th>treated_mean</th>\n",
       "      <th>treated_std</th>\n",
       "      <th>control_mean</th>\n",
       "      <th>control_std</th>\n",
       "      <th>smd</th>\n",
       "    </tr>\n",
       "  </thead>\n",
       "  <tbody>\n",
       "    <tr>\n",
       "      <th>rating_star</th>\n",
       "      <td>0.097328</td>\n",
       "      <td>0.912437</td>\n",
       "      <td>0.196092</td>\n",
       "      <td>0.842556</td>\n",
       "      <td>0.112463</td>\n",
       "    </tr>\n",
       "    <tr>\n",
       "      <th>display_response_rate</th>\n",
       "      <td>0.288200</td>\n",
       "      <td>0.832961</td>\n",
       "      <td>0.185149</td>\n",
       "      <td>0.878042</td>\n",
       "      <td>0.120416</td>\n",
       "    </tr>\n",
       "    <tr>\n",
       "      <th>sku</th>\n",
       "      <td>-0.065576</td>\n",
       "      <td>0.649433</td>\n",
       "      <td>-0.166111</td>\n",
       "      <td>0.496249</td>\n",
       "      <td>0.173954</td>\n",
       "    </tr>\n",
       "    <tr>\n",
       "      <th>p30_gmv</th>\n",
       "      <td>0.036356</td>\n",
       "      <td>0.760437</td>\n",
       "      <td>-0.133424</td>\n",
       "      <td>0.226925</td>\n",
       "      <td>0.302561</td>\n",
       "    </tr>\n",
       "    <tr>\n",
       "      <th>p30_order_cnt</th>\n",
       "      <td>0.052121</td>\n",
       "      <td>0.895460</td>\n",
       "      <td>-0.148828</td>\n",
       "      <td>0.279731</td>\n",
       "      <td>0.302925</td>\n",
       "    </tr>\n",
       "    <tr>\n",
       "      <th>follower_count</th>\n",
       "      <td>0.035862</td>\n",
       "      <td>0.793935</td>\n",
       "      <td>-0.097958</td>\n",
       "      <td>0.489107</td>\n",
       "      <td>0.202949</td>\n",
       "    </tr>\n",
       "    <tr>\n",
       "      <th>seller_type_NS</th>\n",
       "      <td>0.781804</td>\n",
       "      <td>0.413188</td>\n",
       "      <td>0.925121</td>\n",
       "      <td>0.263515</td>\n",
       "      <td>0.413580</td>\n",
       "    </tr>\n",
       "    <tr>\n",
       "      <th>seller_type_OS</th>\n",
       "      <td>0.011272</td>\n",
       "      <td>0.105613</td>\n",
       "      <td>0.002415</td>\n",
       "      <td>0.049147</td>\n",
       "      <td>0.107524</td>\n",
       "    </tr>\n",
       "    <tr>\n",
       "      <th>seller_type_PS</th>\n",
       "      <td>0.206924</td>\n",
       "      <td>0.405264</td>\n",
       "      <td>0.072464</td>\n",
       "      <td>0.259568</td>\n",
       "      <td>0.395118</td>\n",
       "    </tr>\n",
       "    <tr>\n",
       "      <th>camp_flag_N</th>\n",
       "      <td>0.428341</td>\n",
       "      <td>0.495038</td>\n",
       "      <td>1.000000</td>\n",
       "      <td>0.000000</td>\n",
       "      <td>1.633103</td>\n",
       "    </tr>\n",
       "    <tr>\n",
       "      <th>camp_flag_Y</th>\n",
       "      <td>0.571659</td>\n",
       "      <td>0.495038</td>\n",
       "      <td>0.000000</td>\n",
       "      <td>0.000000</td>\n",
       "      <td>1.633103</td>\n",
       "    </tr>\n",
       "  </tbody>\n",
       "</table>\n",
       "</div>"
      ],
      "text/plain": [
       "                       treated_mean  treated_std  control_mean  control_std       smd\n",
       "rating_star                0.097328     0.912437      0.196092     0.842556  0.112463\n",
       "display_response_rate      0.288200     0.832961      0.185149     0.878042  0.120416\n",
       "sku                       -0.065576     0.649433     -0.166111     0.496249  0.173954\n",
       "p30_gmv                    0.036356     0.760437     -0.133424     0.226925  0.302561\n",
       "p30_order_cnt              0.052121     0.895460     -0.148828     0.279731  0.302925\n",
       "follower_count             0.035862     0.793935     -0.097958     0.489107  0.202949\n",
       "seller_type_NS             0.781804     0.413188      0.925121     0.263515  0.413580\n",
       "seller_type_OS             0.011272     0.105613      0.002415     0.049147  0.107524\n",
       "seller_type_PS             0.206924     0.405264      0.072464     0.259568  0.395118\n",
       "camp_flag_N                0.428341     0.495038      1.000000     0.000000  1.633103\n",
       "camp_flag_Y                0.571659     0.495038      0.000000     0.000000  1.633103"
      ]
     },
     "execution_count": 180,
     "metadata": {},
     "output_type": "execute_result"
    }
   ],
   "source": [
    "assess_detail_3 = assess_balance(for_mth_df_treated, caliper_matched_control_df, covars)\n",
    "assess_detail_3"
   ]
  },
  {
   "cell_type": "code",
   "execution_count": 181,
   "metadata": {
    "hidden": true
   },
   "outputs": [
    {
     "data": {
      "text/plain": [
       "0.4906995353780959"
      ]
     },
     "execution_count": 181,
     "metadata": {},
     "output_type": "execute_result"
    }
   ],
   "source": [
    "assess_detail_3.smd.mean()"
   ]
  },
  {
   "cell_type": "markdown",
   "metadata": {
    "heading_collapsed": true
   },
   "source": [
    "### Type4-2. t-Test"
   ]
  },
  {
   "cell_type": "code",
   "execution_count": 205,
   "metadata": {
    "hidden": true
   },
   "outputs": [],
   "source": [
    "# NN Matched Control vs Treat\n",
    "stat_df = pd.concat([\n",
    "    matched_control_df[covars].agg(['mean', 'sem']).T.add_prefix('matched_control_'),\n",
    "    for_mth_df_treated[covars].agg(['mean', 'sem']).T.add_prefix('treat_')\n",
    "], axis = 1)"
   ]
  },
  {
   "cell_type": "code",
   "execution_count": 206,
   "metadata": {
    "hidden": true
   },
   "outputs": [
    {
     "data": {
      "text/html": [
       "<div>\n",
       "<style scoped>\n",
       "    .dataframe tbody tr th:only-of-type {\n",
       "        vertical-align: middle;\n",
       "    }\n",
       "\n",
       "    .dataframe tbody tr th {\n",
       "        vertical-align: top;\n",
       "    }\n",
       "\n",
       "    .dataframe thead th {\n",
       "        text-align: right;\n",
       "    }\n",
       "</style>\n",
       "<table border=\"1\" class=\"dataframe\">\n",
       "  <thead>\n",
       "    <tr style=\"text-align: right;\">\n",
       "      <th></th>\n",
       "      <th>matched_control_mean</th>\n",
       "      <th>matched_control_sem</th>\n",
       "      <th>treat_mean</th>\n",
       "      <th>treat_sem</th>\n",
       "    </tr>\n",
       "  </thead>\n",
       "  <tbody>\n",
       "    <tr>\n",
       "      <th>rating_star</th>\n",
       "      <td>-0.136826</td>\n",
       "      <td>0.028323</td>\n",
       "      <td>0.097328</td>\n",
       "      <td>0.025891</td>\n",
       "    </tr>\n",
       "    <tr>\n",
       "      <th>display_response_rate</th>\n",
       "      <td>-0.076374</td>\n",
       "      <td>0.025210</td>\n",
       "      <td>0.288200</td>\n",
       "      <td>0.023635</td>\n",
       "    </tr>\n",
       "    <tr>\n",
       "      <th>sku</th>\n",
       "      <td>0.013276</td>\n",
       "      <td>0.020823</td>\n",
       "      <td>-0.065576</td>\n",
       "      <td>0.018428</td>\n",
       "    </tr>\n",
       "    <tr>\n",
       "      <th>p30_gmv</th>\n",
       "      <td>-0.006596</td>\n",
       "      <td>0.020588</td>\n",
       "      <td>0.036356</td>\n",
       "      <td>0.021578</td>\n",
       "    </tr>\n",
       "    <tr>\n",
       "      <th>p30_order_cnt</th>\n",
       "      <td>0.008983</td>\n",
       "      <td>0.021687</td>\n",
       "      <td>0.052121</td>\n",
       "      <td>0.025409</td>\n",
       "    </tr>\n",
       "    <tr>\n",
       "      <th>follower_count</th>\n",
       "      <td>0.031686</td>\n",
       "      <td>0.021980</td>\n",
       "      <td>0.035862</td>\n",
       "      <td>0.022528</td>\n",
       "    </tr>\n",
       "    <tr>\n",
       "      <th>seller_type_NS</th>\n",
       "      <td>0.896520</td>\n",
       "      <td>0.009221</td>\n",
       "      <td>0.781804</td>\n",
       "      <td>0.011724</td>\n",
       "    </tr>\n",
       "    <tr>\n",
       "      <th>seller_type_OS</th>\n",
       "      <td>0.011905</td>\n",
       "      <td>0.003284</td>\n",
       "      <td>0.011272</td>\n",
       "      <td>0.002997</td>\n",
       "    </tr>\n",
       "    <tr>\n",
       "      <th>seller_type_PS</th>\n",
       "      <td>0.091575</td>\n",
       "      <td>0.008732</td>\n",
       "      <td>0.206924</td>\n",
       "      <td>0.011499</td>\n",
       "    </tr>\n",
       "    <tr>\n",
       "      <th>camp_flag_N</th>\n",
       "      <td>1.000000</td>\n",
       "      <td>0.000000</td>\n",
       "      <td>0.428341</td>\n",
       "      <td>0.014047</td>\n",
       "    </tr>\n",
       "    <tr>\n",
       "      <th>camp_flag_Y</th>\n",
       "      <td>0.000000</td>\n",
       "      <td>0.000000</td>\n",
       "      <td>0.571659</td>\n",
       "      <td>0.014047</td>\n",
       "    </tr>\n",
       "  </tbody>\n",
       "</table>\n",
       "</div>"
      ],
      "text/plain": [
       "                       matched_control_mean  matched_control_sem  treat_mean  treat_sem\n",
       "rating_star                       -0.136826             0.028323    0.097328   0.025891\n",
       "display_response_rate             -0.076374             0.025210    0.288200   0.023635\n",
       "sku                                0.013276             0.020823   -0.065576   0.018428\n",
       "p30_gmv                           -0.006596             0.020588    0.036356   0.021578\n",
       "p30_order_cnt                      0.008983             0.021687    0.052121   0.025409\n",
       "follower_count                     0.031686             0.021980    0.035862   0.022528\n",
       "seller_type_NS                     0.896520             0.009221    0.781804   0.011724\n",
       "seller_type_OS                     0.011905             0.003284    0.011272   0.002997\n",
       "seller_type_PS                     0.091575             0.008732    0.206924   0.011499\n",
       "camp_flag_N                        1.000000             0.000000    0.428341   0.014047\n",
       "camp_flag_Y                        0.000000             0.000000    0.571659   0.014047"
      ]
     },
     "execution_count": 206,
     "metadata": {},
     "output_type": "execute_result"
    }
   ],
   "source": [
    "stat_df"
   ]
  },
  {
   "cell_type": "code",
   "execution_count": 207,
   "metadata": {
    "hidden": true
   },
   "outputs": [
    {
     "name": "stdout",
     "output_type": "stream",
     "text": [
      "Variable: rating_star\n",
      "Ttest_indResult(statistic=-6.111938718923056, pvalue=1.1503113189164335e-09)\n",
      "Variable: display_response_rate\n",
      "Ttest_indResult(statistic=-10.550153951051831, pvalue=1.8805939176309e-25)\n",
      "Variable: sku\n",
      "Ttest_indResult(statistic=2.8462971646552453, pvalue=0.0044617506356128475)\n",
      "Variable: p30_gmv\n",
      "Ttest_indResult(statistic=-1.4299556531373372, pvalue=0.15286370561319093)\n",
      "Variable: p30_order_cnt\n",
      "Ttest_indResult(statistic=-1.2732805234821494, pvalue=0.2030454222620311)\n",
      "Variable: follower_count\n",
      "Ttest_indResult(statistic=-0.13193010069101802, pvalue=0.8950509609677398)\n",
      "Variable: seller_type_NS\n",
      "Ttest_indResult(statistic=7.546026578178591, pvalue=6.393524042517375e-14)\n",
      "Variable: seller_type_OS\n",
      "Ttest_indResult(statistic=0.14255276868882866, pvalue=0.8866557163353253)\n",
      "Variable: seller_type_PS\n",
      "Ttest_indResult(statistic=-7.8223614839547, pvalue=7.790942819984469e-15)\n",
      "Variable: camp_flag_N\n",
      "Ttest_indResult(statistic=38.15913527485795, pvalue=5.686114707587068e-248)\n",
      "Variable: camp_flag_Y\n",
      "Ttest_indResult(statistic=-38.15913527485795, pvalue=5.686114707587068e-248)\n"
     ]
    }
   ],
   "source": [
    "for x in stat_df.index.values:\n",
    "    print(\"Variable: \" + x)\n",
    "    print(stats.ttest_ind(matched_control_df[x].dropna(),\n",
    "                          for_mth_df_treated[x].dropna()\n",
    "                         )\n",
    "         )"
   ]
  },
  {
   "cell_type": "markdown",
   "metadata": {
    "hidden": true
   },
   "source": [
    "From the p-value, we are hard to say our matching is successful."
   ]
  },
  {
   "cell_type": "markdown",
   "metadata": {},
   "source": [
    "## Step5. Calculation of Treatment Effects"
   ]
  },
  {
   "cell_type": "code",
   "execution_count": 210,
   "metadata": {},
   "outputs": [
    {
     "data": {
      "text/html": [
       "<div>\n",
       "<style scoped>\n",
       "    .dataframe tbody tr th:only-of-type {\n",
       "        vertical-align: middle;\n",
       "    }\n",
       "\n",
       "    .dataframe tbody tr th {\n",
       "        vertical-align: top;\n",
       "    }\n",
       "\n",
       "    .dataframe thead th {\n",
       "        text-align: right;\n",
       "    }\n",
       "</style>\n",
       "<table border=\"1\" class=\"dataframe\">\n",
       "  <thead>\n",
       "    <tr style=\"text-align: right;\">\n",
       "      <th></th>\n",
       "      <th>rating_star</th>\n",
       "      <th>display_response_rate</th>\n",
       "      <th>sku</th>\n",
       "      <th>p30_gmv</th>\n",
       "      <th>p30_order_cnt</th>\n",
       "      <th>follower_count</th>\n",
       "      <th>Decorated</th>\n",
       "      <th>seller_type_NS</th>\n",
       "      <th>seller_type_OS</th>\n",
       "      <th>seller_type_PS</th>\n",
       "      <th>camp_flag_N</th>\n",
       "      <th>camp_flag_Y</th>\n",
       "      <th>logit_score</th>\n",
       "      <th>shopid</th>\n",
       "      <th>Clicks_pre_User_Before</th>\n",
       "      <th>Clicks_pre_User_After</th>\n",
       "    </tr>\n",
       "  </thead>\n",
       "  <tbody>\n",
       "    <tr>\n",
       "      <th>32378</th>\n",
       "      <td>-0.302968</td>\n",
       "      <td>0.698817</td>\n",
       "      <td>0.127114</td>\n",
       "      <td>-0.126965</td>\n",
       "      <td>-0.090407</td>\n",
       "      <td>0.047065</td>\n",
       "      <td>0</td>\n",
       "      <td>1</td>\n",
       "      <td>0</td>\n",
       "      <td>0</td>\n",
       "      <td>1</td>\n",
       "      <td>0</td>\n",
       "      <td>0.018138</td>\n",
       "      <td>13037</td>\n",
       "      <td>7.750000</td>\n",
       "      <td>2.592593</td>\n",
       "    </tr>\n",
       "    <tr>\n",
       "      <th>12676</th>\n",
       "      <td>0.347774</td>\n",
       "      <td>-0.646557</td>\n",
       "      <td>-0.087267</td>\n",
       "      <td>-0.234761</td>\n",
       "      <td>-0.226114</td>\n",
       "      <td>-0.220698</td>\n",
       "      <td>0</td>\n",
       "      <td>1</td>\n",
       "      <td>0</td>\n",
       "      <td>0</td>\n",
       "      <td>1</td>\n",
       "      <td>0</td>\n",
       "      <td>0.013945</td>\n",
       "      <td>122425313</td>\n",
       "      <td>2.166667</td>\n",
       "      <td>1.777778</td>\n",
       "    </tr>\n",
       "  </tbody>\n",
       "</table>\n",
       "</div>"
      ],
      "text/plain": [
       "       rating_star  display_response_rate       sku   p30_gmv  p30_order_cnt  follower_count  \\\n",
       "32378    -0.302968               0.698817  0.127114 -0.126965      -0.090407        0.047065   \n",
       "12676     0.347774              -0.646557 -0.087267 -0.234761      -0.226114       -0.220698   \n",
       "\n",
       "       Decorated  seller_type_NS  seller_type_OS  seller_type_PS  camp_flag_N  camp_flag_Y  \\\n",
       "32378          0               1               0               0            1            0   \n",
       "12676          0               1               0               0            1            0   \n",
       "\n",
       "       logit_score     shopid  Clicks_pre_User_Before  Clicks_pre_User_After  \n",
       "32378     0.018138      13037                7.750000               2.592593  \n",
       "12676     0.013945  122425313                2.166667               1.777778  "
      ]
     },
     "execution_count": 210,
     "metadata": {},
     "output_type": "execute_result"
    }
   ],
   "source": [
    "matched_control_df.head(2)"
   ]
  },
  {
   "cell_type": "code",
   "execution_count": 216,
   "metadata": {},
   "outputs": [
    {
     "data": {
      "text/plain": [
       "-0.022447097964285675"
      ]
     },
     "execution_count": 216,
     "metadata": {},
     "output_type": "execute_result"
    }
   ],
   "source": [
    "# The increase of clicks pre user with non-decorated shop\n",
    "(matched_control_df.Clicks_pre_User_After - matched_control_df.Clicks_pre_User_Before).mean()"
   ]
  },
  {
   "cell_type": "code",
   "execution_count": 211,
   "metadata": {},
   "outputs": [
    {
     "data": {
      "text/html": [
       "<div>\n",
       "<style scoped>\n",
       "    .dataframe tbody tr th:only-of-type {\n",
       "        vertical-align: middle;\n",
       "    }\n",
       "\n",
       "    .dataframe tbody tr th {\n",
       "        vertical-align: top;\n",
       "    }\n",
       "\n",
       "    .dataframe thead th {\n",
       "        text-align: right;\n",
       "    }\n",
       "</style>\n",
       "<table border=\"1\" class=\"dataframe\">\n",
       "  <thead>\n",
       "    <tr style=\"text-align: right;\">\n",
       "      <th></th>\n",
       "      <th>rating_star</th>\n",
       "      <th>display_response_rate</th>\n",
       "      <th>sku</th>\n",
       "      <th>p30_gmv</th>\n",
       "      <th>p30_order_cnt</th>\n",
       "      <th>follower_count</th>\n",
       "      <th>Decorated</th>\n",
       "      <th>seller_type_NS</th>\n",
       "      <th>seller_type_OS</th>\n",
       "      <th>seller_type_PS</th>\n",
       "      <th>camp_flag_N</th>\n",
       "      <th>camp_flag_Y</th>\n",
       "      <th>logit_score</th>\n",
       "      <th>shopid</th>\n",
       "      <th>Clicks_pre_User_Before</th>\n",
       "      <th>Clicks_pre_User_After</th>\n",
       "    </tr>\n",
       "  </thead>\n",
       "  <tbody>\n",
       "    <tr>\n",
       "      <th>33</th>\n",
       "      <td>-0.172819</td>\n",
       "      <td>0.878200</td>\n",
       "      <td>0.013225</td>\n",
       "      <td>-0.242560</td>\n",
       "      <td>-0.258946</td>\n",
       "      <td>-0.066925</td>\n",
       "      <td>1</td>\n",
       "      <td>1</td>\n",
       "      <td>0</td>\n",
       "      <td>0</td>\n",
       "      <td>1</td>\n",
       "      <td>0</td>\n",
       "      <td>0.020593</td>\n",
       "      <td>18109304</td>\n",
       "      <td>10.0</td>\n",
       "      <td>9.8</td>\n",
       "    </tr>\n",
       "    <tr>\n",
       "      <th>54</th>\n",
       "      <td>0.542997</td>\n",
       "      <td>-0.646557</td>\n",
       "      <td>-0.208813</td>\n",
       "      <td>-0.241198</td>\n",
       "      <td>-0.254569</td>\n",
       "      <td>-0.241578</td>\n",
       "      <td>1</td>\n",
       "      <td>1</td>\n",
       "      <td>0</td>\n",
       "      <td>0</td>\n",
       "      <td>1</td>\n",
       "      <td>0</td>\n",
       "      <td>0.014725</td>\n",
       "      <td>37819643</td>\n",
       "      <td>4.0</td>\n",
       "      <td>3.2</td>\n",
       "    </tr>\n",
       "  </tbody>\n",
       "</table>\n",
       "</div>"
      ],
      "text/plain": [
       "    rating_star  display_response_rate       sku   p30_gmv  p30_order_cnt  follower_count  \\\n",
       "33    -0.172819               0.878200  0.013225 -0.242560      -0.258946       -0.066925   \n",
       "54     0.542997              -0.646557 -0.208813 -0.241198      -0.254569       -0.241578   \n",
       "\n",
       "    Decorated  seller_type_NS  seller_type_OS  seller_type_PS  camp_flag_N  camp_flag_Y  \\\n",
       "33          1               1               0               0            1            0   \n",
       "54          1               1               0               0            1            0   \n",
       "\n",
       "    logit_score    shopid  Clicks_pre_User_Before  Clicks_pre_User_After  \n",
       "33     0.020593  18109304                    10.0                    9.8  \n",
       "54     0.014725  37819643                     4.0                    3.2  "
      ]
     },
     "execution_count": 211,
     "metadata": {},
     "output_type": "execute_result"
    }
   ],
   "source": [
    "for_mth_df_treated.head(2)"
   ]
  },
  {
   "cell_type": "code",
   "execution_count": 217,
   "metadata": {},
   "outputs": [
    {
     "data": {
      "text/plain": [
       "0.1576129063019323"
      ]
     },
     "execution_count": 217,
     "metadata": {},
     "output_type": "execute_result"
    }
   ],
   "source": [
    "# The increase of clicks pre user with decorated shop\n",
    "(for_mth_df_treated.Clicks_pre_User_After - for_mth_df_treated.Clicks_pre_User_Before).mean()"
   ]
  },
  {
   "cell_type": "markdown",
   "metadata": {},
   "source": [
    "## Step6. Sensitivity Analysis"
   ]
  },
  {
   "cell_type": "code",
   "execution_count": null,
   "metadata": {},
   "outputs": [],
   "source": []
  },
  {
   "cell_type": "code",
   "execution_count": null,
   "metadata": {},
   "outputs": [],
   "source": []
  }
 ],
 "metadata": {
  "kernelspec": {
   "display_name": "Python 3",
   "language": "python",
   "name": "python3"
  },
  "language_info": {
   "codemirror_mode": {
    "name": "ipython",
    "version": 3
   },
   "file_extension": ".py",
   "mimetype": "text/x-python",
   "name": "python",
   "nbconvert_exporter": "python",
   "pygments_lexer": "ipython3",
   "version": "3.7.3"
  }
 },
 "nbformat": 4,
 "nbformat_minor": 2
}
