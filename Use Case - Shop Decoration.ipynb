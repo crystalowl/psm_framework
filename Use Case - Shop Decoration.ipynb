{
 "cells": [
  {
   "cell_type": "markdown",
   "metadata": {
    "heading_collapsed": true
   },
   "source": [
    "## Problem Definition: Causal Graph - ok"
   ]
  },
  {
   "cell_type": "markdown",
   "metadata": {
    "hidden": true
   },
   "source": [
    "<img src=\"graph/causalGraph_v0820.png\" width = \"800\">"
   ]
  },
  {
   "cell_type": "markdown",
   "metadata": {
    "heading_collapsed": true
   },
   "source": [
    "## Step0. Package/Variable Setting - ok"
   ]
  },
  {
   "cell_type": "code",
   "execution_count": 41,
   "metadata": {
    "hidden": true
   },
   "outputs": [],
   "source": [
    "import numpy as np\n",
    "import pandas as pd\n",
    "import sklearn.linear_model as linear_model\n",
    "import statsmodels.discrete.discrete_model as sm\n",
    "import matplotlib.pyplot as plt\n",
    "import seaborn as sns\n",
    "%matplotlib inline\n",
    "from patsy import dmatrices\n",
    "from sklearn.neighbors import NearestNeighbors\n",
    "from sklearn.preprocessing import StandardScaler, Normalizer\n",
    "from pandas.api.types import is_string_dtype, is_numeric_dtype\n",
    "from sklearn_pandas import DataFrameMapper\n",
    "from sklearn.metrics import roc_auc_score"
   ]
  },
  {
   "cell_type": "code",
   "execution_count": 2,
   "metadata": {
    "hidden": true
   },
   "outputs": [],
   "source": [
    "pd.set_option('display.max_rows', 50)\n",
    "pd.set_option('display.max_columns', 50)\n",
    "pd.set_option('display.width', 100)"
   ]
  },
  {
   "cell_type": "markdown",
   "metadata": {},
   "source": [
    "##  Step1. Estimation of Propensity Score - ok"
   ]
  },
  {
   "cell_type": "markdown",
   "metadata": {
    "heading_collapsed": true
   },
   "source": [
    "### 1-1. Data Processing"
   ]
  },
  {
   "cell_type": "code",
   "execution_count": 3,
   "metadata": {
    "hidden": true
   },
   "outputs": [],
   "source": [
    "trn_df = pd.read_csv('data/MY_shopProfiling+Effects.csv', sep = ',')\n",
    "tst_df = pd.read_csv('data/ID_shopProfiling.csv', sep = ',')"
   ]
  },
  {
   "cell_type": "code",
   "execution_count": 4,
   "metadata": {
    "hidden": true
   },
   "outputs": [
    {
     "name": "stdout",
     "output_type": "stream",
     "text": [
      "(35588, 13) (128285, 11)\n"
     ]
    },
    {
     "data": {
      "text/html": [
       "<div>\n",
       "<style scoped>\n",
       "    .dataframe tbody tr th:only-of-type {\n",
       "        vertical-align: middle;\n",
       "    }\n",
       "\n",
       "    .dataframe tbody tr th {\n",
       "        vertical-align: top;\n",
       "    }\n",
       "\n",
       "    .dataframe thead th {\n",
       "        text-align: right;\n",
       "    }\n",
       "</style>\n",
       "<table border=\"1\" class=\"dataframe\">\n",
       "  <thead>\n",
       "    <tr style=\"text-align: right;\">\n",
       "      <th></th>\n",
       "      <th>shopid</th>\n",
       "      <th>seller_type</th>\n",
       "      <th>rating_star</th>\n",
       "      <th>display_response_rate</th>\n",
       "      <th>sku</th>\n",
       "      <th>camp_flag</th>\n",
       "      <th>main_category</th>\n",
       "      <th>p30_gmv</th>\n",
       "      <th>p30_order_cnt</th>\n",
       "      <th>follower_count</th>\n",
       "      <th>Decorated</th>\n",
       "      <th>Clicks_pre_User_Before</th>\n",
       "      <th>Clicks_pre_User_After</th>\n",
       "    </tr>\n",
       "  </thead>\n",
       "  <tbody>\n",
       "    <tr>\n",
       "      <th>0</th>\n",
       "      <td>65408</td>\n",
       "      <td>NS</td>\n",
       "      <td>4.90</td>\n",
       "      <td>89</td>\n",
       "      <td>745</td>\n",
       "      <td>N</td>\n",
       "      <td>Muslim Fashion</td>\n",
       "      <td>3202.70</td>\n",
       "      <td>51</td>\n",
       "      <td>264.0</td>\n",
       "      <td>0</td>\n",
       "      <td>0.0</td>\n",
       "      <td>2.5</td>\n",
       "    </tr>\n",
       "    <tr>\n",
       "      <th>1</th>\n",
       "      <td>439807</td>\n",
       "      <td>NS</td>\n",
       "      <td>4.17</td>\n",
       "      <td>65</td>\n",
       "      <td>9</td>\n",
       "      <td>N</td>\n",
       "      <td>Groceries &amp; Pets</td>\n",
       "      <td>329.04</td>\n",
       "      <td>6</td>\n",
       "      <td>101.0</td>\n",
       "      <td>0</td>\n",
       "      <td>0.0</td>\n",
       "      <td>0.0</td>\n",
       "    </tr>\n",
       "  </tbody>\n",
       "</table>\n",
       "</div>"
      ],
      "text/plain": [
       "   shopid seller_type  rating_star  display_response_rate  sku camp_flag     main_category  \\\n",
       "0   65408          NS         4.90                     89  745         N    Muslim Fashion   \n",
       "1  439807          NS         4.17                     65    9         N  Groceries & Pets   \n",
       "\n",
       "   p30_gmv  p30_order_cnt  follower_count  Decorated  Clicks_pre_User_Before  \\\n",
       "0  3202.70             51           264.0          0                     0.0   \n",
       "1   329.04              6           101.0          0                     0.0   \n",
       "\n",
       "   Clicks_pre_User_After  \n",
       "0                    2.5  \n",
       "1                    0.0  "
      ]
     },
     "execution_count": 4,
     "metadata": {},
     "output_type": "execute_result"
    }
   ],
   "source": [
    "print(trn_df.shape, tst_df.shape)\n",
    "trn_df.head(2)"
   ]
  },
  {
   "cell_type": "code",
   "execution_count": 5,
   "metadata": {
    "hidden": true
   },
   "outputs": [
    {
     "data": {
      "text/html": [
       "<div>\n",
       "<style scoped>\n",
       "    .dataframe tbody tr th:only-of-type {\n",
       "        vertical-align: middle;\n",
       "    }\n",
       "\n",
       "    .dataframe tbody tr th {\n",
       "        vertical-align: top;\n",
       "    }\n",
       "\n",
       "    .dataframe thead th {\n",
       "        text-align: right;\n",
       "    }\n",
       "</style>\n",
       "<table border=\"1\" class=\"dataframe\">\n",
       "  <thead>\n",
       "    <tr style=\"text-align: right;\">\n",
       "      <th></th>\n",
       "      <th>trn_df</th>\n",
       "      <th>tst_df</th>\n",
       "    </tr>\n",
       "  </thead>\n",
       "  <tbody>\n",
       "    <tr>\n",
       "      <th>shopid</th>\n",
       "      <td>0.0</td>\n",
       "      <td>0.0</td>\n",
       "    </tr>\n",
       "    <tr>\n",
       "      <th>seller_type</th>\n",
       "      <td>0.0</td>\n",
       "      <td>0.0</td>\n",
       "    </tr>\n",
       "    <tr>\n",
       "      <th>rating_star</th>\n",
       "      <td>0.0</td>\n",
       "      <td>0.0</td>\n",
       "    </tr>\n",
       "    <tr>\n",
       "      <th>display_response_rate</th>\n",
       "      <td>0.0</td>\n",
       "      <td>0.0</td>\n",
       "    </tr>\n",
       "    <tr>\n",
       "      <th>sku</th>\n",
       "      <td>0.0</td>\n",
       "      <td>0.0</td>\n",
       "    </tr>\n",
       "    <tr>\n",
       "      <th>camp_flag</th>\n",
       "      <td>0.0</td>\n",
       "      <td>0.0</td>\n",
       "    </tr>\n",
       "    <tr>\n",
       "      <th>main_category</th>\n",
       "      <td>0.0</td>\n",
       "      <td>0.0</td>\n",
       "    </tr>\n",
       "    <tr>\n",
       "      <th>p30_gmv</th>\n",
       "      <td>0.0</td>\n",
       "      <td>0.0</td>\n",
       "    </tr>\n",
       "    <tr>\n",
       "      <th>p30_order_cnt</th>\n",
       "      <td>0.0</td>\n",
       "      <td>0.0</td>\n",
       "    </tr>\n",
       "    <tr>\n",
       "      <th>follower_count</th>\n",
       "      <td>38.0</td>\n",
       "      <td>0.0</td>\n",
       "    </tr>\n",
       "    <tr>\n",
       "      <th>Decorated</th>\n",
       "      <td>0.0</td>\n",
       "      <td>0.0</td>\n",
       "    </tr>\n",
       "    <tr>\n",
       "      <th>Clicks_pre_User_Before</th>\n",
       "      <td>0.0</td>\n",
       "      <td>NaN</td>\n",
       "    </tr>\n",
       "    <tr>\n",
       "      <th>Clicks_pre_User_After</th>\n",
       "      <td>0.0</td>\n",
       "      <td>NaN</td>\n",
       "    </tr>\n",
       "  </tbody>\n",
       "</table>\n",
       "</div>"
      ],
      "text/plain": [
       "                        trn_df  tst_df\n",
       "shopid                     0.0     0.0\n",
       "seller_type                0.0     0.0\n",
       "rating_star                0.0     0.0\n",
       "display_response_rate      0.0     0.0\n",
       "sku                        0.0     0.0\n",
       "camp_flag                  0.0     0.0\n",
       "main_category              0.0     0.0\n",
       "p30_gmv                    0.0     0.0\n",
       "p30_order_cnt              0.0     0.0\n",
       "follower_count            38.0     0.0\n",
       "Decorated                  0.0     0.0\n",
       "Clicks_pre_User_Before     0.0     NaN\n",
       "Clicks_pre_User_After      0.0     NaN"
      ]
     },
     "execution_count": 5,
     "metadata": {},
     "output_type": "execute_result"
    }
   ],
   "source": [
    "# Check the null values\n",
    "pd.DataFrame(data = [trn_df.isnull().sum(), tst_df.isnull().sum()], index=['trn_df','tst_df']).T"
   ]
  },
  {
   "cell_type": "code",
   "execution_count": 6,
   "metadata": {
    "hidden": true
   },
   "outputs": [],
   "source": [
    "trn_df.follower_count.fillna(value = 0, inplace = True)"
   ]
  },
  {
   "cell_type": "code",
   "execution_count": 7,
   "metadata": {
    "hidden": true
   },
   "outputs": [],
   "source": [
    "# Check\n",
    "# pd.DataFrame(data = [trn_df.isnull().sum(), tst_df.isnull().sum()], index=['trn_df','tst_df']).T"
   ]
  },
  {
   "cell_type": "code",
   "execution_count": 8,
   "metadata": {
    "hidden": true
   },
   "outputs": [
    {
     "data": {
      "text/plain": [
       "shopid                      int64\n",
       "seller_type                object\n",
       "rating_star               float64\n",
       "display_response_rate       int64\n",
       "sku                         int64\n",
       "camp_flag                  object\n",
       "main_category              object\n",
       "p30_gmv                   float64\n",
       "p30_order_cnt               int64\n",
       "follower_count            float64\n",
       "Decorated                   int64\n",
       "Clicks_pre_User_Before    float64\n",
       "Clicks_pre_User_After     float64\n",
       "dtype: object"
      ]
     },
     "execution_count": 8,
     "metadata": {},
     "output_type": "execute_result"
    }
   ],
   "source": [
    "trn_df.dtypes"
   ]
  },
  {
   "cell_type": "code",
   "execution_count": 9,
   "metadata": {
    "hidden": true
   },
   "outputs": [],
   "source": [
    "# shop_profile.columns.values\n",
    "num_cols = [n for n in trn_df.columns if is_numeric_dtype(trn_df[n])]\n",
    "str_cols = [n for n in trn_df.columns if is_string_dtype(trn_df[n])]\n",
    "\n",
    "# Drop main category due to difference of categories between MY and ID\n",
    "drop_cols = ['shopid', 'Clicks_pre_User_Before', 'Clicks_pre_User_After', 'main_category']\n",
    "y_cols = ['Decorated']"
   ]
  },
  {
   "cell_type": "code",
   "execution_count": 10,
   "metadata": {
    "hidden": true
   },
   "outputs": [
    {
     "data": {
      "text/html": [
       "<div>\n",
       "<style scoped>\n",
       "    .dataframe tbody tr th:only-of-type {\n",
       "        vertical-align: middle;\n",
       "    }\n",
       "\n",
       "    .dataframe tbody tr th {\n",
       "        vertical-align: top;\n",
       "    }\n",
       "\n",
       "    .dataframe thead th {\n",
       "        text-align: right;\n",
       "    }\n",
       "</style>\n",
       "<table border=\"1\" class=\"dataframe\">\n",
       "  <thead>\n",
       "    <tr style=\"text-align: right;\">\n",
       "      <th></th>\n",
       "      <th>shopid</th>\n",
       "      <th>seller_type</th>\n",
       "      <th>rating_star</th>\n",
       "      <th>display_response_rate</th>\n",
       "      <th>sku</th>\n",
       "      <th>camp_flag</th>\n",
       "      <th>main_category</th>\n",
       "      <th>p30_gmv</th>\n",
       "      <th>p30_order_cnt</th>\n",
       "      <th>follower_count</th>\n",
       "      <th>Decorated</th>\n",
       "      <th>Clicks_pre_User_Before</th>\n",
       "      <th>Clicks_pre_User_After</th>\n",
       "    </tr>\n",
       "  </thead>\n",
       "  <tbody>\n",
       "    <tr>\n",
       "      <th>0</th>\n",
       "      <td>65408</td>\n",
       "      <td>NS</td>\n",
       "      <td>4.90</td>\n",
       "      <td>89</td>\n",
       "      <td>745</td>\n",
       "      <td>N</td>\n",
       "      <td>Muslim Fashion</td>\n",
       "      <td>3202.70</td>\n",
       "      <td>51</td>\n",
       "      <td>264.0</td>\n",
       "      <td>0</td>\n",
       "      <td>0.0</td>\n",
       "      <td>2.5</td>\n",
       "    </tr>\n",
       "    <tr>\n",
       "      <th>1</th>\n",
       "      <td>439807</td>\n",
       "      <td>NS</td>\n",
       "      <td>4.17</td>\n",
       "      <td>65</td>\n",
       "      <td>9</td>\n",
       "      <td>N</td>\n",
       "      <td>Groceries &amp; Pets</td>\n",
       "      <td>329.04</td>\n",
       "      <td>6</td>\n",
       "      <td>101.0</td>\n",
       "      <td>0</td>\n",
       "      <td>0.0</td>\n",
       "      <td>0.0</td>\n",
       "    </tr>\n",
       "  </tbody>\n",
       "</table>\n",
       "</div>"
      ],
      "text/plain": [
       "   shopid seller_type  rating_star  display_response_rate  sku camp_flag     main_category  \\\n",
       "0   65408          NS         4.90                     89  745         N    Muslim Fashion   \n",
       "1  439807          NS         4.17                     65    9         N  Groceries & Pets   \n",
       "\n",
       "   p30_gmv  p30_order_cnt  follower_count  Decorated  Clicks_pre_User_Before  \\\n",
       "0  3202.70             51           264.0          0                     0.0   \n",
       "1   329.04              6           101.0          0                     0.0   \n",
       "\n",
       "   Clicks_pre_User_After  \n",
       "0                    2.5  \n",
       "1                    0.0  "
      ]
     },
     "execution_count": 10,
     "metadata": {},
     "output_type": "execute_result"
    }
   ],
   "source": [
    "trn_df.head(2)"
   ]
  },
  {
   "cell_type": "code",
   "execution_count": 12,
   "metadata": {
    "hidden": true
   },
   "outputs": [],
   "source": [
    "# Standardize the numeric variables\n",
    "map_f = [([n],StandardScaler()) for n in trn_df.drop(columns = str_cols + y_cols + drop_cols).columns]\n",
    "# map_f\n",
    "mapper = DataFrameMapper(map_f).fit(trn_df)\n",
    "trn_df[mapper.transformed_names_] = mapper.transform(trn_df)"
   ]
  },
  {
   "cell_type": "code",
   "execution_count": 13,
   "metadata": {
    "hidden": true
   },
   "outputs": [
    {
     "data": {
      "text/html": [
       "<div>\n",
       "<style scoped>\n",
       "    .dataframe tbody tr th:only-of-type {\n",
       "        vertical-align: middle;\n",
       "    }\n",
       "\n",
       "    .dataframe tbody tr th {\n",
       "        vertical-align: top;\n",
       "    }\n",
       "\n",
       "    .dataframe thead th {\n",
       "        text-align: right;\n",
       "    }\n",
       "</style>\n",
       "<table border=\"1\" class=\"dataframe\">\n",
       "  <thead>\n",
       "    <tr style=\"text-align: right;\">\n",
       "      <th></th>\n",
       "      <th>shopid</th>\n",
       "      <th>seller_type</th>\n",
       "      <th>rating_star</th>\n",
       "      <th>display_response_rate</th>\n",
       "      <th>sku</th>\n",
       "      <th>camp_flag</th>\n",
       "      <th>main_category</th>\n",
       "      <th>p30_gmv</th>\n",
       "      <th>p30_order_cnt</th>\n",
       "      <th>follower_count</th>\n",
       "      <th>Decorated</th>\n",
       "      <th>Clicks_pre_User_Before</th>\n",
       "      <th>Clicks_pre_User_After</th>\n",
       "    </tr>\n",
       "  </thead>\n",
       "  <tbody>\n",
       "    <tr>\n",
       "      <th>0</th>\n",
       "      <td>65408</td>\n",
       "      <td>NS</td>\n",
       "      <td>0.412848</td>\n",
       "      <td>0.340051</td>\n",
       "      <td>0.301299</td>\n",
       "      <td>N</td>\n",
       "      <td>Muslim Fashion</td>\n",
       "      <td>-0.148874</td>\n",
       "      <td>-0.162638</td>\n",
       "      <td>-0.269229</td>\n",
       "      <td>0</td>\n",
       "      <td>0.0</td>\n",
       "      <td>2.5</td>\n",
       "    </tr>\n",
       "    <tr>\n",
       "      <th>1</th>\n",
       "      <td>439807</td>\n",
       "      <td>NS</td>\n",
       "      <td>-4.337566</td>\n",
       "      <td>-1.812548</td>\n",
       "      <td>-0.403096</td>\n",
       "      <td>N</td>\n",
       "      <td>Groceries &amp; Pets</td>\n",
       "      <td>-0.244146</td>\n",
       "      <td>-0.261135</td>\n",
       "      <td>-0.315220</td>\n",
       "      <td>0</td>\n",
       "      <td>0.0</td>\n",
       "      <td>0.0</td>\n",
       "    </tr>\n",
       "  </tbody>\n",
       "</table>\n",
       "</div>"
      ],
      "text/plain": [
       "   shopid seller_type  rating_star  display_response_rate       sku camp_flag     main_category  \\\n",
       "0   65408          NS     0.412848               0.340051  0.301299         N    Muslim Fashion   \n",
       "1  439807          NS    -4.337566              -1.812548 -0.403096         N  Groceries & Pets   \n",
       "\n",
       "    p30_gmv  p30_order_cnt  follower_count  Decorated  Clicks_pre_User_Before  \\\n",
       "0 -0.148874      -0.162638       -0.269229          0                     0.0   \n",
       "1 -0.244146      -0.261135       -0.315220          0                     0.0   \n",
       "\n",
       "   Clicks_pre_User_After  \n",
       "0                    2.5  \n",
       "1                    0.0  "
      ]
     },
     "execution_count": 13,
     "metadata": {},
     "output_type": "execute_result"
    }
   ],
   "source": [
    "trn_df.head(2)"
   ]
  },
  {
   "cell_type": "markdown",
   "metadata": {
    "hidden": true
   },
   "source": [
    "Concept of StandardScaler: After transformed, the average of features is 0 and std is 1. (Normal Distribution)"
   ]
  },
  {
   "cell_type": "code",
   "execution_count": 14,
   "metadata": {
    "hidden": true
   },
   "outputs": [
    {
     "name": "stdout",
     "output_type": "stream",
     "text": [
      "drop the following columns: ['shopid', 'Clicks_pre_User_Before', 'Clicks_pre_User_After', 'main_category']\n"
     ]
    }
   ],
   "source": [
    "# Transform the category variables to dummy variables\n",
    "print('drop the following columns:', drop_cols)\n",
    "for_model_df = pd.get_dummies(trn_df.drop(columns = drop_cols))"
   ]
  },
  {
   "cell_type": "code",
   "execution_count": 15,
   "metadata": {
    "hidden": true
   },
   "outputs": [
    {
     "name": "stdout",
     "output_type": "stream",
     "text": [
      "(35588, 12)\n"
     ]
    },
    {
     "data": {
      "text/html": [
       "<div>\n",
       "<style scoped>\n",
       "    .dataframe tbody tr th:only-of-type {\n",
       "        vertical-align: middle;\n",
       "    }\n",
       "\n",
       "    .dataframe tbody tr th {\n",
       "        vertical-align: top;\n",
       "    }\n",
       "\n",
       "    .dataframe thead th {\n",
       "        text-align: right;\n",
       "    }\n",
       "</style>\n",
       "<table border=\"1\" class=\"dataframe\">\n",
       "  <thead>\n",
       "    <tr style=\"text-align: right;\">\n",
       "      <th></th>\n",
       "      <th>rating_star</th>\n",
       "      <th>display_response_rate</th>\n",
       "      <th>sku</th>\n",
       "      <th>p30_gmv</th>\n",
       "      <th>p30_order_cnt</th>\n",
       "      <th>follower_count</th>\n",
       "      <th>Decorated</th>\n",
       "      <th>seller_type_NS</th>\n",
       "      <th>seller_type_OS</th>\n",
       "      <th>seller_type_PS</th>\n",
       "      <th>camp_flag_N</th>\n",
       "      <th>camp_flag_Y</th>\n",
       "    </tr>\n",
       "  </thead>\n",
       "  <tbody>\n",
       "    <tr>\n",
       "      <th>0</th>\n",
       "      <td>0.412848</td>\n",
       "      <td>0.340051</td>\n",
       "      <td>0.301299</td>\n",
       "      <td>-0.148874</td>\n",
       "      <td>-0.162638</td>\n",
       "      <td>-0.269229</td>\n",
       "      <td>0</td>\n",
       "      <td>1</td>\n",
       "      <td>0</td>\n",
       "      <td>0</td>\n",
       "      <td>1</td>\n",
       "      <td>0</td>\n",
       "    </tr>\n",
       "    <tr>\n",
       "      <th>1</th>\n",
       "      <td>-4.337566</td>\n",
       "      <td>-1.812548</td>\n",
       "      <td>-0.403096</td>\n",
       "      <td>-0.244146</td>\n",
       "      <td>-0.261135</td>\n",
       "      <td>-0.315220</td>\n",
       "      <td>0</td>\n",
       "      <td>1</td>\n",
       "      <td>0</td>\n",
       "      <td>0</td>\n",
       "      <td>1</td>\n",
       "      <td>0</td>\n",
       "    </tr>\n",
       "  </tbody>\n",
       "</table>\n",
       "</div>"
      ],
      "text/plain": [
       "   rating_star  display_response_rate       sku   p30_gmv  p30_order_cnt  follower_count  \\\n",
       "0     0.412848               0.340051  0.301299 -0.148874      -0.162638       -0.269229   \n",
       "1    -4.337566              -1.812548 -0.403096 -0.244146      -0.261135       -0.315220   \n",
       "\n",
       "   Decorated  seller_type_NS  seller_type_OS  seller_type_PS  camp_flag_N  camp_flag_Y  \n",
       "0          0               1               0               0            1            0  \n",
       "1          0               1               0               0            1            0  "
      ]
     },
     "execution_count": 15,
     "metadata": {},
     "output_type": "execute_result"
    }
   ],
   "source": [
    "print(for_model_df.shape)\n",
    "for_model_df.head(2)"
   ]
  },
  {
   "cell_type": "markdown",
   "metadata": {
    "heading_collapsed": true
   },
   "source": [
    "### 1-2. Modeling"
   ]
  },
  {
   "cell_type": "code",
   "execution_count": 16,
   "metadata": {
    "hidden": true
   },
   "outputs": [],
   "source": [
    "X, y = for_model_df.drop(columns = y_cols), for_model_df[y_cols]"
   ]
  },
  {
   "cell_type": "markdown",
   "metadata": {
    "heading_collapsed": true,
    "hidden": true
   },
   "source": [
    "#### 1-2-1. Logistic Regression"
   ]
  },
  {
   "cell_type": "code",
   "execution_count": 17,
   "metadata": {
    "hidden": true
   },
   "outputs": [
    {
     "name": "stderr",
     "output_type": "stream",
     "text": [
      "/home/ericwang/anaconda3/lib/python3.7/site-packages/sklearn/linear_model/logistic.py:433: FutureWarning: Default solver will be changed to 'lbfgs' in 0.22. Specify a solver to silence this warning.\n",
      "  FutureWarning)\n",
      "/home/ericwang/anaconda3/lib/python3.7/site-packages/sklearn/utils/validation.py:761: DataConversionWarning: A column-vector y was passed when a 1d array was expected. Please change the shape of y to (n_samples, ), for example using ravel().\n",
      "  y = column_or_1d(y, warn=True)\n"
     ]
    },
    {
     "data": {
      "text/plain": [
       "LogisticRegression(C=1.0, class_weight=None, dual=False, fit_intercept=True,\n",
       "          intercept_scaling=1, max_iter=100, multi_class='warn',\n",
       "          n_jobs=None, penalty='l2', random_state=None, solver='warn',\n",
       "          tol=0.0001, verbose=0, warm_start=False)"
      ]
     },
     "execution_count": 17,
     "metadata": {},
     "output_type": "execute_result"
    }
   ],
   "source": [
    "lor = linear_model.LogisticRegression()\n",
    "lor.fit(X, y)"
   ]
  },
  {
   "cell_type": "code",
   "execution_count": 18,
   "metadata": {
    "hidden": true
   },
   "outputs": [
    {
     "data": {
      "text/plain": [
       "array([0.01685413, 0.00576935, 0.01962342, ..., 0.01799453, 0.01419868,\n",
       "       0.01023979])"
      ]
     },
     "execution_count": 18,
     "metadata": {},
     "output_type": "execute_result"
    }
   ],
   "source": [
    "lor.predict_proba(X)[:,1]"
   ]
  },
  {
   "cell_type": "code",
   "execution_count": 19,
   "metadata": {
    "hidden": true
   },
   "outputs": [
    {
     "name": "stdout",
     "output_type": "stream",
     "text": [
      "[0.21312768]\n"
     ]
    },
    {
     "data": {
      "text/html": [
       "<div>\n",
       "<style scoped>\n",
       "    .dataframe tbody tr th:only-of-type {\n",
       "        vertical-align: middle;\n",
       "    }\n",
       "\n",
       "    .dataframe tbody tr th {\n",
       "        vertical-align: top;\n",
       "    }\n",
       "\n",
       "    .dataframe thead th {\n",
       "        text-align: right;\n",
       "    }\n",
       "</style>\n",
       "<table border=\"1\" class=\"dataframe\">\n",
       "  <thead>\n",
       "    <tr style=\"text-align: right;\">\n",
       "      <th></th>\n",
       "      <th>0</th>\n",
       "      <th>1</th>\n",
       "    </tr>\n",
       "  </thead>\n",
       "  <tbody>\n",
       "    <tr>\n",
       "      <th>0</th>\n",
       "      <td>rating_star</td>\n",
       "      <td>0.117954</td>\n",
       "    </tr>\n",
       "    <tr>\n",
       "      <th>1</th>\n",
       "      <td>display_response_rate</td>\n",
       "      <td>0.313364</td>\n",
       "    </tr>\n",
       "    <tr>\n",
       "      <th>2</th>\n",
       "      <td>sku</td>\n",
       "      <td>-0.167141</td>\n",
       "    </tr>\n",
       "    <tr>\n",
       "      <th>3</th>\n",
       "      <td>p30_gmv</td>\n",
       "      <td>-0.00558245</td>\n",
       "    </tr>\n",
       "    <tr>\n",
       "      <th>4</th>\n",
       "      <td>p30_order_cnt</td>\n",
       "      <td>-0.363279</td>\n",
       "    </tr>\n",
       "    <tr>\n",
       "      <th>5</th>\n",
       "      <td>follower_count</td>\n",
       "      <td>0.0525291</td>\n",
       "    </tr>\n",
       "    <tr>\n",
       "      <th>6</th>\n",
       "      <td>seller_type_NS</td>\n",
       "      <td>0.222823</td>\n",
       "    </tr>\n",
       "    <tr>\n",
       "      <th>7</th>\n",
       "      <td>seller_type_OS</td>\n",
       "      <td>0.02202</td>\n",
       "    </tr>\n",
       "    <tr>\n",
       "      <th>8</th>\n",
       "      <td>seller_type_PS</td>\n",
       "      <td>-0.0317153</td>\n",
       "    </tr>\n",
       "    <tr>\n",
       "      <th>9</th>\n",
       "      <td>camp_flag_N</td>\n",
       "      <td>-4.65278</td>\n",
       "    </tr>\n",
       "    <tr>\n",
       "      <th>10</th>\n",
       "      <td>camp_flag_Y</td>\n",
       "      <td>4.86591</td>\n",
       "    </tr>\n",
       "  </tbody>\n",
       "</table>\n",
       "</div>"
      ],
      "text/plain": [
       "                        0           1\n",
       "0             rating_star    0.117954\n",
       "1   display_response_rate    0.313364\n",
       "2                     sku   -0.167141\n",
       "3                 p30_gmv -0.00558245\n",
       "4           p30_order_cnt   -0.363279\n",
       "5          follower_count   0.0525291\n",
       "6          seller_type_NS    0.222823\n",
       "7          seller_type_OS     0.02202\n",
       "8          seller_type_PS  -0.0317153\n",
       "9             camp_flag_N    -4.65278\n",
       "10            camp_flag_Y     4.86591"
      ]
     },
     "execution_count": 19,
     "metadata": {},
     "output_type": "execute_result"
    }
   ],
   "source": [
    "print(lor.intercept_)\n",
    "pd.DataFrame(data = [X.columns.values, lor.coef_[0]]).T"
   ]
  },
  {
   "cell_type": "code",
   "execution_count": 27,
   "metadata": {
    "hidden": true
   },
   "outputs": [
    {
     "data": {
      "text/plain": [
       "0.8354485653386354"
      ]
     },
     "execution_count": 27,
     "metadata": {},
     "output_type": "execute_result"
    }
   ],
   "source": [
    "# AUC\n",
    "roc_auc_score(y, lor.predict_proba(X)[:,1])"
   ]
  },
  {
   "cell_type": "markdown",
   "metadata": {
    "heading_collapsed": true,
    "hidden": true
   },
   "source": [
    "#### 1-2-2. Logit"
   ]
  },
  {
   "cell_type": "markdown",
   "metadata": {
    "hidden": true
   },
   "source": [
    "<img src=\"graph/logit.svg\" width = \"500\">"
   ]
  },
  {
   "cell_type": "code",
   "execution_count": 22,
   "metadata": {
    "hidden": true
   },
   "outputs": [
    {
     "data": {
      "text/html": [
       "<div>\n",
       "<style scoped>\n",
       "    .dataframe tbody tr th:only-of-type {\n",
       "        vertical-align: middle;\n",
       "    }\n",
       "\n",
       "    .dataframe tbody tr th {\n",
       "        vertical-align: top;\n",
       "    }\n",
       "\n",
       "    .dataframe thead th {\n",
       "        text-align: right;\n",
       "    }\n",
       "</style>\n",
       "<table border=\"1\" class=\"dataframe\">\n",
       "  <thead>\n",
       "    <tr style=\"text-align: right;\">\n",
       "      <th></th>\n",
       "      <th>rating_star</th>\n",
       "      <th>display_response_rate</th>\n",
       "      <th>sku</th>\n",
       "      <th>p30_gmv</th>\n",
       "      <th>p30_order_cnt</th>\n",
       "      <th>follower_count</th>\n",
       "      <th>Decorated</th>\n",
       "      <th>seller_type_NS</th>\n",
       "      <th>seller_type_OS</th>\n",
       "      <th>seller_type_PS</th>\n",
       "      <th>camp_flag_N</th>\n",
       "      <th>camp_flag_Y</th>\n",
       "    </tr>\n",
       "  </thead>\n",
       "  <tbody>\n",
       "    <tr>\n",
       "      <th>0</th>\n",
       "      <td>0.412848</td>\n",
       "      <td>0.340051</td>\n",
       "      <td>0.301299</td>\n",
       "      <td>-0.148874</td>\n",
       "      <td>-0.162638</td>\n",
       "      <td>-0.269229</td>\n",
       "      <td>0</td>\n",
       "      <td>1</td>\n",
       "      <td>0</td>\n",
       "      <td>0</td>\n",
       "      <td>1</td>\n",
       "      <td>0</td>\n",
       "    </tr>\n",
       "  </tbody>\n",
       "</table>\n",
       "</div>"
      ],
      "text/plain": [
       "   rating_star  display_response_rate       sku   p30_gmv  p30_order_cnt  follower_count  \\\n",
       "0     0.412848               0.340051  0.301299 -0.148874      -0.162638       -0.269229   \n",
       "\n",
       "   Decorated  seller_type_NS  seller_type_OS  seller_type_PS  camp_flag_N  camp_flag_Y  \n",
       "0          0               1               0               0            1            0  "
      ]
     },
     "execution_count": 22,
     "metadata": {},
     "output_type": "execute_result"
    }
   ],
   "source": [
    "for_model_df.head(1)"
   ]
  },
  {
   "cell_type": "code",
   "execution_count": 23,
   "metadata": {
    "hidden": true
   },
   "outputs": [],
   "source": [
    "# Create the Intercept for logit\n",
    "_y, _X = dmatrices('Decorated ~ rating_star + display_response_rate + sku + p30_gmv + p30_order_cnt + follower_count + seller_type_NS + seller_type_OS + seller_type_PS + camp_flag_N + camp_flag_Y', \n",
    "                 for_model_df, return_type = 'dataframe')"
   ]
  },
  {
   "cell_type": "code",
   "execution_count": 24,
   "metadata": {
    "hidden": true
   },
   "outputs": [
    {
     "name": "stdout",
     "output_type": "stream",
     "text": [
      "Warning: Maximum number of iterations has been exceeded.\n",
      "         Current function value: 0.076492\n",
      "         Iterations: 35\n",
      "         Function evaluations: 36\n",
      "         Gradient evaluations: 36\n"
     ]
    },
    {
     "name": "stderr",
     "output_type": "stream",
     "text": [
      "/home/ericwang/anaconda3/lib/python3.7/site-packages/statsmodels/base/model.py:488: HessianInversionWarning: Inverting hessian failed, no bse or cov_params available\n",
      "  'available', HessianInversionWarning)\n",
      "/home/ericwang/anaconda3/lib/python3.7/site-packages/statsmodels/base/model.py:508: ConvergenceWarning: Maximum Likelihood optimization failed to converge. Check mle_retvals\n",
      "  \"Check mle_retvals\", ConvergenceWarning)\n"
     ]
    }
   ],
   "source": [
    "logit = sm.Logit(_y,_X).fit(method='bfgs')"
   ]
  },
  {
   "cell_type": "code",
   "execution_count": 25,
   "metadata": {
    "hidden": true
   },
   "outputs": [
    {
     "data": {
      "text/plain": [
       "Intercept                0.018557\n",
       "rating_star              0.141737\n",
       "display_response_rate    0.314615\n",
       "sku                     -0.196572\n",
       "p30_gmv                 -0.131135\n",
       "p30_order_cnt           -0.124562\n",
       "follower_count           0.034715\n",
       "seller_type_NS           0.456319\n",
       "seller_type_OS          -0.043288\n",
       "seller_type_PS          -0.394474\n",
       "camp_flag_N             -4.647814\n",
       "camp_flag_Y              4.666372\n",
       "dtype: float64"
      ]
     },
     "execution_count": 25,
     "metadata": {},
     "output_type": "execute_result"
    }
   ],
   "source": [
    "logit.params"
   ]
  },
  {
   "cell_type": "code",
   "execution_count": 28,
   "metadata": {
    "hidden": true
   },
   "outputs": [
    {
     "data": {
      "text/plain": [
       "0.8321786774786808"
      ]
     },
     "execution_count": 28,
     "metadata": {},
     "output_type": "execute_result"
    }
   ],
   "source": [
    "roc_auc_score(_y, logit.predict(_X))"
   ]
  },
  {
   "cell_type": "markdown",
   "metadata": {
    "heading_collapsed": true
   },
   "source": [
    "### 1-3. Model assessment"
   ]
  },
  {
   "cell_type": "markdown",
   "metadata": {
    "heading_collapsed": true,
    "hidden": true
   },
   "source": [
    "#### 1-3-1. Data Processing for tst_df"
   ]
  },
  {
   "cell_type": "code",
   "execution_count": 30,
   "metadata": {
    "hidden": true
   },
   "outputs": [
    {
     "name": "stdout",
     "output_type": "stream",
     "text": [
      "drop the following columns: ['shopid', 'main_category']\n"
     ]
    }
   ],
   "source": [
    "# shop_profile.columns.values\n",
    "num_cols = [n for n in tst_df.columns if is_numeric_dtype(tst_df[n])]\n",
    "str_cols = [n for n in tst_df.columns if is_string_dtype(tst_df[n])]\n",
    "# Drop main category due to difference of categories between MY and ID\n",
    "drop_cols = ['shopid','main_category']\n",
    "y_cols = ['Decorated']\n",
    "\n",
    "\n",
    "# Standardize the numeric variables\n",
    "map_f = [([n],StandardScaler()) for n in tst_df.drop(columns = str_cols + y_cols + drop_cols).columns]\n",
    "# map_f\n",
    "mapper = DataFrameMapper(map_f).fit(tst_df)\n",
    "tst_df[mapper.transformed_names_] = mapper.transform(tst_df)\n",
    "\n",
    "\n",
    "# Transform the category variables to dummy variables\n",
    "print('drop the following columns:', drop_cols)\n",
    "for_model_tst_df = pd.get_dummies(tst_df.drop(columns = drop_cols))"
   ]
  },
  {
   "cell_type": "code",
   "execution_count": 31,
   "metadata": {
    "hidden": true
   },
   "outputs": [
    {
     "name": "stdout",
     "output_type": "stream",
     "text": [
      "(128285, 12)\n"
     ]
    },
    {
     "data": {
      "text/html": [
       "<div>\n",
       "<style scoped>\n",
       "    .dataframe tbody tr th:only-of-type {\n",
       "        vertical-align: middle;\n",
       "    }\n",
       "\n",
       "    .dataframe tbody tr th {\n",
       "        vertical-align: top;\n",
       "    }\n",
       "\n",
       "    .dataframe thead th {\n",
       "        text-align: right;\n",
       "    }\n",
       "</style>\n",
       "<table border=\"1\" class=\"dataframe\">\n",
       "  <thead>\n",
       "    <tr style=\"text-align: right;\">\n",
       "      <th></th>\n",
       "      <th>rating_star</th>\n",
       "      <th>display_response_rate</th>\n",
       "      <th>sku</th>\n",
       "      <th>p30_gmv</th>\n",
       "      <th>p30_order_cnt</th>\n",
       "      <th>follower_count</th>\n",
       "      <th>Decorated</th>\n",
       "      <th>seller_type_NS</th>\n",
       "      <th>seller_type_OS</th>\n",
       "      <th>seller_type_PS</th>\n",
       "      <th>camp_flag_N</th>\n",
       "      <th>camp_flag_Y</th>\n",
       "    </tr>\n",
       "  </thead>\n",
       "  <tbody>\n",
       "    <tr>\n",
       "      <th>0</th>\n",
       "      <td>0.157007</td>\n",
       "      <td>0.048215</td>\n",
       "      <td>-0.340031</td>\n",
       "      <td>-0.147584</td>\n",
       "      <td>-0.162868</td>\n",
       "      <td>-0.183219</td>\n",
       "      <td>0</td>\n",
       "      <td>1</td>\n",
       "      <td>0</td>\n",
       "      <td>0</td>\n",
       "      <td>1</td>\n",
       "      <td>0</td>\n",
       "    </tr>\n",
       "    <tr>\n",
       "      <th>1</th>\n",
       "      <td>-2.740833</td>\n",
       "      <td>0.149147</td>\n",
       "      <td>-0.318322</td>\n",
       "      <td>-0.147676</td>\n",
       "      <td>-0.165574</td>\n",
       "      <td>-0.123038</td>\n",
       "      <td>0</td>\n",
       "      <td>1</td>\n",
       "      <td>0</td>\n",
       "      <td>0</td>\n",
       "      <td>1</td>\n",
       "      <td>0</td>\n",
       "    </tr>\n",
       "  </tbody>\n",
       "</table>\n",
       "</div>"
      ],
      "text/plain": [
       "   rating_star  display_response_rate       sku   p30_gmv  p30_order_cnt  follower_count  \\\n",
       "0     0.157007               0.048215 -0.340031 -0.147584      -0.162868       -0.183219   \n",
       "1    -2.740833               0.149147 -0.318322 -0.147676      -0.165574       -0.123038   \n",
       "\n",
       "   Decorated  seller_type_NS  seller_type_OS  seller_type_PS  camp_flag_N  camp_flag_Y  \n",
       "0          0               1               0               0            1            0  \n",
       "1          0               1               0               0            1            0  "
      ]
     },
     "execution_count": 31,
     "metadata": {},
     "output_type": "execute_result"
    }
   ],
   "source": [
    "print(for_model_tst_df.shape)\n",
    "for_model_tst_df.head(2)"
   ]
  },
  {
   "cell_type": "markdown",
   "metadata": {
    "heading_collapsed": true,
    "hidden": true
   },
   "source": [
    "#### 1-3-2. Assess the different models"
   ]
  },
  {
   "cell_type": "code",
   "execution_count": 32,
   "metadata": {
    "hidden": true
   },
   "outputs": [],
   "source": [
    "tst_X, tst_y = for_model_tst_df.drop(columns = y_cols), for_model_tst_df[y_cols]"
   ]
  },
  {
   "cell_type": "code",
   "execution_count": 33,
   "metadata": {
    "hidden": true
   },
   "outputs": [
    {
     "data": {
      "text/plain": [
       "0.8735959762433259"
      ]
     },
     "execution_count": 33,
     "metadata": {},
     "output_type": "execute_result"
    }
   ],
   "source": [
    "model1_roc = roc_auc_score(tst_y, lor.predict_proba(tst_X)[:,1])\n",
    "model1_roc"
   ]
  },
  {
   "cell_type": "code",
   "execution_count": 34,
   "metadata": {
    "hidden": true
   },
   "outputs": [],
   "source": [
    "# Create the Intercept for logit\n",
    "tst_y, tst_X = dmatrices('Decorated ~ rating_star + display_response_rate + sku + p30_gmv + p30_order_cnt + follower_count + seller_type_NS + seller_type_OS + seller_type_PS + camp_flag_N + camp_flag_Y', \n",
    "                         for_model_tst_df, return_type = 'dataframe')"
   ]
  },
  {
   "cell_type": "code",
   "execution_count": 35,
   "metadata": {
    "hidden": true
   },
   "outputs": [
    {
     "data": {
      "text/plain": [
       "0.8777105818181667"
      ]
     },
     "execution_count": 35,
     "metadata": {},
     "output_type": "execute_result"
    }
   ],
   "source": [
    "model2_roc = roc_auc_score(tst_y, logit.predict(tst_X))\n",
    "model2_roc"
   ]
  },
  {
   "cell_type": "markdown",
   "metadata": {
    "heading_collapsed": true
   },
   "source": [
    "### 1-4. Observe the propensity"
   ]
  },
  {
   "cell_type": "code",
   "execution_count": 37,
   "metadata": {
    "hidden": true
   },
   "outputs": [
    {
     "data": {
      "text/html": [
       "<div>\n",
       "<style scoped>\n",
       "    .dataframe tbody tr th:only-of-type {\n",
       "        vertical-align: middle;\n",
       "    }\n",
       "\n",
       "    .dataframe tbody tr th {\n",
       "        vertical-align: top;\n",
       "    }\n",
       "\n",
       "    .dataframe thead th {\n",
       "        text-align: right;\n",
       "    }\n",
       "</style>\n",
       "<table border=\"1\" class=\"dataframe\">\n",
       "  <thead>\n",
       "    <tr style=\"text-align: right;\">\n",
       "      <th></th>\n",
       "      <th>rating_star</th>\n",
       "      <th>display_response_rate</th>\n",
       "      <th>sku</th>\n",
       "      <th>p30_gmv</th>\n",
       "      <th>p30_order_cnt</th>\n",
       "      <th>follower_count</th>\n",
       "      <th>Decorated</th>\n",
       "      <th>seller_type_NS</th>\n",
       "      <th>seller_type_OS</th>\n",
       "      <th>seller_type_PS</th>\n",
       "      <th>camp_flag_N</th>\n",
       "      <th>camp_flag_Y</th>\n",
       "    </tr>\n",
       "  </thead>\n",
       "  <tbody>\n",
       "    <tr>\n",
       "      <th>0</th>\n",
       "      <td>0.412848</td>\n",
       "      <td>0.340051</td>\n",
       "      <td>0.301299</td>\n",
       "      <td>-0.148874</td>\n",
       "      <td>-0.162638</td>\n",
       "      <td>-0.269229</td>\n",
       "      <td>0</td>\n",
       "      <td>1</td>\n",
       "      <td>0</td>\n",
       "      <td>0</td>\n",
       "      <td>1</td>\n",
       "      <td>0</td>\n",
       "    </tr>\n",
       "    <tr>\n",
       "      <th>1</th>\n",
       "      <td>-4.337566</td>\n",
       "      <td>-1.812548</td>\n",
       "      <td>-0.403096</td>\n",
       "      <td>-0.244146</td>\n",
       "      <td>-0.261135</td>\n",
       "      <td>-0.315220</td>\n",
       "      <td>0</td>\n",
       "      <td>1</td>\n",
       "      <td>0</td>\n",
       "      <td>0</td>\n",
       "      <td>1</td>\n",
       "      <td>0</td>\n",
       "    </tr>\n",
       "  </tbody>\n",
       "</table>\n",
       "</div>"
      ],
      "text/plain": [
       "   rating_star  display_response_rate       sku   p30_gmv  p30_order_cnt  follower_count  \\\n",
       "0     0.412848               0.340051  0.301299 -0.148874      -0.162638       -0.269229   \n",
       "1    -4.337566              -1.812548 -0.403096 -0.244146      -0.261135       -0.315220   \n",
       "\n",
       "   Decorated  seller_type_NS  seller_type_OS  seller_type_PS  camp_flag_N  camp_flag_Y  \n",
       "0          0               1               0               0            1            0  \n",
       "1          0               1               0               0            1            0  "
      ]
     },
     "execution_count": 37,
     "metadata": {},
     "output_type": "execute_result"
    }
   ],
   "source": [
    "for_model_df.head(2)"
   ]
  },
  {
   "cell_type": "code",
   "execution_count": 51,
   "metadata": {
    "hidden": true
   },
   "outputs": [],
   "source": [
    "plot_df = for_model_df.copy()\n",
    "plot_df['logit_score'] = logit.predict(_X)\n",
    "# plot_df['logistic_score'] = lor.predict_proba(X)[:,1]"
   ]
  },
  {
   "cell_type": "code",
   "execution_count": 52,
   "metadata": {
    "hidden": true
   },
   "outputs": [
    {
     "data": {
      "text/plain": [
       "Text(0.5, 0.98, 'Probability of decorating the shop')"
      ]
     },
     "execution_count": 52,
     "metadata": {},
     "output_type": "execute_result"
    },
    {
     "data": {
      "image/png": "[encoded data removed]",
      "text/plain": [
       "<Figure size 432x288 with 2 Axes>"
      ]
     },
     "metadata": {
      "needs_background": "light"
     },
     "output_type": "display_data"
    }
   ],
   "source": [
    "fig, (ax1, ax2) = plt.subplots(1,2, sharey=True)\n",
    "sns.distplot(plot_df[plot_df.Decorated == 1]['logit_score'], bins= 30, kde=False, hist=True, ax= ax1)\n",
    "sns.distplot(plot_df[plot_df.Decorated == 0]['logit_score'], bins= 30, kde=False, hist=True, ax= ax2)\n",
    "\n",
    "ax1.set_title(\"Decorated Shop\", fontsize=10)\n",
    "ax2.set_title(\"Un-decorated Shop\", fontsize=10)\n",
    "fig.suptitle(\"Probability of decorating the shop\", fontsize=14)"
   ]
  },
  {
   "cell_type": "markdown",
   "metadata": {},
   "source": [
    "## Step2. Choose Matching algorithm"
   ]
  },
  {
   "cell_type": "markdown",
   "metadata": {},
   "source": [
    "### 2-1. Data Processing"
   ]
  },
  {
   "cell_type": "code",
   "execution_count": 65,
   "metadata": {},
   "outputs": [
    {
     "data": {
      "text/plain": [
       "(35588, 16)"
      ]
     },
     "execution_count": 65,
     "metadata": {},
     "output_type": "execute_result"
    }
   ],
   "source": [
    "# get the id and treatment effect\n",
    "mth_df = pd.concat([plot_df.copy(), trn_df[['shopid', 'Clicks_pre_User_Before', 'Clicks_pre_User_After']]], axis = 1)\n",
    "mth_df.shape"
   ]
  },
  {
   "cell_type": "code",
   "execution_count": 70,
   "metadata": {},
   "outputs": [
    {
     "data": {
      "text/html": [
       "<div>\n",
       "<style scoped>\n",
       "    .dataframe tbody tr th:only-of-type {\n",
       "        vertical-align: middle;\n",
       "    }\n",
       "\n",
       "    .dataframe tbody tr th {\n",
       "        vertical-align: top;\n",
       "    }\n",
       "\n",
       "    .dataframe thead th {\n",
       "        text-align: right;\n",
       "    }\n",
       "</style>\n",
       "<table border=\"1\" class=\"dataframe\">\n",
       "  <thead>\n",
       "    <tr style=\"text-align: right;\">\n",
       "      <th></th>\n",
       "      <th>rating_star</th>\n",
       "      <th>display_response_rate</th>\n",
       "      <th>sku</th>\n",
       "      <th>p30_gmv</th>\n",
       "      <th>p30_order_cnt</th>\n",
       "      <th>follower_count</th>\n",
       "      <th>Decorated</th>\n",
       "      <th>seller_type_NS</th>\n",
       "      <th>seller_type_OS</th>\n",
       "      <th>seller_type_PS</th>\n",
       "      <th>camp_flag_N</th>\n",
       "      <th>camp_flag_Y</th>\n",
       "      <th>logit_score</th>\n",
       "      <th>shopid</th>\n",
       "      <th>Clicks_pre_User_Before</th>\n",
       "      <th>Clicks_pre_User_After</th>\n",
       "    </tr>\n",
       "  </thead>\n",
       "  <tbody>\n",
       "    <tr>\n",
       "      <th>35586</th>\n",
       "      <td>-2.190118</td>\n",
       "      <td>0.519434</td>\n",
       "      <td>0.041936</td>\n",
       "      <td>-0.243186</td>\n",
       "      <td>-0.263324</td>\n",
       "      <td>-0.341178</td>\n",
       "      <td>0</td>\n",
       "      <td>1</td>\n",
       "      <td>0</td>\n",
       "      <td>0</td>\n",
       "      <td>1</td>\n",
       "      <td>0</td>\n",
       "      <td>0.013717</td>\n",
       "      <td>149256535</td>\n",
       "      <td>0.000000</td>\n",
       "      <td>2.2500</td>\n",
       "    </tr>\n",
       "    <tr>\n",
       "      <th>35587</th>\n",
       "      <td>0.933442</td>\n",
       "      <td>-1.812548</td>\n",
       "      <td>-0.395439</td>\n",
       "      <td>-0.164037</td>\n",
       "      <td>-0.149505</td>\n",
       "      <td>-0.338638</td>\n",
       "      <td>0</td>\n",
       "      <td>1</td>\n",
       "      <td>0</td>\n",
       "      <td>0</td>\n",
       "      <td>1</td>\n",
       "      <td>0</td>\n",
       "      <td>0.010935</td>\n",
       "      <td>150994626</td>\n",
       "      <td>1.434783</td>\n",
       "      <td>2.1875</td>\n",
       "    </tr>\n",
       "  </tbody>\n",
       "</table>\n",
       "</div>"
      ],
      "text/plain": [
       "       rating_star  display_response_rate       sku   p30_gmv  p30_order_cnt  follower_count  \\\n",
       "35586    -2.190118               0.519434  0.041936 -0.243186      -0.263324       -0.341178   \n",
       "35587     0.933442              -1.812548 -0.395439 -0.164037      -0.149505       -0.338638   \n",
       "\n",
       "       Decorated  seller_type_NS  seller_type_OS  seller_type_PS  camp_flag_N  camp_flag_Y  \\\n",
       "35586          0               1               0               0            1            0   \n",
       "35587          0               1               0               0            1            0   \n",
       "\n",
       "       logit_score     shopid  Clicks_pre_User_Before  Clicks_pre_User_After  \n",
       "35586     0.013717  149256535                0.000000                 2.2500  \n",
       "35587     0.010935  150994626                1.434783                 2.1875  "
      ]
     },
     "execution_count": 70,
     "metadata": {},
     "output_type": "execute_result"
    }
   ],
   "source": [
    "mth_df.tail(2)"
   ]
  },
  {
   "cell_type": "code",
   "execution_count": 72,
   "metadata": {},
   "outputs": [],
   "source": [
    "treated = mth_df.loc[mth_df['Decorated'] == 1]\n",
    "control = mth_df.loc[mth_df['Decorated'] == 0]"
   ]
  },
  {
   "cell_type": "code",
   "execution_count": 75,
   "metadata": {},
   "outputs": [
    {
     "name": "stdout",
     "output_type": "stream",
     "text": [
      "(35588, 16) = (1242, 16) (34346, 16)\n"
     ]
    }
   ],
   "source": [
    "print(mth_df.shape, '=' ,treated.shape, control.shape)"
   ]
  },
  {
   "cell_type": "markdown",
   "metadata": {},
   "source": [
    "Could look the imbalance of covariance between treatment group and control group by standardised bias first(as Type4-1)"
   ]
  },
  {
   "cell_type": "markdown",
   "metadata": {},
   "source": [
    "###  2-2. Modeling_un"
   ]
  },
  {
   "cell_type": "markdown",
   "metadata": {
    "heading_collapsed": true
   },
   "source": [
    "#### 2-2-1. 1-N Matching"
   ]
  },
  {
   "cell_type": "code",
   "execution_count": 24,
   "metadata": {
    "hidden": true
   },
   "outputs": [],
   "source": [
    "control_neighbors = (\n",
    "    NearestNeighbors(n_neighbors=1, algorithm='ball_tree')\n",
    "    .fit(control['propensity_score'].values.reshape(-1, 1))\n",
    ")\n",
    "distances, indices = control_neighbors.kneighbors(treated['propensity_score'].values.reshape(-1, 1))"
   ]
  },
  {
   "cell_type": "code",
   "execution_count": 25,
   "metadata": {
    "hidden": true
   },
   "outputs": [
    {
     "data": {
      "text/plain": [
       "1242"
      ]
     },
     "execution_count": 25,
     "metadata": {},
     "output_type": "execute_result"
    }
   ],
   "source": [
    "len(indices)"
   ]
  },
  {
   "cell_type": "code",
   "execution_count": 26,
   "metadata": {
    "hidden": true
   },
   "outputs": [
    {
     "data": {
      "text/plain": [
       "array([[26883],\n",
       "       [29573],\n",
       "       [19843],\n",
       "       ...,\n",
       "       [31253],\n",
       "       [31253],\n",
       "       [31253]])"
      ]
     },
     "execution_count": 26,
     "metadata": {},
     "output_type": "execute_result"
    }
   ],
   "source": [
    "indices\n",
    "# Question: How to conduct the replacement sampling?"
   ]
  },
  {
   "cell_type": "code",
   "execution_count": 43,
   "metadata": {
    "hidden": true
   },
   "outputs": [],
   "source": [
    "match_control = control.iloc[indices[:, 0]]"
   ]
  },
  {
   "cell_type": "code",
   "execution_count": 47,
   "metadata": {
    "hidden": true
   },
   "outputs": [],
   "source": [
    "# match_control.drop_duplicates()"
   ]
  },
  {
   "cell_type": "code",
   "execution_count": null,
   "metadata": {
    "hidden": true
   },
   "outputs": [],
   "source": []
  },
  {
   "cell_type": "markdown",
   "metadata": {
    "heading_collapsed": true
   },
   "source": [
    "#### 2-2-2. Caliper Matching"
   ]
  },
  {
   "cell_type": "code",
   "execution_count": null,
   "metadata": {
    "hidden": true
   },
   "outputs": [],
   "source": []
  },
  {
   "cell_type": "markdown",
   "metadata": {
    "heading_collapsed": true
   },
   "source": [
    "## Step3. Check overlap and common support"
   ]
  },
  {
   "cell_type": "code",
   "execution_count": null,
   "metadata": {
    "hidden": true
   },
   "outputs": [],
   "source": []
  },
  {
   "cell_type": "code",
   "execution_count": null,
   "metadata": {
    "hidden": true
   },
   "outputs": [],
   "source": []
  },
  {
   "cell_type": "markdown",
   "metadata": {},
   "source": [
    "## Step4. Assessing the Matching Quality"
   ]
  },
  {
   "cell_type": "markdown",
   "metadata": {
    "heading_collapsed": true
   },
   "source": [
    "### Type4-1. Standardised Bias / Standardized DIfferences"
   ]
  },
  {
   "cell_type": "markdown",
   "metadata": {
    "hidden": true
   },
   "source": [
    "\\begin{align}\n",
    "smd = \\frac{\\bar{X}_t - \\bar{X}_c}{\\sqrt{(s^2_t + s^2_c) / 2}}\n",
    "\\end{align}"
   ]
  },
  {
   "cell_type": "markdown",
   "metadata": {
    "hidden": true
   },
   "source": [
    "**Pros:** Doesn't depend on sample size (compared with p-values)<br/>\n",
    "**Rules of thunb**:<br/>\n",
    "1.Coursera Version<br/>\n",
    "- Smaller than $0.1$: Adequate balance; For a randomized trial, the smd between all of the covariates should typically fall into this bucket.\n",
    "- $0.1$ - $0.2$: Not necessarily balanced, but small enough that people are usually not too worried about them.\n",
    "- Greater than $0.2$: Values that are greater than this threshold are considered seriously imbalanced.\n",
    "\n",
    "2.Paper Version<br/>\n",
    "- A bias reduction below 3% or 5% is seen as sufficient"
   ]
  },
  {
   "cell_type": "code",
   "execution_count": 34,
   "metadata": {
    "hidden": true
   },
   "outputs": [],
   "source": [
    "def assess_balance(trt_df, ctl_df, covariates):\n",
    "#     trt_df = trt\n",
    "#     ctl_df = ctl\n",
    "    t_stat = trt_df[covariates].describe().loc['mean':'std', :].T\n",
    "    c_stat = ctl_df[covariates].describe().loc['mean':'std', :].T\n",
    "    assess_df = pd.concat([t_stat.add_prefix('treated_'), c_stat.add_prefix('control_')], axis = 1)\n",
    "    assess_df['smd'] = abs((assess_df.treated_mean - assess_df.control_mean) / \n",
    "                       np.sqrt((assess_df.control_std**2+assess_df.treated_std**2)/2))\n",
    "    \n",
    "    return assess_df"
   ]
  },
  {
   "cell_type": "code",
   "execution_count": null,
   "metadata": {
    "hidden": true
   },
   "outputs": [],
   "source": []
  },
  {
   "cell_type": "markdown",
   "metadata": {
    "heading_collapsed": true
   },
   "source": [
    "### Type4-2. Pseudo-R^2"
   ]
  },
  {
   "cell_type": "code",
   "execution_count": null,
   "metadata": {
    "hidden": true
   },
   "outputs": [],
   "source": []
  },
  {
   "cell_type": "markdown",
   "metadata": {
    "heading_collapsed": true
   },
   "source": [
    "## Step5. Calculation of Treatment Effects"
   ]
  },
  {
   "cell_type": "code",
   "execution_count": null,
   "metadata": {
    "hidden": true
   },
   "outputs": [],
   "source": []
  },
  {
   "cell_type": "code",
   "execution_count": null,
   "metadata": {
    "hidden": true
   },
   "outputs": [],
   "source": []
  },
  {
   "cell_type": "markdown",
   "metadata": {},
   "source": [
    "## Step6. Sensitivity Analysis"
   ]
  },
  {
   "cell_type": "code",
   "execution_count": null,
   "metadata": {},
   "outputs": [],
   "source": []
  },
  {
   "cell_type": "code",
   "execution_count": null,
   "metadata": {},
   "outputs": [],
   "source": []
  }
 ],
 "metadata": {
  "kernelspec": {
   "display_name": "Python 3",
   "language": "python",
   "name": "python3"
  },
  "language_info": {
   "codemirror_mode": {
    "name": "ipython",
    "version": 3
   },
   "file_extension": ".py",
   "mimetype": "text/x-python",
   "name": "python",
   "nbconvert_exporter": "python",
   "pygments_lexer": "ipython3",
   "version": "3.7.3"
  }
 },
 "nbformat": 4,
 "nbformat_minor": 2
}
